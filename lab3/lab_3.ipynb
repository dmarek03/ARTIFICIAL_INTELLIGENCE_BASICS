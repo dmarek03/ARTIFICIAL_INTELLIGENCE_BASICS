{
 "cells": [
  {
   "cell_type": "markdown",
   "metadata": {},
   "source": [
    "# Sieci neuronowe"
   ]
  },
  {
   "cell_type": "markdown",
   "metadata": {},
   "source": [
    "## Wstęp\n",
    "\n",
    "Celem laboratorium jest zapoznanie się z podstawami sieci neuronowych oraz uczeniem głębokim (*deep learning*). Zapoznasz się na nim z następującymi tematami:\n",
    "- treningiem prostych sieci neuronowych, w szczególności z:\n",
    "  - regresją liniową w sieciach neuronowych\n",
    "  - optymalizacją funkcji kosztu\n",
    "  - algorytmem spadku wzdłuż gradientu\n",
    "  - siecią typu Multilayer Perceptron (MLP)\n",
    "- frameworkiem PyTorch, w szczególności z:\n",
    "  - ładowaniem danych\n",
    "  - preprocessingiem danych\n",
    "  - pisaniem pętli treningowej i walidacyjnej\n",
    "  - walidacją modeli\n",
    "- architekturą i hiperaprametrami sieci MLP, w szczególności z:\n",
    "  - warstwami gęstymi (w pełni połączonymi)\n",
    "  - funkcjami aktywacji\n",
    "  - regularyzacją: L2, dropout"
   ]
  },
  {
   "cell_type": "markdown",
   "metadata": {},
   "source": [
    "## Wykorzystywane biblioteki\n",
    "\n",
    "Zaczniemy od pisania ręcznie prostych sieci w bibliotece Numpy, służącej do obliczeń numerycznych na CPU. Później przejdziemy do wykorzystywania frameworka PyTorch, służącego do obliczeń numerycznych na CPU, GPU oraz automatycznego różniczkowania, wykorzystywanego głównie do treningu sieci neuronowych.\n",
    "\n",
    "Wykorzystamy PyTorcha ze względu na popularność, łatwość instalacji i użycia, oraz dużą kontrolę nad niskopoziomowymi aspektami budowy i treningu sieci neuronowych. Framework ten został stworzony do zastosowań badawczych i naukowych, ale ze względu na wygodę użycia stał się bardzo popularny także w przemyśle. W szczególności całkowicie zdominował przetwarzanie języka naturalnego (NLP) oraz uczenie na grafach.\n",
    "\n",
    "Pierwszy duży framework do deep learningu, oraz obecnie najpopularniejszy, to TensorFlow, wraz z wysokopoziomową nakładką Keras. Są jednak szanse, że Google (autorzy) będzie go powoli porzucać na rzecz ich nowego frameworka JAX ([dyskusja](https://www.reddit.com/r/MachineLearning/comments/vfl57t/d_google_quietly_moving_its_products_from/), [artykuł Business Insidera](https://www.businessinsider.com/facebook-pytorch-beat-google-tensorflow-jax-meta-ai-2022-6?IR=T)), który jest bardzo świeżym, ale ciekawym narzędziem.\n",
    "\n",
    "Trzecia, ale znacznie mniej popularna od powyższych opcja to Apache MXNet."
   ]
  },
  {
   "cell_type": "markdown",
   "metadata": {},
   "source": [
    "## Konfiguracja własnego komputera\n",
    "\n",
    "Jeżeli korzystasz z własnego komputera, to musisz zainstalować trochę więcej bibliotek (Google Colab ma je już zainstalowane).\n",
    "\n",
    "Jeżeli nie masz GPU lub nie chcesz z niego korzystać, to wystarczy znaleźć odpowiednią komendę CPU [na stronie PyTorcha](https://pytorch.org/get-started/locally/). Dla Anacondy odpowiednia komenda została podana poniżej, dla pip'a znajdź ją na stronie.\n",
    "\n",
    "Jeżeli chcesz korzystać ze wsparcia GPU (na tym laboratorium nie będzie potrzebne, na kolejnych może przyspieszyć nieco obliczenia), to musi być to odpowiednio nowa karta NVidii, mająca CUDA compatibility ([lista](https://developer.nvidia.com/cuda-gpus)). Poza PyTorchem będzie potrzebne narzędzie NVidia CUDA w wersji 11.6 lub 11.7. Instalacja na Windowsie jest bardzo prosta (wystarczy ściągnąć plik EXE i zainstalować jak każdy inny program). Instalacja na Linuxie jest trudna i można względnie łatwo zepsuć sobie system, ale jeżeli chcesz spróbować, to [ten tutorial](https://www.youtube.com/results?search_query=nvidia+cuda+install+ubuntu+20.04) jest bardzo dobry."
   ]
  },
  {
   "cell_type": "markdown",
   "metadata": {
    "id": "Othm3C2lLAsj"
   },
   "source": [
    "## Wprowadzenie\n",
    "\n",
    "Zanim zaczniemy naszą przygodę z sieciami neuronowymi, przyjrzyjmy się prostemu przykładowi regresji liniowej na syntetycznych danych:"
   ]
  },
  {
   "cell_type": "code",
   "metadata": {
    "id": "rnJsfxbnLAsj",
    "ExecuteTime": {
     "end_time": "2024-11-24T11:50:05.294134Z",
     "start_time": "2024-11-24T11:50:05.274786Z"
    }
   },
   "source": [
    "from typing import Tuple, Dict, Any\n",
    "import numpy as np\n",
    "import matplotlib.pyplot as plt"
   ],
   "outputs": [],
   "execution_count": 10
  },
  {
   "cell_type": "code",
   "metadata": {
    "colab": {
     "base_uri": "https://localhost:8080/",
     "height": 282
    },
    "id": "EaYpEXzBLAsl",
    "outputId": "2f8d2922-72f0-4d38-8548-d1262adf522e",
    "ExecuteTime": {
     "end_time": "2024-11-24T11:50:21.280136Z",
     "start_time": "2024-11-24T11:50:21.137415Z"
    }
   },
   "source": [
    "np.random.seed(0)\n",
    "\n",
    "x = np.linspace(0, 1, 100)\n",
    "y = x + np.random.normal(scale=0.1, size=x.shape)\n",
    "\n",
    "plt.scatter(x, y)"
   ],
   "outputs": [
    {
     "data": {
      "text/plain": [
       "<matplotlib.collections.PathCollection at 0x1a15fdf8990>"
      ]
     },
     "execution_count": 11,
     "metadata": {},
     "output_type": "execute_result"
    },
    {
     "data": {
      "text/plain": [
       "<Figure size 640x480 with 1 Axes>"
      ],
      "image/png": "[encoded data removed]"
     },
     "metadata": {},
     "output_type": "display_data"
    }
   ],
   "execution_count": 11
  },
  {
   "cell_type": "markdown",
   "metadata": {
    "editable": true,
    "id": "PEM_-yKELAsl",
    "slideshow": {
     "slide_type": ""
    },
    "tags": []
   },
   "source": [
    "W przeciwieństwie do laboratorium 1, tym razem będziemy chcieli rozwiązać ten problem własnoręcznie, bez użycia wysokopoziomowego interfejsu Scikit-learn'a. W tym celu musimy sobie przypomnieć sformułowanie naszego **problemu optymalizacyjnego (optimization problem)**.\n",
    "\n",
    "W przypadku prostej regresji liniowej (1 zmienna) mamy model postaci $\\hat{y} = \\alpha x + \\beta$, z dwoma parametrami, których będziemy się uczyć. Miarą niedopasowania modelu o danych parametrach jest **funkcja kosztu (cost function)**, nazywana też funkcją celu. Najczęściej używa się **błędu średniokwadratowego (mean squared error, MSE)**:\n",
    "$$\\large\n",
    "MSE = \\frac{1}{N} \\sum_{i}^{N} (y - \\hat{y})^2\n",
    "$$\n",
    "\n",
    "Od jakich $\\alpha$ i $\\beta$ zacząć? W najprostszym wypadku wystarczy po prostu je wylosować jako niewielkie liczby zmiennoprzecinkowe."
   ]
  },
  {
   "cell_type": "markdown",
   "metadata": {
    "editable": true,
    "id": "PEM_-yKELAsl",
    "slideshow": {
     "slide_type": ""
    },
    "tags": [
     "ex"
    ]
   },
   "source": [
    "### Zadanie 1 (0.5 punkt)\n",
    "\n",
    "Uzupełnij kod funkcji `mse`, obliczającej błąd średniokwadratowy. Wykorzystaj Numpy'a w celu wektoryzacji obliczeń dla wydajności."
   ]
  },
  {
   "cell_type": "code",
   "metadata": {
    "colab": {
     "base_uri": "https://localhost:8080/"
    },
    "editable": true,
    "id": "RaA7Q46TLAsm",
    "outputId": "5c57fe58-1934-4d21-9a7b-d14e9a23140b",
    "slideshow": {
     "slide_type": ""
    },
    "tags": [
     "ex"
    ],
    "ExecuteTime": {
     "end_time": "2024-11-24T11:29:26.743739Z",
     "start_time": "2024-11-24T11:29:26.725588Z"
    }
   },
   "source": [
    "def mse(y: np.ndarray, y_hat: np.ndarray) -> float:\n",
    "    # implement me!\n",
    "    # your_code\n",
    "    n = len(y)\n",
    "    mean_squared_error = 0\n",
    "    for i in range(n):\n",
    "        mean_squared_error += (y[i] - y_hat[i]) ** 2\n",
    "\n",
    "    return mean_squared_error / n"
   ],
   "outputs": [],
   "execution_count": 3
  },
  {
   "cell_type": "code",
   "metadata": {
    "colab": {
     "base_uri": "https://localhost:8080/",
     "height": 282
    },
    "editable": true,
    "id": "qSGfamGbLAsm",
    "outputId": "733ce15f-ae75-466b-e7ee-eb3c9d9d534c",
    "slideshow": {
     "slide_type": ""
    },
    "tags": [
     "ex"
    ],
    "ExecuteTime": {
     "end_time": "2024-11-19T12:44:12.789802Z",
     "start_time": "2024-11-19T12:44:12.665810Z"
    }
   },
   "source": [
    "a = np.random.rand()\n",
    "b = np.random.rand()\n",
    "print(f\"MSE: {mse(y, a * x + b):.3f}\")\n",
    "\n",
    "plt.scatter(x, y)\n",
    "plt.plot(x, a * x + b, color=\"g\", linewidth=4)"
   ],
   "outputs": [
    {
     "name": "stdout",
     "output_type": "stream",
     "text": [
      "MSE: 0.133\n"
     ]
    },
    {
     "data": {
      "text/plain": [
       "[<matplotlib.lines.Line2D at 0x176b8f2f1d0>]"
      ]
     },
     "execution_count": 4,
     "metadata": {},
     "output_type": "execute_result"
    },
    {
     "data": {
      "text/plain": [
       "<Figure size 640x480 with 1 Axes>"
      ],
      "image/png": "[encoded data removed]"
     },
     "metadata": {},
     "output_type": "display_data"
    }
   ],
   "execution_count": 4
  },
  {
   "cell_type": "markdown",
   "metadata": {
    "id": "Y--E9Mp9LAsn"
   },
   "source": [
    "Losowe parametry radzą sobie nie najlepiej. Jak lepiej dopasować naszą prostą do danych? Zawsze możemy starać się wyprowadzić rozwiązanie analitycznie, i w tym wypadku nawet nam się uda. Jest to jednak szczególny i dość rzadki przypadek, a w szczególności nie będzie to możliwe w większych sieciach neuronowych.\n",
    "\n",
    "Potrzebna nam będzie **metoda optymalizacji (optimization method)**, dającą wartości parametrów minimalizujące dowolną różniczkowalną funkcję kosztu. Zdecydowanie najpopularniejszy jest tutaj **spadek wzdłuż gradientu (gradient descent)**.\n",
    "\n",
    "Metoda ta wywodzi się z prostych obserwacji, które tutaj przedstawimy. Bardziej szczegółowe rozwinięcie dla zainteresowanych: [sekcja 4.3 \"Deep Learning Book\"](https://www.deeplearningbook.org/contents/numerical.html), [ten praktyczny kurs](https://cs231n.github.io/optimization-1/), [analiza oryginalnej publikacji Cauchy'ego](https://www.math.uni-bielefeld.de/documenta/vol-ismp/40_lemarechal-claude.pdf) (oryginał w języku francuskim).\n",
    "\n",
    "Pochodna jest dokładnie równa granicy funkcji. Dla małego $\\epsilon$ można ją przybliżyć jako:\n",
    "$$\\large\n",
    "\\frac{f(x)}{dx} \\approx \\frac{f(x+\\epsilon) - f(x)}{\\epsilon}\n",
    "$$\n",
    "\n",
    "Przyglądając się temu równaniu widzimy, że: \n",
    "* dla funkcji rosnącej ($f(x+\\epsilon) > f(x)$) wyrażenie $\\frac{f(x)}{dx}$ będzie miało znak dodatni \n",
    "* dla funkcji malejącej ($f(x+\\epsilon) < f(x)$) wyrażenie $\\frac{f(x)}{dx}$ będzie miało znak ujemny \n",
    "\n",
    "Widzimy więc, że potrafimy wskazać kierunek zmniejszenia wartości funkcji, patrząc na znak pochodnej. Zaobserwowano także, że amplituda wartości w $\\frac{f(x)}{dx}$ jest tym większa, im dalej jesteśmy od minimum (maximum). Pochodna wyznacza więc, w jakim kierunku funkcja najszybciej rośnie, zaś przeciwny zwrot to ten, w którym funkcja najszybciej spada.\n",
    "\n",
    "Stosując powyższe do optymalizacji, mamy:\n",
    "$$\\large\n",
    "x_{t+1} = x_{t} -  \\alpha * \\frac{f(x)}{dx}\n",
    "$$\n",
    "\n",
    "$\\alpha$ to niewielka wartość (rzędu zwykle $10^{-5}$ - $10^{-2}$), wprowadzona, aby trzymać się założenia o małej zmianie parametrów ($\\epsilon$). Nazywa się ją **stałą uczącą (learning rate)** i jest zwykle najważniejszym hiperparametrem podczas nauki sieci.\n",
    "\n",
    "Metoda ta zakłada, że używamy całego zbioru danych do aktualizacji parametrów w każdym kroku, co nazywa się po prostu GD (od *gradient descent*) albo *full batch GD*. Wtedy każdy krok optymalizacji nazywa się **epoką (epoch)**.\n",
    "\n",
    "Im większa stała ucząca, tym większe nasze kroki podczas minimalizacji. Możemy więc uczyć szybciej, ale istnieje ryzyko, że będziemy \"przeskakiwać\" minima. Mniejsza stała ucząca to wolniejszy, ale dokładniejszy trening. Jednak nie zawsze ona pozwala osiągnąć lepsze wyniki, bo może okazać się, że utkniemy w minimum lokalnym. Można także zmieniać stałą uczącą podczas treningu, co nazywa się **learning rate scheduling (LR scheduling)**. Obrazowo:\n",
    "\n",
    "![learning_rate](http://www.bdhammel.com/assets/learning-rate/lr-types.png)"
   ]
  },
  {
   "metadata": {
    "ExecuteTime": {
     "end_time": "2024-11-19T12:44:12.796527Z",
     "start_time": "2024-11-19T12:44:12.789802Z"
    }
   },
   "cell_type": "code",
   "source": [
    "from IPython.display import Image, display\n",
    "\n",
    "\n",
    "display(\n",
    "    Image(url=\"http://cdn-images-1.medium.com/max/640/1*eeIvlwkMNG1wSmj3FR6M2g.gif\")\n",
    ")"
   ],
   "outputs": [
    {
     "data": {
      "text/html": [
       "<img src=\"http://cdn-images-1.medium.com/max/640/1*eeIvlwkMNG1wSmj3FR6M2g.gif\"/>"
      ],
      "text/plain": [
       "<IPython.core.display.Image object>"
      ]
     },
     "metadata": {},
     "output_type": "display_data"
    }
   ],
   "execution_count": 5
  },
  {
   "cell_type": "markdown",
   "metadata": {
    "id": "RYkyAHKzLAsp"
   },
   "source": [
    "Policzmy więc pochodną dla naszej funkcji kosztu MSE. Pochodną liczymy po parametrach naszego modelu, bo to właśnie ich chcemy dopasować tak, żeby koszt był jak najmniejszy:\n",
    "\n",
    "$$\\large\n",
    "MSE = \\frac{1}{N} \\sum_{i}^{N} (y_i - \\hat{y_i})^2\n",
    "$$\n",
    "\n",
    "W powyższym wzorze tylko $y_i$ jest zależny od $a$ oraz $b$. Możemy wykorzystać tu regułę łańcuchową (*chain rule*) i policzyć pochodne po naszych parametrach w sposób następujący:\n",
    "\n",
    "$$\\large\n",
    "\\frac{\\text{d} MSE}{\\text{d} a} = \\frac{1}{N} \\sum_{i}^{N} \\frac{\\text{d} (y_i - \\hat{y_i})^2}{\\text{d} \\hat{y_i}} \\frac{\\text{d} \\hat{y_i}}{\\text{d} a}\n",
    "$$\n",
    "\n",
    "$$\\large\n",
    "\\frac{\\text{d} MSE}{\\text{d} b} = \\frac{1}{N} \\sum_{i}^{N} \\frac{\\text{d} (y_i - \\hat{y_i})^2}{\\text{d} \\hat{y_i}} \\frac{\\text{d} \\hat{y_i}}{\\text{d} b}\n",
    "$$\n",
    "\n",
    "Policzmy te pochodne po kolei:\n",
    "\n",
    "$$\\large\n",
    "\\frac{\\text{d} (y_i - \\hat{y_i})^2}{\\text{d} \\hat{y_i}} = -2 \\cdot (y_i - \\hat{y_i})\n",
    "$$\n",
    "\n",
    "$$\\large\n",
    "\\frac{\\text{d} \\hat{y_i}}{\\text{d} a} = x_i\n",
    "$$\n",
    "\n",
    "$$\\large\n",
    "\\frac{\\text{d} \\hat{y_i}}{\\text{d} b} = 1\n",
    "$$\n",
    "\n",
    "Łącząc powyższe wyniki dostaniemy:\n",
    "\n",
    "$$\\large\n",
    "\\frac{\\text{d} MSE}{\\text{d} a} = \\frac{-2}{N} \\sum_{i}^{N} (y_i - \\hat{y_i}) \\cdot {x_i}\n",
    "$$\n",
    "\n",
    "$$\\large\n",
    "\\frac{\\text{d} MSE}{\\text{d} b} = \\frac{-2}{N} \\sum_{i}^{N} (y_i - \\hat{y_i})\n",
    "$$\n",
    "\n",
    "Aktualizacja parametrów wygląda tak:\n",
    "\n",
    "$$\\large\n",
    "a' = a - \\alpha * \\left( \\frac{-2}{N} \\sum_{i=1}^N (y_i - \\hat{y}_i) \\cdot x_i \\right)\n",
    "$$\n",
    "$$\\large\n",
    "b' = b - \\alpha * \\left( \\frac{-2}{N} \\sum_{i=1}^N (y_i - \\hat{y}_i) \\right)\n",
    "$$\n",
    "\n",
    "Liczymy więc pochodną funkcji kosztu, a potem za pomocą reguły łańcuchowej \"cofamy się\", dochodząc do tego, jak każdy z parametrów wpływa na błąd i w jaki sposób powinniśmy go zmienić. Nazywa się to **propagacją wsteczną (backpropagation)** i jest podstawowym mechanizmem umożliwiającym naukę sieci neuronowych za pomocą spadku wzdłuż gradientu. Więcej możesz o tym przeczytać [tutaj](https://cs231n.github.io/optimization-2/)."
   ]
  },
  {
   "cell_type": "markdown",
   "metadata": {
    "editable": true,
    "slideshow": {
     "slide_type": ""
    },
    "tags": [
     "ex"
    ]
   },
   "source": [
    "### Zadanie 2 (1.0 punkt)\n",
    "\n",
    "Zaimplementuj funkcję realizującą jedną epokę treningową. Zauważ, że `x` oraz `y` są wektorami. Oblicz predykcję przy aktualnych parametrach oraz zaktualizuj je zgodnie z powyższymi wzorami."
   ]
  },
  {
   "cell_type": "code",
   "metadata": {
    "colab": {
     "base_uri": "https://localhost:8080/"
    },
    "editable": true,
    "id": "4qbdWOSULAsp",
    "outputId": "055607ae-87aa-470a-e6da-25682c82d470",
    "slideshow": {
     "slide_type": ""
    },
    "tags": [
     "ex"
    ],
    "ExecuteTime": {
     "end_time": "2024-11-19T12:44:12.803232Z",
     "start_time": "2024-11-19T12:44:12.796527Z"
    }
   },
   "source": [
    "def optimize(\n",
    "    x: np.ndarray, y: np.ndarray, a: float, b: float, learning_rate: float = 0.1\n",
    "):\n",
    "    y_hat = a * x + b\n",
    "    errors = y - y_hat\n",
    "    # implement me!\n",
    "    # your_code\n",
    "\n",
    "    n = len(x)\n",
    "\n",
    "    a -= learning_rate * (-2 / n * np.sum(errors * x))\n",
    "    b -= learning_rate * (-2 / n * np.sum(errors))\n",
    "\n",
    "    return a, b"
   ],
   "outputs": [],
   "execution_count": 6
  },
  {
   "cell_type": "code",
   "metadata": {
    "editable": true,
    "slideshow": {
     "slide_type": ""
    },
    "tags": [
     "ex"
    ],
    "ExecuteTime": {
     "end_time": "2024-11-19T12:44:12.868038Z",
     "start_time": "2024-11-19T12:44:12.803232Z"
    }
   },
   "source": [
    "for i in range(1000):\n",
    "    loss = mse(y, a * x + b)\n",
    "    a, b = optimize(x, y, a, b)\n",
    "    if i % 100 == 0:\n",
    "        print(f\"step {i} loss: \", loss)\n",
    "\n",
    "print(\"final loss:\", loss)"
   ],
   "outputs": [
    {
     "name": "stdout",
     "output_type": "stream",
     "text": [
      "step 0 loss:  0.1330225119404028\n",
      "step 100 loss:  0.012673197778527674\n",
      "step 200 loss:  0.010257153540857815\n",
      "step 300 loss:  0.0100948037549359\n",
      "step 400 loss:  0.01008389441288912\n",
      "step 500 loss:  0.01008316134297333\n",
      "step 600 loss:  0.010083112083219707\n",
      "step 700 loss:  0.010083108773135263\n",
      "step 800 loss:  0.01008310855070908\n",
      "step 900 loss:  0.010083108535762813\n",
      "final loss: 0.01008310853476045\n"
     ]
    }
   ],
   "execution_count": 7
  },
  {
   "cell_type": "code",
   "metadata": {
    "tags": [
     "ex"
    ],
    "ExecuteTime": {
     "end_time": "2024-11-19T12:44:12.874310Z",
     "start_time": "2024-11-19T12:44:12.868038Z"
    }
   },
   "source": [
    "assert 0.0 < loss < 2.0\n",
    "\n",
    "print(\"Solution is correct!\")"
   ],
   "outputs": [
    {
     "name": "stdout",
     "output_type": "stream",
     "text": [
      "Solution is correct!\n"
     ]
    }
   ],
   "execution_count": 8
  },
  {
   "cell_type": "code",
   "metadata": {
    "colab": {
     "base_uri": "https://localhost:8080/",
     "height": 282
    },
    "editable": true,
    "id": "xOgRcPC1LAsq",
    "outputId": "85b0b3e4-aa0d-467a-d8ff-5f01be17b243",
    "slideshow": {
     "slide_type": ""
    },
    "tags": [
     "ex"
    ],
    "ExecuteTime": {
     "end_time": "2024-11-19T12:44:13.001773Z",
     "start_time": "2024-11-19T12:44:12.874310Z"
    }
   },
   "source": [
    "plt.scatter(x, y)\n",
    "plt.plot(x, a * x + b, color=\"g\", linewidth=4)"
   ],
   "outputs": [
    {
     "data": {
      "text/plain": [
       "[<matplotlib.lines.Line2D at 0x176bc0c8510>]"
      ]
     },
     "execution_count": 9,
     "metadata": {},
     "output_type": "execute_result"
    },
    {
     "data": {
      "text/plain": [
       "<Figure size 640x480 with 1 Axes>"
      ],
      "image/png": "[encoded data removed]"
     },
     "metadata": {},
     "output_type": "display_data"
    }
   ],
   "execution_count": 9
  },
  {
   "cell_type": "markdown",
   "metadata": {
    "id": "vOr2fWYpLAsq"
   },
   "source": [
    "Udało ci się wytrenować swoją pierwszą sieć neuronową. Czemu? Otóż neuron to po prostu wektor parametrów, a zwykle robimy iloczyn skalarny tych parametrów z wejściem. Dodatkowo na wyjście nakłada się **funkcję aktywacji (activation function)**, która przekształca wyjście. Tutaj takiej nie było, a właściwie była to po prostu funkcja identyczności.\n",
    "\n",
    "Oczywiście w praktyce korzystamy z odpowiedniego frameworka, który w szczególności:\n",
    "- ułatwia budowanie sieci, np. ma gotowe klasy dla warstw neuronów\n",
    "- ma zaimplementowane funkcje kosztu oraz ich pochodne\n",
    "- sam różniczkuje ze względu na odpowiednie parametry i aktualizuje je odpowiednio podczas treningu\n"
   ]
  },
  {
   "cell_type": "markdown",
   "metadata": {
    "id": "NJBYJabuLAsr"
   },
   "source": [
    "## Wprowadzenie do PyTorcha"
   ]
  },
  {
   "cell_type": "markdown",
   "metadata": {
    "id": "EB-99XqhLAsr"
   },
   "source": [
    "PyTorch to w gruncie rzeczy narzędzie do algebry liniowej z [automatycznym rożniczkowaniem](https://pytorch.org/tutorials/beginner/blitz/autograd_tutorial.html), z możliwością przyspieszenia obliczeń z pomocą GPU. Na tych fundamentach zbudowany jest pełny framework do uczenia głębokiego. Można spotkać się ze stwierdzenie, że PyTorch to NumPy + GPU + opcjonalne różniczkowanie, co jest całkiem celne. Plus można łatwo debugować printem :)\n",
    "\n",
    "PyTorch używa dynamicznego grafu obliczeń, który sami definiujemy w kodzie. Takie podejście jest bardzo wygodne, elastyczne i pozwala na łatwe eksperymentowanie. Odbywa się to potencjalnie kosztem wydajności, ponieważ pozostawia kwestię optymalizacji programiście. Więcej na ten temat dla zainteresowanych na końcu laboratorium.\n",
    "\n",
    "Samo API PyTorcha bardzo przypomina Numpy'a, a podstawowym obiektem jest `Tensor`, klasa reprezentująca tensory dowolnego wymiaru. Dodatkowo niektóre tensory będą miały automatycznie obliczony gradient. Co ważne, tensor jest na pewnym urządzeniu, CPU lub GPU, a przenosić między nimi trzeba explicite.\n",
    "\n",
    "Najważniejsze moduły:\n",
    "- `torch` - podstawowe klasy oraz funkcje, np. `Tensor`, `from_numpy()`\n",
    "- `torch.nn` - klasy związane z sieciami neuronowymi, np. `Linear`, `Sigmoid`\n",
    "- `torch.optim` - wszystko związane z optymalizacją, głównie spadkiem wzdłuż gradientu"
   ]
  },
  {
   "cell_type": "code",
   "metadata": {
    "id": "FwuIt8S-LAss",
    "ExecuteTime": {
     "end_time": "2024-11-19T12:44:17.600972Z",
     "start_time": "2024-11-19T12:44:13.004784Z"
    }
   },
   "source": [
    "import torch\n",
    "import torch.nn as nn\n",
    "import torch.optim as optim"
   ],
   "outputs": [],
   "execution_count": 10
  },
  {
   "cell_type": "code",
   "metadata": {
    "colab": {
     "base_uri": "https://localhost:8080/"
    },
    "editable": true,
    "id": "bfCiUFXULAss",
    "outputId": "83f6231d-ecc4-461a-b758-fdc4bc2a88a4",
    "slideshow": {
     "slide_type": ""
    },
    "tags": [],
    "ExecuteTime": {
     "end_time": "2024-11-19T12:44:17.616445Z",
     "start_time": "2024-11-19T12:44:17.602007Z"
    }
   },
   "source": [
    "ones = torch.ones(10)\n",
    "noise = torch.ones(10) * torch.rand(10)\n",
    "\n",
    "# elementwise sum\n",
    "print(ones + noise)\n",
    "\n",
    "# elementwise multiplication\n",
    "print(ones * noise)\n",
    "\n",
    "# dot product\n",
    "print(ones @ noise)"
   ],
   "outputs": [
    {
     "name": "stdout",
     "output_type": "stream",
     "text": [
      "tensor([1.7922, 1.8458, 1.3142, 1.6409, 1.4506, 1.8759, 1.9515, 1.3422, 1.1933,\n",
      "        1.8596])\n",
      "tensor([0.7922, 0.8458, 0.3142, 0.6409, 0.4506, 0.8759, 0.9515, 0.3422, 0.1933,\n",
      "        0.8596])\n",
      "tensor(6.2663)\n"
     ]
    }
   ],
   "execution_count": 11
  },
  {
   "cell_type": "code",
   "metadata": {
    "editable": true,
    "slideshow": {
     "slide_type": ""
    },
    "tags": [],
    "ExecuteTime": {
     "end_time": "2024-11-19T12:44:17.623376Z",
     "start_time": "2024-11-19T12:44:17.617521Z"
    }
   },
   "source": [
    "type(x)"
   ],
   "outputs": [
    {
     "data": {
      "text/plain": [
       "numpy.ndarray"
      ]
     },
     "execution_count": 12,
     "metadata": {},
     "output_type": "execute_result"
    }
   ],
   "execution_count": 12
  },
  {
   "cell_type": "code",
   "metadata": {
    "editable": true,
    "id": "ynNd_kD0LAst",
    "slideshow": {
     "slide_type": ""
    },
    "tags": [],
    "ExecuteTime": {
     "end_time": "2024-11-19T12:44:17.628530Z",
     "start_time": "2024-11-19T12:44:17.623376Z"
    }
   },
   "source": [
    "# beware - shares memory with original Numpy array!\n",
    "# very fast, but modifications are visible to original variable\n",
    "x = torch.from_numpy(x)\n",
    "y = torch.from_numpy(y)"
   ],
   "outputs": [],
   "execution_count": 13
  },
  {
   "cell_type": "markdown",
   "metadata": {
    "editable": true,
    "id": "W9kkxczELAsu",
    "slideshow": {
     "slide_type": ""
    },
    "tags": []
   },
   "source": [
    "Jeżeli dla stworzonych przez nas tensorów chcemy śledzić operacje i obliczać gradient, to musimy oznaczyć `requires_grad=True`."
   ]
  },
  {
   "cell_type": "code",
   "metadata": {
    "colab": {
     "base_uri": "https://localhost:8080/"
    },
    "editable": true,
    "id": "8HtZL-KfLAsu",
    "outputId": "47c6d930-5678-452a-95bc-227935138b40",
    "slideshow": {
     "slide_type": ""
    },
    "tags": [],
    "ExecuteTime": {
     "end_time": "2024-11-19T12:44:17.637826Z",
     "start_time": "2024-11-19T12:44:17.628530Z"
    }
   },
   "source": [
    "a = torch.rand(1, requires_grad=True)\n",
    "b = torch.rand(1, requires_grad=True)\n",
    "a, b"
   ],
   "outputs": [
    {
     "data": {
      "text/plain": [
       "(tensor([0.7578], requires_grad=True), tensor([0.9753], requires_grad=True))"
      ]
     },
     "execution_count": 14,
     "metadata": {},
     "output_type": "execute_result"
    }
   ],
   "execution_count": 14
  },
  {
   "cell_type": "markdown",
   "metadata": {
    "editable": true,
    "id": "Nl1guWZ_LAsv",
    "slideshow": {
     "slide_type": ""
    },
    "tags": []
   },
   "source": [
    "PyTorch zawiera większość powszechnie używanych funkcji kosztu, np. MSE. Mogą być one używane na 2 sposoby, z czego pierwszy jest popularniejszy:\n",
    "- jako klasy wywoływalne z modułu `torch.nn`\n",
    "- jako funkcje z modułu `torch.nn.functional`\n",
    "\n",
    "Po wykonaniu poniższego kodu widzimy, że zwraca on nam tensor z dodatkowymi atrybutami. Co ważne, jest to skalar (0-wymiarowy tensor), bo potrzebujemy zwyczajnej liczby do obliczania propagacji wstecznych (pochodnych czątkowych)."
   ]
  },
  {
   "cell_type": "code",
   "metadata": {
    "editable": true,
    "slideshow": {
     "slide_type": ""
    },
    "tags": [],
    "ExecuteTime": {
     "end_time": "2024-11-19T12:44:17.645601Z",
     "start_time": "2024-11-19T12:44:17.637826Z"
    }
   },
   "source": [
    "mse = nn.MSELoss()\n",
    "mse(y, a * x + b)"
   ],
   "outputs": [
    {
     "data": {
      "text/plain": [
       "tensor(0.7334, dtype=torch.float64, grad_fn=<MseLossBackward0>)"
      ]
     },
     "execution_count": 15,
     "metadata": {},
     "output_type": "execute_result"
    }
   ],
   "execution_count": 15
  },
  {
   "cell_type": "markdown",
   "metadata": {
    "editable": true,
    "id": "vS35r49nLAsw",
    "slideshow": {
     "slide_type": ""
    },
    "tags": []
   },
   "source": [
    "Atrybutu `grad_fn` nie używamy wprost, bo korzysta z niego w środku PyTorch, ale widać, że tensor jest \"świadomy\", że liczy się na nim pochodną. Możemy natomiast skorzystać z atrybutu `grad`, który zawiera faktyczny gradient. Zanim go jednak dostaniemy, to trzeba powiedzieć PyTorchowi, żeby policzył gradient. Służy do tego metoda `.backward()`, wywoływana na obiekcie zwracanym przez funkcję kosztu."
   ]
  },
  {
   "cell_type": "code",
   "metadata": {
    "editable": true,
    "id": "Qb7l6Xg1LAsx",
    "slideshow": {
     "slide_type": ""
    },
    "tags": [],
    "ExecuteTime": {
     "end_time": "2024-11-19T12:44:18.696823Z",
     "start_time": "2024-11-19T12:44:17.645601Z"
    }
   },
   "source": [
    "loss = mse(y, a * x + b)\n",
    "loss.backward()"
   ],
   "outputs": [],
   "execution_count": 16
  },
  {
   "cell_type": "code",
   "metadata": {
    "colab": {
     "base_uri": "https://localhost:8080/"
    },
    "editable": true,
    "id": "6LfQbLVoLAsx",
    "outputId": "d5b87fb7-d284-423c-f467-b677384b2f67",
    "slideshow": {
     "slide_type": ""
    },
    "tags": [],
    "ExecuteTime": {
     "end_time": "2024-11-19T12:44:18.702660Z",
     "start_time": "2024-11-19T12:44:18.696823Z"
    }
   },
   "source": [
    "print(a.grad)"
   ],
   "outputs": [
    {
     "name": "stdout",
     "output_type": "stream",
     "text": [
      "tensor([0.8121])\n"
     ]
    }
   ],
   "execution_count": 17
  },
  {
   "cell_type": "markdown",
   "metadata": {
    "editable": true,
    "id": "Kdf1iweELAsy",
    "slideshow": {
     "slide_type": ""
    },
    "tags": []
   },
   "source": [
    "Ważne jest, że PyTorch nie liczy za każdym razem nowego gradientu, tylko dodaje go do istniejącego, czyli go akumuluje. Jest to przydatne w niektórych sieciach neuronowych, ale zazwyczaj trzeba go zerować. Jeżeli tego nie zrobimy, to dostaniemy coraz większe gradienty.\n",
    "\n",
    "Do zerowania służy metoda `.zero_()`. W PyTorchu wszystkie metody modyfikujące tensor w miejscu mają `_` na końcu nazwy. Jest to dość niskopoziomowa operacja dla pojedynczych tensorów - zobaczymy za chwilę, jak to robić łatwiej dla całej sieci."
   ]
  },
  {
   "cell_type": "code",
   "metadata": {
    "colab": {
     "base_uri": "https://localhost:8080/"
    },
    "editable": true,
    "id": "DiCQZKJsLAsy",
    "outputId": "2f779622-480d-43fc-b9d0-a0e36ff4b28b",
    "slideshow": {
     "slide_type": ""
    },
    "tags": [],
    "ExecuteTime": {
     "end_time": "2024-11-19T12:44:18.711535Z",
     "start_time": "2024-11-19T12:44:18.702660Z"
    }
   },
   "source": [
    "loss = mse(y, a * x + b)\n",
    "loss.backward()\n",
    "a.grad"
   ],
   "outputs": [
    {
     "data": {
      "text/plain": [
       "tensor([1.6242])"
      ]
     },
     "execution_count": 18,
     "metadata": {},
     "output_type": "execute_result"
    }
   ],
   "execution_count": 18
  },
  {
   "cell_type": "markdown",
   "metadata": {
    "editable": true,
    "id": "xNC3Ag8uLAsz",
    "slideshow": {
     "slide_type": ""
    },
    "tags": []
   },
   "source": [
    "Zobaczmy, jak wyglądałaby regresja liniowa, ale napisana w PyTorchu. Jest to oczywiście bardzo niskopoziomowa implementacja - za chwilę zobaczymy, jak to wygląda w praktyce."
   ]
  },
  {
   "cell_type": "code",
   "metadata": {
    "colab": {
     "base_uri": "https://localhost:8080/"
    },
    "editable": true,
    "id": "AKnxyeboLAsz",
    "outputId": "2f939474-901a-4773-9704-686a40ae6e8e",
    "slideshow": {
     "slide_type": ""
    },
    "tags": [],
    "ExecuteTime": {
     "end_time": "2024-11-19T12:44:18.958733Z",
     "start_time": "2024-11-19T12:44:18.711535Z"
    }
   },
   "source": [
    "learning_rate = 0.1\n",
    "for i in range(1000):\n",
    "    loss = mse(y, a * x + b)\n",
    "\n",
    "    # compute gradients\n",
    "    loss.backward()\n",
    "\n",
    "    # update parameters\n",
    "    a.data -= learning_rate * a.grad\n",
    "    b.data -= learning_rate * b.grad\n",
    "\n",
    "    # zero gradients\n",
    "    a.grad.data.zero_()\n",
    "    b.grad.data.zero_()\n",
    "\n",
    "    if i % 100 == 0:\n",
    "        print(f\"step {i} loss: \", loss)\n",
    "\n",
    "print(\"final loss:\", loss)"
   ],
   "outputs": [
    {
     "name": "stdout",
     "output_type": "stream",
     "text": [
      "step 0 loss:  tensor(0.7334, dtype=torch.float64, grad_fn=<MseLossBackward0>)\n",
      "step 100 loss:  tensor(0.0118, dtype=torch.float64, grad_fn=<MseLossBackward0>)\n",
      "step 200 loss:  tensor(0.0102, dtype=torch.float64, grad_fn=<MseLossBackward0>)\n",
      "step 300 loss:  tensor(0.0101, dtype=torch.float64, grad_fn=<MseLossBackward0>)\n",
      "step 400 loss:  tensor(0.0101, dtype=torch.float64, grad_fn=<MseLossBackward0>)\n",
      "step 500 loss:  tensor(0.0101, dtype=torch.float64, grad_fn=<MseLossBackward0>)\n",
      "step 600 loss:  tensor(0.0101, dtype=torch.float64, grad_fn=<MseLossBackward0>)\n",
      "step 700 loss:  tensor(0.0101, dtype=torch.float64, grad_fn=<MseLossBackward0>)\n",
      "step 800 loss:  tensor(0.0101, dtype=torch.float64, grad_fn=<MseLossBackward0>)\n",
      "step 900 loss:  tensor(0.0101, dtype=torch.float64, grad_fn=<MseLossBackward0>)\n",
      "final loss: tensor(0.0101, dtype=torch.float64, grad_fn=<MseLossBackward0>)\n"
     ]
    }
   ],
   "execution_count": 19
  },
  {
   "cell_type": "markdown",
   "metadata": {
    "editable": true,
    "id": "2DXNVhshmmI-",
    "slideshow": {
     "slide_type": ""
    },
    "tags": []
   },
   "source": [
    "Trening modeli w PyTorchu jest dosyć schematyczny i najczęściej rozdziela się go na kilka bloków, dających razem **pętlę uczącą (training loop)**, powtarzaną w każdej epoce:\n",
    "1. Forward pass - obliczenie predykcji sieci\n",
    "2. Loss calculation\n",
    "3. Backpropagation - obliczenie pochodnych oraz zerowanie gradientów\n",
    "4. Optimalization - aktualizacja wag\n",
    "5. Other - ewaluacja na zbiorze walidacyjnym, logging etc."
   ]
  },
  {
   "cell_type": "code",
   "metadata": {
    "colab": {
     "base_uri": "https://localhost:8080/"
    },
    "editable": true,
    "id": "2etpw7TNLAs0",
    "outputId": "8ac35c12-6c70-41ec-bf57-414456fc3c96",
    "scrolled": true,
    "slideshow": {
     "slide_type": ""
    },
    "tags": [],
    "ExecuteTime": {
     "end_time": "2024-11-19T12:44:20.913183Z",
     "start_time": "2024-11-19T12:44:18.959785Z"
    }
   },
   "source": [
    "# initialization\n",
    "learning_rate = 0.1\n",
    "a = torch.rand(1, requires_grad=True)\n",
    "b = torch.rand(1, requires_grad=True)\n",
    "optimizer = torch.optim.SGD([a, b], lr=learning_rate)\n",
    "best_loss = float(\"inf\")\n",
    "\n",
    "# training loop in each epoch\n",
    "for i in range(1000):\n",
    "    # forward pass\n",
    "    y_hat = a * x + b\n",
    "\n",
    "    # loss calculation\n",
    "    loss = mse(y, y_hat)\n",
    "\n",
    "    # backpropagation\n",
    "    loss.backward()\n",
    "\n",
    "    # optimization\n",
    "    optimizer.step()\n",
    "    optimizer.zero_grad()  # zeroes all gradients - very convenient!\n",
    "\n",
    "    if i % 100 == 0:\n",
    "        if loss < best_loss:\n",
    "            best_mlp_model = (a.clone(), b.clone())\n",
    "            best_loss = loss\n",
    "        print(f\"step {i} loss: {loss.item():.4f}\")\n",
    "\n",
    "print(\"final loss:\", loss)"
   ],
   "outputs": [
    {
     "name": "stdout",
     "output_type": "stream",
     "text": [
      "step 0 loss: 0.0309\n",
      "step 100 loss: 0.0111\n",
      "step 200 loss: 0.0102\n",
      "step 300 loss: 0.0101\n",
      "step 400 loss: 0.0101\n",
      "step 500 loss: 0.0101\n",
      "step 600 loss: 0.0101\n",
      "step 700 loss: 0.0101\n",
      "step 800 loss: 0.0101\n",
      "step 900 loss: 0.0101\n",
      "final loss: tensor(0.0101, dtype=torch.float64, grad_fn=<MseLossBackward0>)\n"
     ]
    }
   ],
   "execution_count": 20
  },
  {
   "cell_type": "markdown",
   "metadata": {
    "editable": true,
    "slideshow": {
     "slide_type": ""
    },
    "tags": []
   },
   "source": [
    "Przejdziemy teraz do budowy sieci neuronowej do klasyfikacji. Typowo implementuje się ją po prostu jako sieć dla regresji, ale zwracającą tyle wyników, ile mamy klas, a potem aplikuje się na tym funkcję sigmoidalną (2 klasy) lub softmax (>2 klasy). W przypadku klasyfikacji binarnej zwraca się czasem tylko 1 wartość, przepuszczaną przez sigmoidę - wtedy wyjście z sieci to prawdopodobieństwo klasy pozytywnej.\n",
    "\n",
    "Funkcją kosztu zwykle jest **entropia krzyżowa (cross-entropy)**, stosowana też w klasycznej regresji logistycznej. Co ważne, sieci neuronowe, nawet tak proste, uczą się szybciej i stabilniej, gdy dane na wejściu (a przynajmniej zmienne numeryczne) są **ustandaryzowane (standardized)**. Operacja ta polega na odjęciu średniej i podzieleniu przez odchylenie standardowe (tzw. *Z-score transformation*).\n",
    "\n",
    "**Uwaga - PyTorch wymaga tensora klas będącego liczbami zmiennoprzecinkowymi!**"
   ]
  },
  {
   "cell_type": "markdown",
   "metadata": {
    "editable": true,
    "slideshow": {
     "slide_type": ""
    },
    "tags": []
   },
   "source": [
    "## Zbiór danych"
   ]
  },
  {
   "cell_type": "markdown",
   "metadata": {
    "editable": true,
    "slideshow": {
     "slide_type": ""
    },
    "tags": []
   },
   "source": [
    "Na tym laboratorium wykorzystamy zbiór [Adult Census](https://archive.ics.uci.edu/ml/datasets/adult). Dotyczy on przewidywania na podstawie danych demograficznych, czy dany człowiek zarabia powyżej 50 tysięcy dolarów rocznie, czy też mniej. Jest to cenna informacja np. przy planowaniu kampanii marketingowych. Jak możesz się domyślić, zbiór pochodzi z czasów, kiedy inflacja była dużo niższa :)\n",
    "\n",
    "Poniżej znajduje się kod do ściągnięcia i preprocessingu zbioru. Nie musisz go dokładnie analizować."
   ]
  },
  {
   "cell_type": "code",
   "metadata": {
    "colab": {
     "base_uri": "https://localhost:8080/"
    },
    "editable": true,
    "id": "4DNsaZAnLAs0",
    "outputId": "70822008-530d-4173-deb9-8149a9fe5b41",
    "scrolled": true,
    "slideshow": {
     "slide_type": ""
    },
    "tags": [],
    "ExecuteTime": {
     "end_time": "2024-11-19T12:44:20.918347Z",
     "start_time": "2024-11-19T12:44:20.913183Z"
    }
   },
   "source": "#!wget https://archive.ics.uci.edu/ml/machine-learning-databases/adult/adult.data",
   "outputs": [],
   "execution_count": 21
  },
  {
   "cell_type": "code",
   "metadata": {
    "editable": true,
    "slideshow": {
     "slide_type": ""
    },
    "tags": [],
    "ExecuteTime": {
     "end_time": "2024-11-19T12:44:22.066221Z",
     "start_time": "2024-11-19T12:44:20.918347Z"
    }
   },
   "source": [
    "import pandas as pd\n",
    "\n",
    "\n",
    "columns = [\n",
    "    \"age\",\n",
    "    \"workclass\",\n",
    "    \"fnlwgt\",\n",
    "    \"education\",\n",
    "    \"education-num\",\n",
    "    \"marital-status\",\n",
    "    \"occupation\",\n",
    "    \"relationship\",\n",
    "    \"race\",\n",
    "    \"sex\",\n",
    "    \"capital-gain\",\n",
    "    \"capital-loss\",\n",
    "    \"hours-per-week\",\n",
    "    \"native-country\",\n",
    "    \"wage\",\n",
    "]\n",
    "\n",
    "\"\"\"\n",
    "age: continuous.\n",
    "workclass: Private, Self-emp-not-inc, Self-emp-inc, Federal-gov, Local-gov, State-gov, Without-pay, Never-worked.\n",
    "fnlwgt: continuous.\n",
    "education: Bachelors, Some-college, 11th, HS-grad, Prof-school, Assoc-acdm, Assoc-voc, 9th, 7th-8th, 12th, Masters, 1st-4th, 10th, Doctorate, 5th-6th, Preschool.\n",
    "education-num: continuous.\n",
    "marital-status: Married-civ-spouse, Divorced, Never-married, Separated, Widowed, Married-spouse-absent, Married-AF-spouse.\n",
    "occupation: Tech-support, Craft-repair, Other-service, Sales, Exec-managerial, Prof-specialty, Handlers-cleaners, Machine-op-inspct, Adm-clerical, Farming-fishing, Transport-moving, Priv-house-serv, Protective-serv, Armed-Forces.\n",
    "relationship: Wife, Own-child, Husband, Not-in-family, Other-relative, Unmarried.\n",
    "race: White, Asian-Pac-Islander, Amer-Indian-Eskimo, Other, Black.\n",
    "sex: Female, Male.\n",
    "capital-gain: continuous.\n",
    "capital-loss: continuous.\n",
    "hours-per-week: continuous.\n",
    "native-country: United-States, Cambodia, England, Puerto-Rico, Canada, Germany, Outlying-US(Guam-USVI-etc), India, Japan, Greece, South, China, Cuba, Iran, Honduras, Philippines, Italy, Poland, Jamaica, Vietnam, Mexico, Portugal, Ireland, France, Dominican-Republic, Laos, Ecuador, Taiwan, Haiti, Columbia, Hungary, Guatemala, Nicaragua, Scotland, Thailand, Yugoslavia, El-Salvador, Trinadad&Tobago, Peru, Hong, Holand-Netherlands.\n",
    "\"\"\"\n",
    "\n",
    "df = pd.read_csv(\"data/adult.data\", header=None, names=columns)\n",
    "df.wage.unique()"
   ],
   "outputs": [
    {
     "data": {
      "text/plain": [
       "array([' <=50K', ' >50K'], dtype=object)"
      ]
     },
     "execution_count": 22,
     "metadata": {},
     "output_type": "execute_result"
    }
   ],
   "execution_count": 22
  },
  {
   "cell_type": "code",
   "metadata": {
    "editable": true,
    "slideshow": {
     "slide_type": ""
    },
    "tags": [],
    "ExecuteTime": {
     "end_time": "2024-11-19T12:44:22.133962Z",
     "start_time": "2024-11-19T12:44:22.066221Z"
    }
   },
   "source": [
    "# attribution: https://www.kaggle.com/code/royshih23/topic7-classification-in-python\n",
    "df[\"education\"].replace(\"Preschool\", \"dropout\", inplace=True)\n",
    "df[\"education\"].replace(\"10th\", \"dropout\", inplace=True)\n",
    "df[\"education\"].replace(\"11th\", \"dropout\", inplace=True)\n",
    "df[\"education\"].replace(\"12th\", \"dropout\", inplace=True)\n",
    "df[\"education\"].replace(\"1st-4th\", \"dropout\", inplace=True)\n",
    "df[\"education\"].replace(\"5th-6th\", \"dropout\", inplace=True)\n",
    "df[\"education\"].replace(\"7th-8th\", \"dropout\", inplace=True)\n",
    "df[\"education\"].replace(\"9th\", \"dropout\", inplace=True)\n",
    "df[\"education\"].replace(\"HS-Grad\", \"HighGrad\", inplace=True)\n",
    "df[\"education\"].replace(\"HS-grad\", \"HighGrad\", inplace=True)\n",
    "df[\"education\"].replace(\"Some-college\", \"CommunityCollege\", inplace=True)\n",
    "df[\"education\"].replace(\"Assoc-acdm\", \"CommunityCollege\", inplace=True)\n",
    "df[\"education\"].replace(\"Assoc-voc\", \"CommunityCollege\", inplace=True)\n",
    "df[\"education\"].replace(\"Bachelors\", \"Bachelors\", inplace=True)\n",
    "df[\"education\"].replace(\"Masters\", \"Masters\", inplace=True)\n",
    "df[\"education\"].replace(\"Prof-school\", \"Masters\", inplace=True)\n",
    "df[\"education\"].replace(\"Doctorate\", \"Doctorate\", inplace=True)\n",
    "\n",
    "df[\"marital-status\"].replace(\"Never-married\", \"NotMarried\", inplace=True)\n",
    "df[\"marital-status\"].replace([\"Married-AF-spouse\"], \"Married\", inplace=True)\n",
    "df[\"marital-status\"].replace([\"Married-civ-spouse\"], \"Married\", inplace=True)\n",
    "df[\"marital-status\"].replace([\"Married-spouse-absent\"], \"NotMarried\", inplace=True)\n",
    "df[\"marital-status\"].replace([\"Separated\"], \"Separated\", inplace=True)\n",
    "df[\"marital-status\"].replace([\"Divorced\"], \"Separated\", inplace=True)\n",
    "df[\"marital-status\"].replace([\"Widowed\"], \"Widowed\", inplace=True)"
   ],
   "outputs": [
    {
     "name": "stderr",
     "output_type": "stream",
     "text": [
      "C:\\Users\\Dominik\\AppData\\Local\\Temp\\ipykernel_1260\\2244523481.py:2: FutureWarning: A value is trying to be set on a copy of a DataFrame or Series through chained assignment using an inplace method.\n",
      "The behavior will change in pandas 3.0. This inplace method will never work because the intermediate object on which we are setting values always behaves as a copy.\n",
      "\n",
      "For example, when doing 'df[col].method(value, inplace=True)', try using 'df.method({col: value}, inplace=True)' or df[col] = df[col].method(value) instead, to perform the operation inplace on the original object.\n",
      "\n",
      "\n",
      "  df['education'].replace('Preschool', 'dropout',inplace=True)\n",
      "C:\\Users\\Dominik\\AppData\\Local\\Temp\\ipykernel_1260\\2244523481.py:3: FutureWarning: A value is trying to be set on a copy of a DataFrame or Series through chained assignment using an inplace method.\n",
      "The behavior will change in pandas 3.0. This inplace method will never work because the intermediate object on which we are setting values always behaves as a copy.\n",
      "\n",
      "For example, when doing 'df[col].method(value, inplace=True)', try using 'df.method({col: value}, inplace=True)' or df[col] = df[col].method(value) instead, to perform the operation inplace on the original object.\n",
      "\n",
      "\n",
      "  df['education'].replace('10th', 'dropout',inplace=True)\n",
      "C:\\Users\\Dominik\\AppData\\Local\\Temp\\ipykernel_1260\\2244523481.py:4: FutureWarning: A value is trying to be set on a copy of a DataFrame or Series through chained assignment using an inplace method.\n",
      "The behavior will change in pandas 3.0. This inplace method will never work because the intermediate object on which we are setting values always behaves as a copy.\n",
      "\n",
      "For example, when doing 'df[col].method(value, inplace=True)', try using 'df.method({col: value}, inplace=True)' or df[col] = df[col].method(value) instead, to perform the operation inplace on the original object.\n",
      "\n",
      "\n",
      "  df['education'].replace('11th', 'dropout',inplace=True)\n",
      "C:\\Users\\Dominik\\AppData\\Local\\Temp\\ipykernel_1260\\2244523481.py:5: FutureWarning: A value is trying to be set on a copy of a DataFrame or Series through chained assignment using an inplace method.\n",
      "The behavior will change in pandas 3.0. This inplace method will never work because the intermediate object on which we are setting values always behaves as a copy.\n",
      "\n",
      "For example, when doing 'df[col].method(value, inplace=True)', try using 'df.method({col: value}, inplace=True)' or df[col] = df[col].method(value) instead, to perform the operation inplace on the original object.\n",
      "\n",
      "\n",
      "  df['education'].replace('12th', 'dropout',inplace=True)\n",
      "C:\\Users\\Dominik\\AppData\\Local\\Temp\\ipykernel_1260\\2244523481.py:6: FutureWarning: A value is trying to be set on a copy of a DataFrame or Series through chained assignment using an inplace method.\n",
      "The behavior will change in pandas 3.0. This inplace method will never work because the intermediate object on which we are setting values always behaves as a copy.\n",
      "\n",
      "For example, when doing 'df[col].method(value, inplace=True)', try using 'df.method({col: value}, inplace=True)' or df[col] = df[col].method(value) instead, to perform the operation inplace on the original object.\n",
      "\n",
      "\n",
      "  df['education'].replace('1st-4th', 'dropout',inplace=True)\n",
      "C:\\Users\\Dominik\\AppData\\Local\\Temp\\ipykernel_1260\\2244523481.py:7: FutureWarning: A value is trying to be set on a copy of a DataFrame or Series through chained assignment using an inplace method.\n",
      "The behavior will change in pandas 3.0. This inplace method will never work because the intermediate object on which we are setting values always behaves as a copy.\n",
      "\n",
      "For example, when doing 'df[col].method(value, inplace=True)', try using 'df.method({col: value}, inplace=True)' or df[col] = df[col].method(value) instead, to perform the operation inplace on the original object.\n",
      "\n",
      "\n",
      "  df['education'].replace('5th-6th', 'dropout',inplace=True)\n",
      "C:\\Users\\Dominik\\AppData\\Local\\Temp\\ipykernel_1260\\2244523481.py:8: FutureWarning: A value is trying to be set on a copy of a DataFrame or Series through chained assignment using an inplace method.\n",
      "The behavior will change in pandas 3.0. This inplace method will never work because the intermediate object on which we are setting values always behaves as a copy.\n",
      "\n",
      "For example, when doing 'df[col].method(value, inplace=True)', try using 'df.method({col: value}, inplace=True)' or df[col] = df[col].method(value) instead, to perform the operation inplace on the original object.\n",
      "\n",
      "\n",
      "  df['education'].replace('7th-8th', 'dropout',inplace=True)\n",
      "C:\\Users\\Dominik\\AppData\\Local\\Temp\\ipykernel_1260\\2244523481.py:9: FutureWarning: A value is trying to be set on a copy of a DataFrame or Series through chained assignment using an inplace method.\n",
      "The behavior will change in pandas 3.0. This inplace method will never work because the intermediate object on which we are setting values always behaves as a copy.\n",
      "\n",
      "For example, when doing 'df[col].method(value, inplace=True)', try using 'df.method({col: value}, inplace=True)' or df[col] = df[col].method(value) instead, to perform the operation inplace on the original object.\n",
      "\n",
      "\n",
      "  df['education'].replace('9th', 'dropout',inplace=True)\n",
      "C:\\Users\\Dominik\\AppData\\Local\\Temp\\ipykernel_1260\\2244523481.py:10: FutureWarning: A value is trying to be set on a copy of a DataFrame or Series through chained assignment using an inplace method.\n",
      "The behavior will change in pandas 3.0. This inplace method will never work because the intermediate object on which we are setting values always behaves as a copy.\n",
      "\n",
      "For example, when doing 'df[col].method(value, inplace=True)', try using 'df.method({col: value}, inplace=True)' or df[col] = df[col].method(value) instead, to perform the operation inplace on the original object.\n",
      "\n",
      "\n",
      "  df['education'].replace('HS-Grad', 'HighGrad',inplace=True)\n",
      "C:\\Users\\Dominik\\AppData\\Local\\Temp\\ipykernel_1260\\2244523481.py:11: FutureWarning: A value is trying to be set on a copy of a DataFrame or Series through chained assignment using an inplace method.\n",
      "The behavior will change in pandas 3.0. This inplace method will never work because the intermediate object on which we are setting values always behaves as a copy.\n",
      "\n",
      "For example, when doing 'df[col].method(value, inplace=True)', try using 'df.method({col: value}, inplace=True)' or df[col] = df[col].method(value) instead, to perform the operation inplace on the original object.\n",
      "\n",
      "\n",
      "  df['education'].replace('HS-grad', 'HighGrad',inplace=True)\n",
      "C:\\Users\\Dominik\\AppData\\Local\\Temp\\ipykernel_1260\\2244523481.py:12: FutureWarning: A value is trying to be set on a copy of a DataFrame or Series through chained assignment using an inplace method.\n",
      "The behavior will change in pandas 3.0. This inplace method will never work because the intermediate object on which we are setting values always behaves as a copy.\n",
      "\n",
      "For example, when doing 'df[col].method(value, inplace=True)', try using 'df.method({col: value}, inplace=True)' or df[col] = df[col].method(value) instead, to perform the operation inplace on the original object.\n",
      "\n",
      "\n",
      "  df['education'].replace('Some-college', 'CommunityCollege',inplace=True)\n",
      "C:\\Users\\Dominik\\AppData\\Local\\Temp\\ipykernel_1260\\2244523481.py:13: FutureWarning: A value is trying to be set on a copy of a DataFrame or Series through chained assignment using an inplace method.\n",
      "The behavior will change in pandas 3.0. This inplace method will never work because the intermediate object on which we are setting values always behaves as a copy.\n",
      "\n",
      "For example, when doing 'df[col].method(value, inplace=True)', try using 'df.method({col: value}, inplace=True)' or df[col] = df[col].method(value) instead, to perform the operation inplace on the original object.\n",
      "\n",
      "\n",
      "  df['education'].replace('Assoc-acdm', 'CommunityCollege',inplace=True)\n",
      "C:\\Users\\Dominik\\AppData\\Local\\Temp\\ipykernel_1260\\2244523481.py:14: FutureWarning: A value is trying to be set on a copy of a DataFrame or Series through chained assignment using an inplace method.\n",
      "The behavior will change in pandas 3.0. This inplace method will never work because the intermediate object on which we are setting values always behaves as a copy.\n",
      "\n",
      "For example, when doing 'df[col].method(value, inplace=True)', try using 'df.method({col: value}, inplace=True)' or df[col] = df[col].method(value) instead, to perform the operation inplace on the original object.\n",
      "\n",
      "\n",
      "  df['education'].replace('Assoc-voc', 'CommunityCollege',inplace=True)\n",
      "C:\\Users\\Dominik\\AppData\\Local\\Temp\\ipykernel_1260\\2244523481.py:15: FutureWarning: A value is trying to be set on a copy of a DataFrame or Series through chained assignment using an inplace method.\n",
      "The behavior will change in pandas 3.0. This inplace method will never work because the intermediate object on which we are setting values always behaves as a copy.\n",
      "\n",
      "For example, when doing 'df[col].method(value, inplace=True)', try using 'df.method({col: value}, inplace=True)' or df[col] = df[col].method(value) instead, to perform the operation inplace on the original object.\n",
      "\n",
      "\n",
      "  df['education'].replace('Bachelors', 'Bachelors',inplace=True)\n",
      "C:\\Users\\Dominik\\AppData\\Local\\Temp\\ipykernel_1260\\2244523481.py:16: FutureWarning: A value is trying to be set on a copy of a DataFrame or Series through chained assignment using an inplace method.\n",
      "The behavior will change in pandas 3.0. This inplace method will never work because the intermediate object on which we are setting values always behaves as a copy.\n",
      "\n",
      "For example, when doing 'df[col].method(value, inplace=True)', try using 'df.method({col: value}, inplace=True)' or df[col] = df[col].method(value) instead, to perform the operation inplace on the original object.\n",
      "\n",
      "\n",
      "  df['education'].replace('Masters', 'Masters',inplace=True)\n",
      "C:\\Users\\Dominik\\AppData\\Local\\Temp\\ipykernel_1260\\2244523481.py:17: FutureWarning: A value is trying to be set on a copy of a DataFrame or Series through chained assignment using an inplace method.\n",
      "The behavior will change in pandas 3.0. This inplace method will never work because the intermediate object on which we are setting values always behaves as a copy.\n",
      "\n",
      "For example, when doing 'df[col].method(value, inplace=True)', try using 'df.method({col: value}, inplace=True)' or df[col] = df[col].method(value) instead, to perform the operation inplace on the original object.\n",
      "\n",
      "\n",
      "  df['education'].replace('Prof-school', 'Masters',inplace=True)\n",
      "C:\\Users\\Dominik\\AppData\\Local\\Temp\\ipykernel_1260\\2244523481.py:18: FutureWarning: A value is trying to be set on a copy of a DataFrame or Series through chained assignment using an inplace method.\n",
      "The behavior will change in pandas 3.0. This inplace method will never work because the intermediate object on which we are setting values always behaves as a copy.\n",
      "\n",
      "For example, when doing 'df[col].method(value, inplace=True)', try using 'df.method({col: value}, inplace=True)' or df[col] = df[col].method(value) instead, to perform the operation inplace on the original object.\n",
      "\n",
      "\n",
      "  df['education'].replace('Doctorate', 'Doctorate',inplace=True)\n",
      "C:\\Users\\Dominik\\AppData\\Local\\Temp\\ipykernel_1260\\2244523481.py:20: FutureWarning: A value is trying to be set on a copy of a DataFrame or Series through chained assignment using an inplace method.\n",
      "The behavior will change in pandas 3.0. This inplace method will never work because the intermediate object on which we are setting values always behaves as a copy.\n",
      "\n",
      "For example, when doing 'df[col].method(value, inplace=True)', try using 'df.method({col: value}, inplace=True)' or df[col] = df[col].method(value) instead, to perform the operation inplace on the original object.\n",
      "\n",
      "\n",
      "  df['marital-status'].replace('Never-married', 'NotMarried',inplace=True)\n",
      "C:\\Users\\Dominik\\AppData\\Local\\Temp\\ipykernel_1260\\2244523481.py:21: FutureWarning: A value is trying to be set on a copy of a DataFrame or Series through chained assignment using an inplace method.\n",
      "The behavior will change in pandas 3.0. This inplace method will never work because the intermediate object on which we are setting values always behaves as a copy.\n",
      "\n",
      "For example, when doing 'df[col].method(value, inplace=True)', try using 'df.method({col: value}, inplace=True)' or df[col] = df[col].method(value) instead, to perform the operation inplace on the original object.\n",
      "\n",
      "\n",
      "  df['marital-status'].replace(['Married-AF-spouse'], 'Married',inplace=True)\n"
     ]
    }
   ],
   "execution_count": 23
  },
  {
   "cell_type": "code",
   "metadata": {
    "colab": {
     "base_uri": "https://localhost:8080/"
    },
    "editable": true,
    "id": "LiOxs_6mLAs1",
    "outputId": "c95418cf-2632-41d0-de0a-9caf109de113",
    "slideshow": {
     "slide_type": ""
    },
    "tags": [],
    "ExecuteTime": {
     "end_time": "2024-11-19T12:44:25.596956Z",
     "start_time": "2024-11-19T12:44:22.134969Z"
    }
   },
   "source": [
    "from sklearn.model_selection import train_test_split\n",
    "from sklearn.preprocessing import MinMaxScaler, OneHotEncoder, StandardScaler\n",
    "\n",
    "\n",
    "X = df.copy()\n",
    "y = (X.pop(\"wage\") == \" >50K\").astype(int).values\n",
    "\n",
    "train_valid_size = 0.2\n",
    "\n",
    "X_train, X_test, y_train, y_test = train_test_split(\n",
    "    X, y, test_size=train_valid_size, random_state=0, shuffle=True, stratify=y\n",
    ")\n",
    "X_train, X_valid, y_train, y_valid = train_test_split(\n",
    "    X_train,\n",
    "    y_train,\n",
    "    test_size=train_valid_size,\n",
    "    random_state=0,\n",
    "    shuffle=True,\n",
    "    stratify=y_train,\n",
    ")\n",
    "\n",
    "continuous_cols = [\n",
    "    \"age\",\n",
    "    \"fnlwgt\",\n",
    "    \"education-num\",\n",
    "    \"capital-gain\",\n",
    "    \"capital-loss\",\n",
    "    \"hours-per-week\",\n",
    "]\n",
    "continuous_X_train = X_train[continuous_cols]\n",
    "categorical_X_train = X_train.loc[:, ~X_train.columns.isin(continuous_cols)]\n",
    "\n",
    "continuous_X_valid = X_valid[continuous_cols]\n",
    "categorical_X_valid = X_valid.loc[:, ~X_valid.columns.isin(continuous_cols)]\n",
    "\n",
    "continuous_X_test = X_test[continuous_cols]\n",
    "categorical_X_test = X_test.loc[:, ~X_test.columns.isin(continuous_cols)]\n",
    "\n",
    "categorical_encoder = OneHotEncoder(sparse_output=False, handle_unknown=\"ignore\")\n",
    "continuous_scaler = StandardScaler()  # MinMaxScaler(feature_range=(-1, 1))\n",
    "\n",
    "categorical_encoder.fit(categorical_X_train)\n",
    "continuous_scaler.fit(continuous_X_train)\n",
    "\n",
    "continuous_X_train = continuous_scaler.transform(continuous_X_train)\n",
    "continuous_X_valid = continuous_scaler.transform(continuous_X_valid)\n",
    "continuous_X_test = continuous_scaler.transform(continuous_X_test)\n",
    "\n",
    "categorical_X_train = categorical_encoder.transform(categorical_X_train)\n",
    "categorical_X_valid = categorical_encoder.transform(categorical_X_valid)\n",
    "categorical_X_test = categorical_encoder.transform(categorical_X_test)\n",
    "\n",
    "X_train = np.concatenate([continuous_X_train, categorical_X_train], axis=1)\n",
    "X_valid = np.concatenate([continuous_X_valid, categorical_X_valid], axis=1)\n",
    "X_test = np.concatenate([continuous_X_test, categorical_X_test], axis=1)\n",
    "\n",
    "X_train.shape, y_train.shape"
   ],
   "outputs": [
    {
     "data": {
      "text/plain": [
       "((20838, 108), (20838,))"
      ]
     },
     "execution_count": 24,
     "metadata": {},
     "output_type": "execute_result"
    }
   ],
   "execution_count": 24
  },
  {
   "cell_type": "markdown",
   "metadata": {
    "editable": true,
    "slideshow": {
     "slide_type": ""
    },
    "tags": []
   },
   "source": [
    "Uwaga co do typów - PyTorchu wszystko w sieci neuronowej musi być typu `float32`. W szczególności trzeba uważać na konwersje z Numpy'a, który używa domyślnie typu `float64`. Może ci się przydać metoda `.float()`.\n",
    "\n",
    "Uwaga co do kształtów wyjścia - wejścia do `nn.BCELoss` muszą być tego samego kształtu. Może ci się przydać metoda `.squeeze()` lub `.unsqueeze()`."
   ]
  },
  {
   "cell_type": "code",
   "metadata": {
    "id": "qfRA3xEoLAs1",
    "ExecuteTime": {
     "end_time": "2024-11-19T12:44:25.783587Z",
     "start_time": "2024-11-19T12:44:25.597966Z"
    }
   },
   "source": [
    "device = torch.device(\"cuda\" if torch.cuda.is_available() else \"cpu\")\n",
    "print(f\"Using device: {device}\")\n",
    "\n",
    "X_train = torch.from_numpy(X_train).float().to(device)\n",
    "y_train = torch.from_numpy(y_train).float().unsqueeze(-1).to(device)\n",
    "\n",
    "X_valid = torch.from_numpy(X_valid).float().to(device)\n",
    "y_valid = torch.from_numpy(y_valid).float().unsqueeze(-1).to(device)\n",
    "\n",
    "X_test = torch.from_numpy(X_test).float().to(device)\n",
    "y_test = torch.from_numpy(y_test).float().unsqueeze(-1).to(device)"
   ],
   "outputs": [
    {
     "name": "stdout",
     "output_type": "stream",
     "text": [
      "Using device: cuda\n"
     ]
    }
   ],
   "execution_count": 25
  },
  {
   "cell_type": "markdown",
   "metadata": {},
   "source": [
    "Podobnie jak w laboratorium 2, mamy tu do czynienia z klasyfikacją niezbalansowaną:"
   ]
  },
  {
   "cell_type": "code",
   "metadata": {
    "ExecuteTime": {
     "end_time": "2024-11-19T12:44:25.968845Z",
     "start_time": "2024-11-19T12:44:25.784596Z"
    }
   },
   "source": [
    "import matplotlib.pyplot as plt\n",
    "\n",
    "y_pos_perc = 100 * y_train.sum().item() / len(y_train)\n",
    "y_neg_perc = 100 - y_pos_perc\n",
    "\n",
    "plt.title(\"Class percentages\")\n",
    "plt.bar([\"<50k\", \">=50k\"], [y_neg_perc, y_pos_perc])\n",
    "plt.show()"
   ],
   "outputs": [
    {
     "data": {
      "text/plain": [
       "<Figure size 640x480 with 1 Axes>"
      ],
      "image/png": "[encoded data removed]"
     },
     "metadata": {},
     "output_type": "display_data"
    }
   ],
   "execution_count": 26
  },
  {
   "cell_type": "markdown",
   "metadata": {},
   "source": [
    "W związku z powyższym będziemy używać odpowiednich metryk, czyli AUROC, precyzji i czułości."
   ]
  },
  {
   "cell_type": "markdown",
   "metadata": {
    "id": "XLexWff-LAs0",
    "tags": [
     "ex"
    ]
   },
   "source": [
    "### Zadanie 3 (1.0 punkt)\n",
    "\n",
    "Zaimplementuj regresję logistyczną dla tego zbioru danych, używając PyTorcha. Dane wejściowe zostały dla ciebie przygotowane w komórkach poniżej.\n",
    "\n",
    "Sama sieć składa się z 2 elementów:\n",
    "- warstwa liniowa `nn.Linear`, przekształcająca wektor wejściowy na 1 wyjście - logit\n",
    "- aktywacja sigmoidalna `nn.Sigmoid`, przekształcająca logit na prawdopodobieństwo klasy pozytywnej\n",
    "\n",
    "Użyj binarnej entropii krzyżowej `nn.BCELoss` jako funkcji kosztu. Użyj optymalizatora SGD ze stałą uczącą `1e-3`. Trenuj przez 3000 epok. Pamiętaj, aby przekazać do optymalizatora `torch.optim.SGD` parametry sieci (metoda `.parameters()`). Dopisz logowanie kosztu raz na 100 epok."
   ]
  },
  {
   "cell_type": "code",
   "metadata": {
    "colab": {
     "base_uri": "https://localhost:8080/"
    },
    "id": "NbABKz5-LAs2",
    "outputId": "086dc0f3-0184-4072-9fd3-275b60dee2e4",
    "scrolled": true,
    "tags": [
     "ex"
    ],
    "ExecuteTime": {
     "end_time": "2024-11-19T12:44:29.153139Z",
     "start_time": "2024-11-19T12:44:25.969854Z"
    }
   },
   "source": [
    "learning_rate = 1e-3\n",
    "\n",
    "model = nn.Linear(in_features=X_train.shape[1], out_features=y_train.shape[1])\n",
    "model = model.to(device)\n",
    "activation = nn.Sigmoid()\n",
    "optimizer = torch.optim.SGD(params=model.parameters(), lr=learning_rate)\n",
    "loss_fn = nn.BCELoss()\n",
    "\n",
    "\n",
    "# implement me!\n",
    "# your_code\n",
    "\n",
    "for i in range(3000):\n",
    "\n",
    "    output = model(X_train)\n",
    "    output = activation(output)\n",
    "\n",
    "    loss = loss_fn(output, y_train)\n",
    "\n",
    "    loss.backward()\n",
    "\n",
    "    optimizer.step()\n",
    "    optimizer.zero_grad()\n",
    "\n",
    "    if i % 100 == 0:\n",
    "        print(f\"step {i} loss: {loss.item():.4f}\")\n",
    "\n",
    "print(\"final loss:\", loss)"
   ],
   "outputs": [
    {
     "name": "stdout",
     "output_type": "stream",
     "text": [
      "step 0 loss: 0.7211\n",
      "step 100 loss: 0.6845\n",
      "step 200 loss: 0.6541\n",
      "step 300 loss: 0.6285\n",
      "step 400 loss: 0.6069\n",
      "step 500 loss: 0.5885\n",
      "step 600 loss: 0.5727\n",
      "step 700 loss: 0.5590\n",
      "step 800 loss: 0.5471\n",
      "step 900 loss: 0.5365\n",
      "step 1000 loss: 0.5271\n",
      "step 1100 loss: 0.5187\n",
      "step 1200 loss: 0.5111\n",
      "step 1300 loss: 0.5042\n",
      "step 1400 loss: 0.4978\n",
      "step 1500 loss: 0.4920\n",
      "step 1600 loss: 0.4867\n",
      "step 1700 loss: 0.4817\n",
      "step 1800 loss: 0.4771\n",
      "step 1900 loss: 0.4728\n",
      "step 2000 loss: 0.4687\n",
      "step 2100 loss: 0.4649\n",
      "step 2200 loss: 0.4613\n",
      "step 2300 loss: 0.4579\n",
      "step 2400 loss: 0.4547\n",
      "step 2500 loss: 0.4517\n",
      "step 2600 loss: 0.4488\n",
      "step 2700 loss: 0.4460\n",
      "step 2800 loss: 0.4434\n",
      "step 2900 loss: 0.4409\n",
      "final loss: tensor(0.4385, device='cuda:0', grad_fn=<BinaryCrossEntropyBackward0>)\n"
     ]
    }
   ],
   "execution_count": 27
  },
  {
   "cell_type": "markdown",
   "metadata": {
    "tags": [
     "ex"
    ]
   },
   "source": [
    "Teraz trzeba sprawdzić, jak poszło naszej sieci. W PyTorchu sieć pracuje zawsze w jednym z dwóch trybów: treningowym lub ewaluacyjnym (predykcyjnym). Ten drugi wyłącza niektóre mechanizmy, które są używane tylko podczas treningu, w szczególności regularyzację dropout. Do przełączania służą metody modelu `.train()` i `.eval()`.\n",
    "\n",
    "Dodatkowo podczas liczenia predykcji dobrze jest wyłączyć liczenie gradientów, bo nie będą potrzebne, a oszczędza to czas i pamięć. Używa się do tego menadżera kontekstu `with torch.no_grad():`."
   ]
  },
  {
   "cell_type": "code",
   "metadata": {
    "colab": {
     "base_uri": "https://localhost:8080/"
    },
    "id": "zH37zDX4LAs2",
    "outputId": "b1f93309-6f04-4ffc-b0ca-08d0a32120a0",
    "scrolled": true,
    "tags": [
     "ex"
    ],
    "ExecuteTime": {
     "end_time": "2024-11-19T12:45:10.340388Z",
     "start_time": "2024-11-19T12:45:10.330033Z"
    }
   },
   "source": [
    "from sklearn.metrics import (\n",
    "    precision_recall_curve,\n",
    "    precision_recall_fscore_support,\n",
    "    roc_auc_score,\n",
    ")\n",
    "\n",
    "\n",
    "model.eval()\n",
    "with torch.no_grad():\n",
    "    y_score = activation(model(X_test))\n",
    "\n",
    "auroc = roc_auc_score(y_test.cpu().numpy(), y_score.cpu().numpy())\n",
    "print(f\"AUROC: {auroc:.2%}\")"
   ],
   "outputs": [
    {
     "name": "stdout",
     "output_type": "stream",
     "text": [
      "AUROC: 85.88%\n"
     ]
    }
   ],
   "execution_count": 31
  },
  {
   "cell_type": "code",
   "metadata": {
    "tags": [
     "ex"
    ],
    "ExecuteTime": {
     "end_time": "2024-11-19T12:45:12.056510Z",
     "start_time": "2024-11-19T12:45:12.048867Z"
    }
   },
   "source": [
    "assert isinstance(model, nn.Linear)\n",
    "assert isinstance(activation, nn.Sigmoid)\n",
    "assert isinstance(optimizer, torch.optim.SGD)\n",
    "assert isinstance(loss_fn, torch.nn.BCELoss)\n",
    "\n",
    "assert model.out_features == 1\n",
    "assert optimizer.param_groups[0][\"lr\"] == 1e-3\n",
    "\n",
    "assert 0.0 < loss.item() < 0.5\n",
    "assert 0.8 < auroc < 0.9\n",
    "\n",
    "print(\"Solution is correct!\")"
   ],
   "outputs": [
    {
     "name": "stdout",
     "output_type": "stream",
     "text": [
      "Solution is correct!\n"
     ]
    }
   ],
   "execution_count": 32
  },
  {
   "cell_type": "markdown",
   "metadata": {},
   "source": [
    "Jest to całkiem dobry wynik, a może być jeszcze lepszy. Sprawdźmy dla pewności jeszcze inne metryki: precyzję, recall oraz F1-score. Dodatkowo narysujemy krzywą precision-recall, czyli jak zmieniają się te metryki w zależności od przyjętego progu (threshold) prawdopodobieństwa, powyżej którego przyjmujemy klasę pozytywną. Taką krzywą należy rysować na zbiorze walidacyjnym, bo później chcemy wykorzystać tę informację do doboru progu, a nie chcemy mieć wycieku danych testowych (data leakage).\n",
    "\n",
    "Poniżej zaimplementowano także funkcję `get_optimal_threshold()`, która sprawdza, dla którego progu uzyskujemy maksymalny F1-score, i zwraca indeks oraz wartość optymalnego progu. Przyda ci się ona w dalszej części laboratorium."
   ]
  },
  {
   "cell_type": "code",
   "metadata": {
    "ExecuteTime": {
     "end_time": "2024-11-19T12:45:13.920012Z",
     "start_time": "2024-11-19T12:45:13.911526Z"
    }
   },
   "source": [
    "from sklearn.metrics import PrecisionRecallDisplay\n",
    "\n",
    "\n",
    "def get_optimal_threshold(\n",
    "    precisions: np.array, recalls: np.array, thresholds: np.array\n",
    ") -> Tuple[int, float]:\n",
    "\n",
    "    numerator = 2 * precisions * recalls\n",
    "    denominator = precisions + recalls\n",
    "    f1_scores = np.divide(\n",
    "        numerator, denominator, out=np.zeros_like(numerator), where=denominator != 0\n",
    "    )\n",
    "\n",
    "    optimal_idx = np.argmax(f1_scores)\n",
    "    optimal_threshold = thresholds[optimal_idx]\n",
    "\n",
    "    return optimal_idx, optimal_threshold\n",
    "\n",
    "\n",
    "def plot_precision_recall_curve(y_true, y_pred_score) -> None:\n",
    "    precisions, recalls, thresholds = precision_recall_curve(y_true, y_pred_score)\n",
    "    optimal_idx, optimal_threshold = get_optimal_threshold(\n",
    "        precisions, recalls, thresholds\n",
    "    )\n",
    "\n",
    "    disp = PrecisionRecallDisplay(precisions, recalls)\n",
    "    disp.plot()\n",
    "    plt.title(f\"Precision-recall curve (opt. thresh.: {optimal_threshold:.4f})\")\n",
    "    plt.axvline(recalls[optimal_idx], color=\"green\", linestyle=\"-.\")\n",
    "    plt.axhline(precisions[optimal_idx], color=\"green\", linestyle=\"-.\")\n",
    "    plt.show()"
   ],
   "outputs": [],
   "execution_count": 33
  },
  {
   "cell_type": "code",
   "metadata": {
    "ExecuteTime": {
     "end_time": "2024-11-19T12:45:18.261090Z",
     "start_time": "2024-11-19T12:45:18.146767Z"
    }
   },
   "source": [
    "model.eval()\n",
    "with torch.no_grad():\n",
    "    y_pred_valid_score = activation(model(X_valid))\n",
    "\n",
    "plot_precision_recall_curve(y_valid.cpu().numpy(), y_pred_valid_score.cpu().numpy())"
   ],
   "outputs": [
    {
     "data": {
      "text/plain": [
       "<Figure size 640x480 with 1 Axes>"
      ],
      "image/png": "[encoded data removed]"
     },
     "metadata": {},
     "output_type": "display_data"
    }
   ],
   "execution_count": 34
  },
  {
   "cell_type": "markdown",
   "metadata": {
    "id": "vfQPIUQ_LAs2"
   },
   "source": [
    "Jak widać, chociaż AUROC jest wysokie, to dla optymalnego F1-score recall nie jest zbyt wysoki, a precyzja jest już dość niska. Być może wynik uda się poprawić, używając modelu o większej pojemności - pełnej, głębokiej sieci neuronowej."
   ]
  },
  {
   "cell_type": "markdown",
   "metadata": {},
   "source": [
    "## Sieci neuronowe"
   ]
  },
  {
   "cell_type": "markdown",
   "metadata": {
    "id": "YP298w6Cq7T6"
   },
   "source": [
    "Wszystko zaczęło się od inspirowanych biologią [sztucznych neuronów](https://en.wikipedia.org/wiki/Artificial_neuron), których próbowano użyć do symulacji mózgu. Naukowcy szybko odeszli od tego podejścia (sam problem modelowania okazał się też znacznie trudniejszy, niż sądzono), zamiast tego używając neuronów jako jednostek reprezentującą dowolną funkcję parametryczną $f(x, \\Theta)$. Każdy neuron jest zatem bardzo elastyczny, bo jedyne wymagania to funkcja różniczkowalna, a mamy do tego wektor parametrów $\\Theta$.\n",
    "\n",
    "W praktyce najczęściej można spotkać się z kilkoma rodzinami sieci neuronowych:\n",
    "1. Perceptrony wielowarstwowe (*MultiLayer Perceptron*, MLP) - najbardziej podobne do powyższego opisu, niezbędne do klasyfikacji i regresji\n",
    "2. Konwolucyjne (*Convolutional Neural Networks*, CNNs) - do przetwarzania danych z zależnościami przestrzennymi, np. obrazów czy dźwięku\n",
    "3. Rekurencyjne (*Recurrent Neural Networks*, RNNs) - do przetwarzania danych z zależnościami sekwencyjnymi, np. szeregi czasowe, oraz kiedyś do języka naturalnego\n",
    "4. Transformacyjne (*Transformers*), oparte o mechanizm atencji (*attention*) - do przetwarzania języka naturalnego (NLP), z którego wyparły RNNs, a coraz częściej także do wszelkich innych danych, np. obrazów, dźwięku\n",
    "5. Grafowe (*Graph Neural Networks*, GNNS) - do przetwarzania grafów\n",
    "\n",
    "Na tym laboratorium skupimy się na najprostszej architekturze, czyli MLP. Jest ona powszechnie łączona z wszelkimi innymi architekturami, bo pozwala dokonywać klasyfikacji i regresji. Przykładowo, klasyfikacja obrazów to zwykle CNN + MLP, klasyfikacja tekstów to transformer + MLP, a regresja na grafach to GNN + MLP.\n",
    "\n",
    "Dodatkowo, pomimo prostoty MLP są bardzo potężne - udowodniono, że perceptrony (ich powszechna nazwa) są [uniwersalnym aproksymatorem](https://www.sciencedirect.com/science/article/abs/pii/0893608089900208), będącym w stanie przybliżyć dowolną funkcję z odpowiednio małym błędem, zakładając wystarczającą wielkość warstw sieci. Szczególne ich wersje potrafią nawet [reprezentować drzewa decyzyjne](https://www.youtube.com/watch?v=_okxGdHM5b8).\n",
    "\n",
    "Dla zainteresowanych polecamy [doskonałą książkę \"Dive into Deep Learning\", z implementacjami w PyTorchu](https://d2l.ai/chapter_multilayer-perceptrons/index.html), [klasyczną książkę \"Deep Learning Book\"](https://www.deeplearningbook.org/contents/mlp.html), oraz [ten filmik](https://www.youtube.com/watch?v=BFHrIxKcLjA), jeśli zastanawiałeś/-aś się, czemu używamy deep learning, a nie naprzykład (wide?) learning. (aka. czemu staramy się budować głębokie sieci, a nie płytkie za to szerokie)"
   ]
  },
  {
   "attachments": {
    "1_x-3NGQv0pRIab8xDT-f_Hg.png": {
     "image/png": "[encoded data removed]"
    }
   },
   "cell_type": "markdown",
   "metadata": {
    "id": "S_ZjoGBU5upj"
   },
   "source": [
    "### Sieci MLP\n",
    "\n",
    "Dla przypomnienia, na wejściu mamy punkty ze zbioru treningowego, czyli $d$-wymiarowe wektory. W klasyfikacji chcemy znaleźć granicę decyzyjną, czyli krzywą, która oddzieli od siebie klasy. W wejściowej przestrzeni może być to trudne, bo chmury punktów z poszczególnych klas mogą być ze sobą dość pomieszane. Pamiętajmy też, że regresja logistyczna jest klasyfikatorem liniowym, czyli w danej przestrzeni potrafi oddzielić punkty tylko linią prostą.\n",
    "\n",
    "Sieć MLP składa się z warstw. Każda z nich dokonuje nieliniowego przekształcenia przestrzeni (można o tym myśleć jak o składaniu przestrzeni jakąś prostą/łamaną), tak, aby w finalnej przestrzeni nasze punkty były możliwie liniowo separowalne. Wtedy ostatnia warstwa z sigmoidą będzie potrafiła je rozdzielić od siebie.\n",
    "\n",
    "![1_x-3NGQv0pRIab8xDT-f_Hg.png](attachment:1_x-3NGQv0pRIab8xDT-f_Hg.png)\n",
    "\n",
    "Poszczególne neurony składają się z iloczynu skalarnego wejść z wagami neuronu, oraz nieliniowej funkcji aktywacji. W PyTorchu są to osobne obiekty - `nn.Linear` oraz np. `nn.Sigmoid`. Funkcja aktywacji przyjmuje wynik iloczynu skalarnego i przekształca go, aby sprawdzić, jak mocno reaguje neuron na dane wejście. Musi być nieliniowa z dwóch powodów. Po pierwsze, tylko nieliniowe przekształcenia są na tyle potężne, żeby umożliwić liniową separację danych w ostatniej warstwie. Po drugie, liniowe przekształcenia zwyczajnie nie działają. Aby zrozumieć czemu, trzeba zobaczyć, co matematycznie oznacza sieć MLP.\n",
    "\n",
    "![perceptron](https://www.saedsayad.com/images/Perceptron_bkp_1.png)\n",
    "\n",
    "Zapisane matematycznie MLP to:\n",
    "\n",
    "$\\large\n",
    "h_1 = f_1(x) \\\\\n",
    "h_2 = f_2(h_1) \\\\\n",
    "h_3 = f_3(h_2) \\\\\n",
    "... \\\\\n",
    "h_n = f_n(h_{n-1})\n",
    "$\n",
    "\n",
    "gdzie $x$ to wejście $f_i$ to funkcja aktywacji $i$-tej warstwy, a $h_i$ to wyjście $i$-tej warstwy, nazywane **ukrytą reprezentacją (hidden representation)**, lub *latent representation*. Nazwa bierze się z tego, że w środku sieci wyciągamy cechy i wzorce w danych, które nie są widoczne na pierwszy rzut oka na wejściu.\n",
    "\n",
    "Załóżmy, że uczymy się na danych $x$ o jednym wymiarze (dla uproszczenia wzorów) oraz nie mamy funkcji aktywacji, czyli wykorzystujemy tak naprawdę aktywację liniową $f(x) = x$. Zobaczmy jak będą wyglądać dane przechodząc przez kolejne warstwy:\n",
    "\n",
    "$\\large\n",
    "h_1 = f_1(xw_1) = xw_1 \\\\\n",
    "h_2 = f_2(h_1w_2) = xw_1w_2 \\\\\n",
    "... \\\\\n",
    "h_n = f_n(h_{n-1}w_n) = xw_1w_2...w_n\n",
    "$\n",
    "\n",
    "gdzie $w_i$ to jest parametr $i$-tej warstwy sieci, $x$ to są dane (w naszym przypadku jedna liczba) wejściowa, a $h_i$ to wyjście $i$-tej warstwy.\n",
    "\n",
    "Jak widać, taka sieć o $n$ warstwach jest równoważna sieci o jednej warstwie z parametrem $w = w_1w_2...w_n$. Wynika to z tego, że złożenie funkcji liniowych jest także funkcją liniową - patrz notatki z algebry :)\n",
    "\n",
    "Jeżeli natomiast użyjemy nieliniowej funkcji aktywacji, często oznaczanej jako $\\sigma$, to wszystko będzie działać. Co ważne, ostatnia warstwa, dająca wyjście sieci, ma zwykle inną aktywację od warstw wewnątrz sieci, bo też ma inne zadanie - zwrócić wartość dla klasyfikacji lub regresji. Na wyjściu korzysta się z funkcji liniowej (regresja), sigmoidalnej (klasyfikacja binarna) lub softmax (klasyfikacja wieloklasowa).\n",
    "\n",
    "Wewnątrz sieci używano kiedyś sigmoidy oraz tangensa hiperbolicznego `tanh`, ale okazało się to nieefektywne przy uczeniu głębokich sieci o wielu warstwach. Nowoczesne sieci korzystają zwykle z funkcji ReLU (*rectified linear unit*), która jest zaskakująco prosta: $ReLU(x) = \\max(0, x)$. Okazało się, że bardzo dobrze nadaje się do treningu nawet bardzo głębokich sieci neuronowych. Nowsze funkcje aktywacji są głównie modyfikacjami ReLU.\n",
    "\n",
    "![relu](https://www.nomidl.com/wp-content/uploads/2022/04/image-10.png)"
   ]
  },
  {
   "cell_type": "markdown",
   "metadata": {},
   "source": [
    "### MLP w PyTorchu\n",
    "\n",
    "Warstwę neuronów w MLP nazywa się warstwą gęstą (*dense layer*) lub warstwą w pełni połączoną (*fully-connected layer*), i taki opis oznacza zwykle same neurony oraz funkcję aktywacji. PyTorch, jak już widzieliśmy, definiuje osobno transformację liniową oraz aktywację, a więc jedna warstwa składa się de facto z 2 obiektów, wywoływanych jeden po drugim. Inne frameworki, szczególnie wysokopoziomowe (np. Keras) łączą to często w jeden obiekt.\n",
    "\n",
    "MLP składa się zatem z sekwencji obiektów, które potem wywołuje się jeden po drugim, gdzie wyjście poprzedniego to wejście kolejnego. Ale nie można tutaj używać Pythonowych list! Z perspektywy PyTorcha to wtedy niezależne obiekty i nie zostanie wtedy przekazany między nimi gradient. Trzeba tutaj skorzystać z `nn.Sequential`, aby tworzyć taki pipeline.\n",
    "\n",
    "Rozmiary wejścia i wyjścia dla każdej warstwy trzeba w PyTorchu podawać explicite. Jest to po pierwsze edukacyjne, a po drugie często ułatwia wnioskowanie o działaniu sieci oraz jej debugowanie - mamy jasno podane, czego oczekujemy. Niektóre frameworki (np. Keras) obliczają to automatycznie.\n",
    "\n",
    "Co ważne, ostatnia warstwa zwykle nie ma funkcji aktywacji. Wynika to z tego, że obliczanie wielu funkcji kosztu (np. entropii krzyżowej) na aktywacjach jest często niestabilne numerycznie. Z tego powodu PyTorch oferuje funkcje kosztu zawierające w środku aktywację dla ostatniej warstwy, a ich implementacje są stabilne numerycznie. Przykładowo, `nn.BCELoss` przyjmuje wejście z zaaplikowanymi już aktywacjami, ale może skutkować under/overflow, natomiast `nn.BCEWithLogitsLoss` przyjmuje wejście bez aktywacji, a w środku ma specjalną implementację łączącą binarną entropię krzyżową z aktywacją sigmoidalną. Oczywiście w związku z tym aby dokonać potem predykcji w praktyce, trzeba pamiętać o użyciu funkcji aktywacji. Często korzysta się przy tym z funkcji z modułu `torch.nn.functional`, które są w tym wypadku nieco wygodniejsze od klas wywoływalnych z `torch.nn`.\n",
    "\n",
    "Całe sieci w PyTorchu tworzy się jako klasy dziedziczące po `nn.Module`. Co ważne, obiekty, z których tworzymy sieć, np. `nn.Linear`, także dziedziczą po tej klasie. Pozwala to na bardzo modułową budowę kodu, zgodną z zasadami OOP. W konstruktorze najpierw trzeba zawsze wywołać konstruktor rodzica - `super().__init__()`, a później tworzy się potrzebne obiekty i zapisuje jako atrybuty. Każdy atrybut dziedziczący po `nn.Module` lub `nn.Parameter` jest uważany za taki, który zawiera parametry sieci, a więc przy wywołaniu metody `parameters()` - parametry z tych atrybutów pojawią się w liście wszystkich parametrów. Musimy też zdefiniować metodę `forward()`, która przyjmuje tensor `x` i zwraca wynik. Typowo ta metoda po prostu używa obiektów zdefiniowanych w konstruktorze.\n",
    "\n",
    "\n",
    "**UWAGA: nigdy w normalnych warunkach się nie woła metody `forward` ręcznie**"
   ]
  },
  {
   "cell_type": "markdown",
   "metadata": {
    "editable": true,
    "id": "J8niDgExAMDO",
    "slideshow": {
     "slide_type": ""
    },
    "tags": [
     "ex"
    ]
   },
   "source": [
    "### Zadanie 4 (0.5 punktu)\n",
    "\n",
    "Uzupełnij implementację 3-warstwowej sieci MLP. Użyj rozmiarów:\n",
    "* pierwsza warstwa: input_size x 256\n",
    "* druga warstwa: 256 x 128\n",
    "* trzecia warstwa: 128 x 1\n",
    "\n",
    "Użyj funkcji aktywacji ReLU.\n",
    "\n",
    "Przydatne klasy:\n",
    "- `nn.Sequential`\n",
    "- `nn.Linear`\n",
    "- `nn.ReLU`"
   ]
  },
  {
   "cell_type": "code",
   "metadata": {
    "tags": [
     "ex"
    ],
    "ExecuteTime": {
     "end_time": "2024-11-19T12:45:28.726994Z",
     "start_time": "2024-11-19T12:45:28.720493Z"
    }
   },
   "source": [
    "from torch import sigmoid\n",
    "\n",
    "\n",
    "class MLP(nn.Module):\n",
    "    def __init__(self, input_size: int):\n",
    "        super().__init__()\n",
    "        self.model = nn.Sequential(\n",
    "            nn.Linear(input_size, 256),\n",
    "            nn.ReLU(),\n",
    "            nn.Linear(256, 128),\n",
    "            nn.ReLU(),\n",
    "            nn.Linear(128, 1),\n",
    "        )\n",
    "\n",
    "        # implement me!\n",
    "        # your_code\n",
    "\n",
    "    def forward(self, x):\n",
    "        # implement me!\n",
    "        # your_code\n",
    "\n",
    "        return self.model(x)\n",
    "\n",
    "    def predict_proba(self, x):\n",
    "        return sigmoid(self(x))\n",
    "\n",
    "    def predict(self, x, threshold: float = 0.5):\n",
    "        y_pred_score = self.predict_proba(x)\n",
    "        return (y_pred_score > threshold).to(torch.int32)"
   ],
   "outputs": [],
   "execution_count": 35
  },
  {
   "cell_type": "code",
   "metadata": {
    "editable": true,
    "slideshow": {
     "slide_type": ""
    },
    "tags": [
     "ex"
    ],
    "ExecuteTime": {
     "end_time": "2024-11-19T12:45:39.813254Z",
     "start_time": "2024-11-19T12:45:31.817989Z"
    }
   },
   "source": [
    "# 43s\n",
    "learning_rate = 1e-3\n",
    "model = MLP(input_size=X_train.shape[1])\n",
    "model.to(device)\n",
    "optimizer = torch.optim.SGD(model.parameters(), lr=learning_rate)\n",
    "\n",
    "\n",
    "# note that we are using loss function with sigmoid built in\n",
    "loss_fn = torch.nn.BCEWithLogitsLoss()\n",
    "num_epochs = 2000\n",
    "evaluation_steps = 200\n",
    "\n",
    "for i in range(num_epochs):\n",
    "    y_pred = model(X_train)\n",
    "    loss = loss_fn(y_pred, y_train)\n",
    "    loss.backward()\n",
    "\n",
    "    optimizer.step()\n",
    "    optimizer.zero_grad()\n",
    "\n",
    "    if i % evaluation_steps == 0:\n",
    "        print(f\"Epoch {i} train loss: {loss.item():.4f}\")\n",
    "\n",
    "print(f\"final loss: {loss.item():.4f}\")"
   ],
   "outputs": [
    {
     "name": "stdout",
     "output_type": "stream",
     "text": [
      "Epoch 0 train loss: 0.7098\n",
      "Epoch 200 train loss: 0.6834\n",
      "Epoch 400 train loss: 0.6607\n",
      "Epoch 600 train loss: 0.6409\n",
      "Epoch 800 train loss: 0.6232\n",
      "Epoch 1000 train loss: 0.6073\n",
      "Epoch 1200 train loss: 0.5931\n",
      "Epoch 1400 train loss: 0.5804\n",
      "Epoch 1600 train loss: 0.5690\n",
      "Epoch 1800 train loss: 0.5588\n",
      "final loss: 0.5498\n"
     ]
    }
   ],
   "execution_count": 36
  },
  {
   "cell_type": "code",
   "metadata": {
    "colab": {
     "base_uri": "https://localhost:8080/"
    },
    "id": "LP5GSup24dXU",
    "outputId": "05f332c4-5d94-41f6-f85b-17793d3c4b49",
    "tags": [
     "ex"
    ],
    "ExecuteTime": {
     "end_time": "2024-11-19T12:45:42.568648Z",
     "start_time": "2024-11-19T12:45:42.439161Z"
    }
   },
   "source": [
    "model.eval()\n",
    "with torch.no_grad():\n",
    "    # positive class probabilities\n",
    "    y_pred_valid_score = model.predict_proba(X_valid)\n",
    "    y_pred_test_score = model.predict_proba(X_test)\n",
    "\n",
    "auroc = roc_auc_score(y_test.cpu().numpy(), y_pred_test_score.cpu().numpy())\n",
    "print(f\"AUROC: {auroc:.2%}\")\n",
    "\n",
    "plot_precision_recall_curve(y_valid.cpu().numpy(), y_pred_valid_score.cpu().numpy())"
   ],
   "outputs": [
    {
     "name": "stdout",
     "output_type": "stream",
     "text": [
      "AUROC: 78.65%\n"
     ]
    },
    {
     "data": {
      "text/plain": [
       "<Figure size 640x480 with 1 Axes>"
      ],
      "image/png": "[encoded data removed]"
     },
     "metadata": {},
     "output_type": "display_data"
    }
   ],
   "execution_count": 37
  },
  {
   "cell_type": "code",
   "metadata": {
    "tags": [
     "ex"
    ],
    "ExecuteTime": {
     "end_time": "2024-11-19T12:45:53.612912Z",
     "start_time": "2024-11-19T12:45:53.605972Z"
    }
   },
   "source": [
    "assert any(\n",
    "    isinstance(module, nn.Linear)\n",
    "    and module.in_features == X_train.shape[1]\n",
    "    and module.out_features == 256\n",
    "    for module in model.modules()\n",
    ")\n",
    "\n",
    "assert any(\n",
    "    isinstance(module, nn.Linear)\n",
    "    and module.in_features == 256\n",
    "    and module.out_features == 128\n",
    "    for module in model.modules()\n",
    ")\n",
    "\n",
    "assert any(\n",
    "    isinstance(module, nn.Linear)\n",
    "    and module.in_features == 128\n",
    "    and module.out_features == 1\n",
    "    for module in model.modules()\n",
    ")\n",
    "\n",
    "assert any(isinstance(module, nn.ReLU) for module in model.modules())\n",
    "\n",
    "assert 0.5 < loss.item() < 0.6\n",
    "assert 0.6 < auroc < 0.9\n",
    "\n",
    "print(\"Solution is correct!\")"
   ],
   "outputs": [
    {
     "name": "stdout",
     "output_type": "stream",
     "text": [
      "Solution is correct!\n"
     ]
    }
   ],
   "execution_count": 38
  },
  {
   "cell_type": "markdown",
   "metadata": {},
   "source": [
    "AUROC jest podobne, a precision i recall spadły - wypadamy wręcz gorzej od regresji liniowej! Skoro dodaliśmy więcej warstw, to może pojemność modelu jest teraz za duża i trzeba by go zregularyzować?\n",
    "\n",
    "Sieci neuronowe bardzo łatwo przeuczają, bo są bardzo elastycznymi i pojemnymi modelami. Dlatego mają wiele różnych rodzajów regularyzacji, których używa się razem. Co ciekawe, udowodniono eksperymentalnie, że zbyt duże sieci z mocną regularyzacją działają lepiej niż mniejsze sieci, odpowiedniego rozmiaru, za to ze słabszą regularyzacją.\n",
    "\n",
    "Pierwszy rodzaj regularyzacji to znana nam już **regularyzacja L2**, czyli penalizacja zbyt dużych wag. W kontekście sieci neuronowych nazywa się też ją czasem *weight decay*. W PyTorchu dodaje się ją jako argument do optymalizatora.\n",
    "\n",
    "Regularyzacja specyficzna dla sieci neuronowych to **dropout**. Polega on na losowym wyłączaniu zadanego procenta neuronów podczas treningu. Pomimo prostoty okazała się niesamowicie skuteczna, szczególnie w treningu bardzo głębokich sieci. Co ważne, jest to mechanizm używany tylko podczas treningu - w trakcie predykcji za pomocą sieci wyłącza się ten mechanizm i dokonuje normalnie predykcji całą siecią. Podejście to można potraktować jak ensemble learning, podobny do lasów losowych - wyłączając losowe części sieci, w każdej iteracji trenujemy nieco inną sieć, co odpowiada uśrednianiu predykcji różnych algorytmów. Typowo stosuje się dość mocny dropout, rzędu 25-50%. W PyTorchu implementuje go warstwa `nn.Dropout`, aplikowana zazwyczaj po funkcji aktywacji.\n",
    "\n",
    "Ostatni, a być może najważniejszy rodzaj regularyzacji to **wczesny stop (early stopping)**. W każdym kroku mocniej dostosowujemy terenową sieć do zbioru treningowego, a więc zbyt długi trening będzie skutkował przeuczeniem. W metodzie wczesnego stopu używamy wydzielonego zbioru walidacyjnego (pojedynczego, metoda holdout), sprawdzając co określoną liczbę epok wynik na tym zbiorze. Jeżeli nie uzyskamy wyniku lepszego od najlepszego dotychczas uzyskanego przez określoną liczbę epok, to przerywamy trening. Okres, przez który czekamy na uzyskanie lepszego wyniku, to cierpliwość (*patience*). Im mniejsze, tym mocniejszy jest ten rodzaj regularyzacji, ale trzeba z tym uważać, bo łatwo jest przesadzić i zbyt szybko przerywać trening. Niektóre implementacje uwzględniają tzw. *grace period*, czyli gwarantowaną minimalną liczbę epok, przez którą będziemy trenować sieć, niezależnie od wybranej cierpliwości.\n",
    "\n",
    "Dodatkowo ryzyko przeuczenia można zmniejszyć, używając mniejszej stałej uczącej."
   ]
  },
  {
   "cell_type": "markdown",
   "metadata": {
    "tags": [
     "ex"
    ]
   },
   "source": [
    "### Zadanie 5 (1.5 punktu)\n",
    "\n",
    "Zaimplementuj funkcję `evaluate_model()`, obliczającą metryki na zbiorze testowym:\n",
    "- wartość funkcji kosztu (loss)\n",
    "- AUROC\n",
    "- optymalny próg\n",
    "- F1-score przy optymalnym progu\n",
    "- precyzję oraz recall dla optymalnego progu\n",
    "\n",
    "Jeżeli podana jest wartość argumentu `threshold`, to użyj jej do zamiany prawdopodobieństw na twarde predykcje. W przeciwnym razie użyj funkcji `get_optimal_threshold` i oblicz optymalną wartość progu.\n",
    "\n",
    "Pamiętaj o przełączeniu modelu w tryb ewaluacji oraz o wyłączeniu obliczania gradientów."
   ]
  },
  {
   "cell_type": "code",
   "metadata": {
    "tags": [
     "ex"
    ],
    "ExecuteTime": {
     "end_time": "2024-11-19T12:45:57.206883Z",
     "start_time": "2024-11-19T12:45:57.199343Z"
    }
   },
   "source": [
    "from typing import Optional\n",
    "\n",
    "from sklearn.metrics import precision_score, recall_score, f1_score\n",
    "from torch import sigmoid\n",
    "\n",
    "\n",
    "def evaluate_model(\n",
    "    model: nn.Module,\n",
    "    X: torch.Tensor,\n",
    "    y: torch.Tensor,\n",
    "    loss_fn: nn.Module,\n",
    "    threshold: Optional[float] = None,\n",
    ") -> Dict[str, float]:\n",
    "    # implement me!\n",
    "    # your_code\n",
    "\n",
    "    model.eval()\n",
    "    with torch.no_grad():\n",
    "\n",
    "        y_train_prob = model.predict_proba(X).cpu().numpy()\n",
    "        y_train_pred = model(X)\n",
    "        y_true = y.cpu().numpy()\n",
    "\n",
    "    loss = loss_fn(y_train_pred, y).item()\n",
    "\n",
    "    auroc = roc_auc_score(y_true, y_train_prob)\n",
    "\n",
    "    if not threshold:\n",
    "\n",
    "        precisions, recalls, thresholds = precision_recall_curve(y_true, y_train_prob)\n",
    "        optimal_idx, optimal_threshold = get_optimal_threshold(\n",
    "            precisions, recalls, thresholds\n",
    "        )\n",
    "        threshold = optimal_threshold\n",
    "\n",
    "    y_train_pred_score = (y_train_prob >= threshold).astype(int)\n",
    "\n",
    "    precision = precision_score(y_true, y_train_pred_score)\n",
    "    recall = recall_score(y_true, y_train_pred_score)\n",
    "    f1 = f1_score(y_true, y_train_pred_score)\n",
    "\n",
    "    evaluation_results = {\n",
    "        \"loss\": loss,\n",
    "        \"AUROC\": auroc,\n",
    "        \"precision\": precision,\n",
    "        \"recall\": recall,\n",
    "        \"F1-score\": f1,\n",
    "        \"threshold\": threshold,\n",
    "    }\n",
    "\n",
    "    return evaluation_results"
   ],
   "outputs": [],
   "execution_count": 39
  },
  {
   "cell_type": "code",
   "metadata": {
    "tags": [
     "ex"
    ],
    "ExecuteTime": {
     "end_time": "2024-11-19T12:46:00.826187Z",
     "start_time": "2024-11-19T12:46:00.739755Z"
    }
   },
   "source": [
    "eval_result = evaluate_model(model, X_train, y_train, loss_fn)\n",
    "print(f\"{eval_result=}\")\n",
    "assert 0.5 < eval_result[\"loss\"] < 0.6\n",
    "assert 0.6 < eval_result[\"AUROC\"] < 0.9\n",
    "assert 0.3 < eval_result[\"precision\"] < 0.6\n",
    "assert 0.6 < eval_result[\"recall\"] < 0.9\n",
    "assert 0.4 < eval_result[\"F1-score\"] < 0.7\n",
    "\n",
    "print(\"Solution is correct!\")"
   ],
   "outputs": [
    {
     "name": "stdout",
     "output_type": "stream",
     "text": [
      "eval_result={'loss': 0.5498067140579224, 'AUROC': 0.7943629734472963, 'precision': 0.4402090013062582, 'recall': 0.7387405340773217, 'F1-score': 0.5516779522285884, 'threshold': 0.3335627}\n",
      "Solution is correct!\n"
     ]
    }
   ],
   "execution_count": 40
  },
  {
   "cell_type": "markdown",
   "metadata": {
    "tags": [
     "ex"
    ]
   },
   "source": [
    "### Zadanie 6 (0.5 punktu)\n",
    "\n",
    "Zaimplementuj 3-warstwową sieć MLP z dropout (50%). Rozmiary warstw ukrytych mają wynosić 256 i 128."
   ]
  },
  {
   "cell_type": "code",
   "metadata": {
    "tags": [
     "ex"
    ],
    "ExecuteTime": {
     "end_time": "2024-11-19T12:46:32.193980Z",
     "start_time": "2024-11-19T12:46:32.187556Z"
    }
   },
   "source": [
    "class RegularizedMLP(nn.Module):\n",
    "    def __init__(self, input_size: int, dropout_p: float = 0.5):\n",
    "        super().__init__()\n",
    "\n",
    "        # implement me!\n",
    "        # your_code\n",
    "\n",
    "        self.model = nn.Sequential(\n",
    "            nn.Linear(input_size, 256),\n",
    "            nn.ReLU(),\n",
    "            nn.Dropout(p=dropout_p),\n",
    "            nn.Linear(256, 128),\n",
    "            nn.ReLU(),\n",
    "            nn.Dropout(p=dropout_p),\n",
    "            nn.Linear(128, 1),\n",
    "        )\n",
    "\n",
    "    def forward(self, x):\n",
    "        # implement me!\n",
    "        # your_code\n",
    "\n",
    "        return self.model(x)\n",
    "\n",
    "    def predict_proba(self, x):\n",
    "        return sigmoid(self(x))\n",
    "\n",
    "    def predict(self, x, threshold: float = 0.5):\n",
    "        y_pred_score = self.predict_proba(x)\n",
    "        return (y_pred_score > threshold).to(torch.int32)"
   ],
   "outputs": [],
   "execution_count": 41
  },
  {
   "cell_type": "code",
   "metadata": {
    "tags": [
     "ex"
    ],
    "ExecuteTime": {
     "end_time": "2024-11-19T12:46:35.077250Z",
     "start_time": "2024-11-19T12:46:35.064335Z"
    }
   },
   "source": [
    "verification_input_size = 143\n",
    "verification_dropout_p = 0.125\n",
    "verification_model = RegularizedMLP(\n",
    "    input_size=verification_input_size,\n",
    "    dropout_p=verification_dropout_p,\n",
    ")\n",
    "\n",
    "assert any(\n",
    "    isinstance(module, nn.Linear)\n",
    "    and module.in_features == verification_input_size\n",
    "    and module.out_features == 256\n",
    "    for module in verification_model.modules()\n",
    ")\n",
    "\n",
    "assert any(\n",
    "    isinstance(module, nn.Linear)\n",
    "    and module.in_features == 256\n",
    "    and module.out_features == 128\n",
    "    for module in verification_model.modules()\n",
    ")\n",
    "\n",
    "assert any(\n",
    "    isinstance(module, nn.Linear)\n",
    "    and module.in_features == 128\n",
    "    and module.out_features == 1\n",
    "    for module in verification_model.modules()\n",
    ")\n",
    "\n",
    "assert any(\n",
    "    isinstance(module, nn.Dropout) and module.p == verification_dropout_p\n",
    "    for module in verification_model.modules()\n",
    ")\n",
    "assert any(isinstance(module, nn.ReLU) for module in verification_model.modules())\n",
    "\n",
    "print(\"Solution is correct!\")"
   ],
   "outputs": [
    {
     "name": "stdout",
     "output_type": "stream",
     "text": [
      "Solution is correct!\n"
     ]
    }
   ],
   "execution_count": 42
  },
  {
   "cell_type": "markdown",
   "metadata": {
    "id": "rEk9azaULAsz"
   },
   "source": [
    "Opisaliśmy wcześniej podstawowy optymalizator w sieciach neuronowych - spadek wzdłuż gradientu. Jednak wymaga on użycia całego zbioru danych, aby obliczyć gradient, co jest często niewykonalne przez rozmiar zbioru. Dlatego wymyślono **stochastyczny spadek wzdłuż gradientu (stochastic gradient descent, SGD)**, w którym używamy 1 przykładu naraz, liczymy gradient tylko po nim i aktualizujemy parametry. Jest to oczywiście dość grube przybliżenie gradientu, ale pozwala robić szybko dużo małych kroków. Kompromisem, którego używa się w praktyce, jest **minibatch gradient descent**, czyli używanie batchy np. 32, 64 czy 128 przykładów.\n",
    "\n",
    "Rzadko wspominanym, a ważnym faktem jest także to, że stochastyczność metody optymalizacji jest sama w sobie też [metodą regularyzacji](https://arxiv.org/abs/2101.12176), a więc `batch_size` to także hiperparametr.\n",
    "\n",
    "Obecnie najpopularniejszą odmianą SGD jest [Adam](https://arxiv.org/abs/1412.6980), gdyż uczy on szybko sieć oraz daje bardzo dobre wyniki nawet przy niekoniecznie idealnie dobranych hiperparametrach. W PyTorchu najlepiej korzystać z jego implementacji `AdamW`, która jest nieco lepsza niż implementacja `Adam`. Jest to zasadniczo zawsze wybór domyślny przy treningu współczesnych sieci neuronowych.\n",
    "\n",
    "Na razie użyjemy jednak minibatch SGD."
   ]
  },
  {
   "cell_type": "markdown",
   "metadata": {},
   "source": [
    "Poniżej znajduje się implementacja prostej klasy dziedziczącej po `Dataset` - tak w PyTorchu implementuje się własne zbiory danych. Użycie takich klas umożliwia użycie klas ładujących dane (`DataLoader`), które z kolei pozwalają łatwo ładować batche danych. Trzeba w takiej klasie zaimplementować metody:\n",
    "- `__len__` - zwraca ilość punktów w zbiorze\n",
    "- `__getitem__` - zwraca przykład ze zbioru pod danym indeksem oraz jego klasę\n"
   ]
  },
  {
   "cell_type": "code",
   "metadata": {
    "ExecuteTime": {
     "end_time": "2024-11-19T12:46:38.221135Z",
     "start_time": "2024-11-19T12:46:38.216331Z"
    }
   },
   "source": [
    "from torch.utils.data import Dataset\n",
    "\n",
    "\n",
    "class MyDataset(Dataset):\n",
    "    def __init__(self, data, y):\n",
    "        super().__init__()\n",
    "\n",
    "        self.data = data\n",
    "        self.y = y\n",
    "\n",
    "    def __len__(self):\n",
    "        return self.data.shape[0]\n",
    "\n",
    "    def __getitem__(self, idx):\n",
    "        return self.data[idx], self.y[idx]"
   ],
   "outputs": [],
   "execution_count": 43
  },
  {
   "cell_type": "markdown",
   "metadata": {
    "tags": [
     "ex"
    ]
   },
   "source": [
    "### Zadanie 7 (1.5 punktu)\n",
    "\n",
    "Zaimplementuj pętlę treningowo-walidacyjną dla sieci neuronowej. Wykorzystaj podane wartości hiperparametrów do treningu (stała ucząca, prawdopodobieństwo dropoutu, regularyzacja L2, rozmiar batcha, maksymalna liczba epok). Użyj optymalizatora SGD.\n",
    "\n",
    "Dodatkowo zaimplementuj regularyzację przez early stopping. Sprawdzaj co epokę wynik na zbiorze walidacyjnym. Użyj podanej wartości patience, a jako metryki po prostu wartości funkcji kosztu. Może się tutaj przydać zaimplementowana funkcja `evaluate_model()`.\n",
    "\n",
    "Pamiętaj o tym, aby przechowywać najlepszy dotychczasowy wynik walidacyjny oraz najlepszy dotychczasowy model. Zapamiętaj też optymalny próg do klasyfikacji dla najlepszego modelu."
   ]
  },
  {
   "cell_type": "code",
   "metadata": {
    "tags": [
     "ex"
    ],
    "ExecuteTime": {
     "end_time": "2024-11-19T12:46:40.403476Z",
     "start_time": "2024-11-19T12:46:40.398735Z"
    }
   },
   "source": [
    "from copy import deepcopy\n",
    "\n",
    "from torch.utils.data import DataLoader\n",
    "\n",
    "\n",
    "learning_rate = 1e-3\n",
    "dropout_p = 0.5\n",
    "l2_reg = 1e-4\n",
    "batch_size = 128\n",
    "max_epochs = 300\n",
    "\n",
    "early_stopping_patience = 4"
   ],
   "outputs": [],
   "execution_count": 44
  },
  {
   "cell_type": "code",
   "metadata": {
    "editable": true,
    "lines_to_next_cell": 2,
    "scrolled": true,
    "slideshow": {
     "slide_type": ""
    },
    "tags": [
     "ex"
    ],
    "ExecuteTime": {
     "end_time": "2024-11-19T12:49:44.256663Z",
     "start_time": "2024-11-19T12:46:42.113569Z"
    }
   },
   "source": [
    "# 1m\n",
    "\n",
    "model = RegularizedMLP(input_size=X_train.shape[1], dropout_p=dropout_p).to(device)\n",
    "optimizer = torch.optim.SGD(model.parameters(), lr=learning_rate, weight_decay=l2_reg)\n",
    "loss_fn = torch.nn.BCEWithLogitsLoss()\n",
    "\n",
    "train_dataset = MyDataset(X_train, y_train)\n",
    "train_dataloader = DataLoader(train_dataset, batch_size=batch_size)\n",
    "\n",
    "steps_without_improvement = 0\n",
    "\n",
    "best_val_loss = np.inf\n",
    "best_mlp_model = None\n",
    "best_threshold = None\n",
    "\n",
    "for epoch_num in range(max_epochs):\n",
    "    model.train()\n",
    "\n",
    "    # note that we are using DataLoader to get batches\n",
    "    for X_batch, y_batch in train_dataloader:\n",
    "        # model training\n",
    "        # implement me!\n",
    "        # your_code\n",
    "        X_batch = X_batch.to(device)\n",
    "        y_batch = y_batch.to(device)\n",
    "\n",
    "        y_pred = model(X_batch)\n",
    "        loss = loss_fn(y_pred, y_batch)\n",
    "        loss.backward()\n",
    "\n",
    "        optimizer.step()\n",
    "        optimizer.zero_grad()\n",
    "    # model evaluation, early stopping\n",
    "    # implement me!\n",
    "    # your_code\n",
    "\n",
    "    valid_metrics = evaluate_model(model, X_valid, y_valid, loss_fn)\n",
    "    valid_loss = valid_metrics[\"loss\"]\n",
    "\n",
    "    if valid_loss < best_val_loss:\n",
    "        best_val_loss = valid_loss\n",
    "        best_mlp_model = deepcopy(model)\n",
    "        best_threshold = valid_metrics[\"threshold\"]\n",
    "        steps_without_improvement = 0\n",
    "\n",
    "    else:\n",
    "        steps_without_improvement += 1\n",
    "\n",
    "    if steps_without_improvement >= early_stopping_patience:\n",
    "        print(\"Early stopping triggered.\")\n",
    "        break\n",
    "\n",
    "    print(\n",
    "        f\"Epoch {epoch_num} train loss: {loss.item():.4f}, eval loss {valid_metrics['loss']:.4f}\"\n",
    "    )"
   ],
   "outputs": [
    {
     "name": "stdout",
     "output_type": "stream",
     "text": [
      "Epoch 0 train loss: 0.6751, eval loss 0.6749\n",
      "Epoch 1 train loss: 0.6536, eval loss 0.6581\n",
      "Epoch 2 train loss: 0.6396, eval loss 0.6433\n",
      "Epoch 3 train loss: 0.6201, eval loss 0.6301\n",
      "Epoch 4 train loss: 0.6153, eval loss 0.6183\n",
      "Epoch 5 train loss: 0.5923, eval loss 0.6076\n",
      "Epoch 6 train loss: 0.5920, eval loss 0.5980\n",
      "Epoch 7 train loss: 0.5921, eval loss 0.5893\n",
      "Epoch 8 train loss: 0.5708, eval loss 0.5813\n",
      "Epoch 9 train loss: 0.5643, eval loss 0.5741\n",
      "Epoch 10 train loss: 0.5556, eval loss 0.5675\n",
      "Epoch 11 train loss: 0.5553, eval loss 0.5614\n",
      "Epoch 12 train loss: 0.5478, eval loss 0.5558\n",
      "Epoch 13 train loss: 0.5442, eval loss 0.5506\n",
      "Epoch 14 train loss: 0.5465, eval loss 0.5458\n",
      "Epoch 15 train loss: 0.5293, eval loss 0.5413\n",
      "Epoch 16 train loss: 0.5316, eval loss 0.5370\n",
      "Epoch 17 train loss: 0.5348, eval loss 0.5329\n",
      "Epoch 18 train loss: 0.5213, eval loss 0.5289\n",
      "Epoch 19 train loss: 0.5161, eval loss 0.5251\n",
      "Epoch 20 train loss: 0.5181, eval loss 0.5214\n",
      "Epoch 21 train loss: 0.5072, eval loss 0.5177\n",
      "Epoch 22 train loss: 0.5017, eval loss 0.5141\n",
      "Epoch 23 train loss: 0.4897, eval loss 0.5106\n",
      "Epoch 24 train loss: 0.5094, eval loss 0.5070\n",
      "Epoch 25 train loss: 0.4963, eval loss 0.5035\n",
      "Epoch 26 train loss: 0.4989, eval loss 0.4999\n",
      "Epoch 27 train loss: 0.4946, eval loss 0.4964\n",
      "Epoch 28 train loss: 0.4894, eval loss 0.4928\n",
      "Epoch 29 train loss: 0.4915, eval loss 0.4892\n",
      "Epoch 30 train loss: 0.4722, eval loss 0.4857\n",
      "Epoch 31 train loss: 0.4767, eval loss 0.4820\n",
      "Epoch 32 train loss: 0.4804, eval loss 0.4783\n",
      "Epoch 33 train loss: 0.4832, eval loss 0.4747\n",
      "Epoch 34 train loss: 0.4935, eval loss 0.4711\n",
      "Epoch 35 train loss: 0.4672, eval loss 0.4674\n",
      "Epoch 36 train loss: 0.4640, eval loss 0.4638\n",
      "Epoch 37 train loss: 0.4458, eval loss 0.4601\n",
      "Epoch 38 train loss: 0.4522, eval loss 0.4566\n",
      "Epoch 39 train loss: 0.4727, eval loss 0.4529\n",
      "Epoch 40 train loss: 0.4519, eval loss 0.4494\n",
      "Epoch 41 train loss: 0.4490, eval loss 0.4458\n",
      "Epoch 42 train loss: 0.4629, eval loss 0.4423\n",
      "Epoch 43 train loss: 0.4338, eval loss 0.4388\n",
      "Epoch 44 train loss: 0.4358, eval loss 0.4354\n",
      "Epoch 45 train loss: 0.4335, eval loss 0.4320\n",
      "Epoch 46 train loss: 0.4402, eval loss 0.4288\n",
      "Epoch 47 train loss: 0.4273, eval loss 0.4255\n",
      "Epoch 48 train loss: 0.4414, eval loss 0.4224\n",
      "Epoch 49 train loss: 0.4313, eval loss 0.4193\n",
      "Epoch 50 train loss: 0.4236, eval loss 0.4163\n",
      "Epoch 51 train loss: 0.4209, eval loss 0.4134\n",
      "Epoch 52 train loss: 0.4245, eval loss 0.4105\n",
      "Epoch 53 train loss: 0.4141, eval loss 0.4077\n",
      "Epoch 54 train loss: 0.4342, eval loss 0.4050\n",
      "Epoch 55 train loss: 0.4162, eval loss 0.4024\n",
      "Epoch 56 train loss: 0.4112, eval loss 0.3999\n",
      "Epoch 57 train loss: 0.3896, eval loss 0.3975\n",
      "Epoch 58 train loss: 0.4088, eval loss 0.3951\n",
      "Epoch 59 train loss: 0.4003, eval loss 0.3929\n",
      "Epoch 60 train loss: 0.4205, eval loss 0.3907\n",
      "Epoch 61 train loss: 0.4109, eval loss 0.3886\n",
      "Epoch 62 train loss: 0.4138, eval loss 0.3866\n",
      "Epoch 63 train loss: 0.4072, eval loss 0.3846\n",
      "Epoch 64 train loss: 0.4072, eval loss 0.3828\n",
      "Epoch 65 train loss: 0.4206, eval loss 0.3810\n",
      "Epoch 66 train loss: 0.4302, eval loss 0.3793\n",
      "Epoch 67 train loss: 0.3952, eval loss 0.3777\n",
      "Epoch 68 train loss: 0.3912, eval loss 0.3762\n",
      "Epoch 69 train loss: 0.3974, eval loss 0.3747\n",
      "Epoch 70 train loss: 0.4185, eval loss 0.3734\n",
      "Epoch 71 train loss: 0.3988, eval loss 0.3720\n",
      "Epoch 72 train loss: 0.3685, eval loss 0.3708\n",
      "Epoch 73 train loss: 0.3886, eval loss 0.3696\n",
      "Epoch 74 train loss: 0.3863, eval loss 0.3685\n",
      "Epoch 75 train loss: 0.4024, eval loss 0.3674\n",
      "Epoch 76 train loss: 0.4129, eval loss 0.3664\n",
      "Epoch 77 train loss: 0.4146, eval loss 0.3654\n",
      "Epoch 78 train loss: 0.3932, eval loss 0.3644\n",
      "Epoch 79 train loss: 0.3822, eval loss 0.3635\n",
      "Epoch 80 train loss: 0.3774, eval loss 0.3627\n",
      "Epoch 81 train loss: 0.3875, eval loss 0.3620\n",
      "Epoch 82 train loss: 0.3883, eval loss 0.3612\n",
      "Epoch 83 train loss: 0.4038, eval loss 0.3605\n",
      "Epoch 84 train loss: 0.3982, eval loss 0.3599\n",
      "Epoch 85 train loss: 0.3962, eval loss 0.3592\n",
      "Epoch 86 train loss: 0.4036, eval loss 0.3586\n",
      "Epoch 87 train loss: 0.3765, eval loss 0.3580\n",
      "Epoch 88 train loss: 0.4032, eval loss 0.3574\n",
      "Epoch 89 train loss: 0.4097, eval loss 0.3569\n",
      "Epoch 90 train loss: 0.3648, eval loss 0.3564\n",
      "Epoch 91 train loss: 0.3915, eval loss 0.3559\n",
      "Epoch 92 train loss: 0.3933, eval loss 0.3554\n",
      "Epoch 93 train loss: 0.3974, eval loss 0.3550\n",
      "Epoch 94 train loss: 0.4042, eval loss 0.3546\n",
      "Epoch 95 train loss: 0.4231, eval loss 0.3541\n",
      "Epoch 96 train loss: 0.3693, eval loss 0.3537\n",
      "Epoch 97 train loss: 0.4203, eval loss 0.3533\n",
      "Epoch 98 train loss: 0.4037, eval loss 0.3530\n",
      "Epoch 99 train loss: 0.4071, eval loss 0.3526\n",
      "Epoch 100 train loss: 0.3949, eval loss 0.3522\n",
      "Epoch 101 train loss: 0.3719, eval loss 0.3519\n",
      "Epoch 102 train loss: 0.3885, eval loss 0.3516\n",
      "Epoch 103 train loss: 0.3800, eval loss 0.3512\n",
      "Epoch 104 train loss: 0.3743, eval loss 0.3509\n",
      "Epoch 105 train loss: 0.3964, eval loss 0.3506\n",
      "Epoch 106 train loss: 0.3964, eval loss 0.3503\n",
      "Epoch 107 train loss: 0.3871, eval loss 0.3501\n",
      "Epoch 108 train loss: 0.4000, eval loss 0.3498\n",
      "Epoch 109 train loss: 0.3808, eval loss 0.3495\n",
      "Epoch 110 train loss: 0.3936, eval loss 0.3492\n",
      "Epoch 111 train loss: 0.4008, eval loss 0.3490\n",
      "Epoch 112 train loss: 0.3835, eval loss 0.3487\n",
      "Epoch 113 train loss: 0.3882, eval loss 0.3484\n",
      "Epoch 114 train loss: 0.4100, eval loss 0.3482\n",
      "Epoch 115 train loss: 0.3914, eval loss 0.3479\n",
      "Epoch 116 train loss: 0.3916, eval loss 0.3477\n",
      "Epoch 117 train loss: 0.3740, eval loss 0.3475\n",
      "Epoch 118 train loss: 0.4208, eval loss 0.3473\n",
      "Epoch 119 train loss: 0.3908, eval loss 0.3470\n",
      "Epoch 120 train loss: 0.3799, eval loss 0.3468\n",
      "Epoch 121 train loss: 0.3606, eval loss 0.3466\n",
      "Epoch 122 train loss: 0.3734, eval loss 0.3464\n",
      "Epoch 123 train loss: 0.3917, eval loss 0.3462\n",
      "Epoch 124 train loss: 0.3606, eval loss 0.3460\n",
      "Epoch 125 train loss: 0.3865, eval loss 0.3458\n",
      "Epoch 126 train loss: 0.3911, eval loss 0.3456\n",
      "Epoch 127 train loss: 0.3967, eval loss 0.3454\n",
      "Epoch 128 train loss: 0.3830, eval loss 0.3452\n",
      "Epoch 129 train loss: 0.3905, eval loss 0.3450\n",
      "Epoch 130 train loss: 0.4014, eval loss 0.3447\n",
      "Epoch 131 train loss: 0.3974, eval loss 0.3446\n",
      "Epoch 132 train loss: 0.4084, eval loss 0.3443\n",
      "Epoch 133 train loss: 0.4013, eval loss 0.3442\n",
      "Epoch 134 train loss: 0.3816, eval loss 0.3440\n",
      "Epoch 135 train loss: 0.4045, eval loss 0.3438\n",
      "Epoch 136 train loss: 0.3528, eval loss 0.3436\n",
      "Epoch 137 train loss: 0.4097, eval loss 0.3434\n",
      "Epoch 138 train loss: 0.3806, eval loss 0.3432\n",
      "Epoch 139 train loss: 0.3875, eval loss 0.3431\n",
      "Epoch 140 train loss: 0.3807, eval loss 0.3429\n",
      "Epoch 141 train loss: 0.3807, eval loss 0.3427\n",
      "Epoch 142 train loss: 0.3885, eval loss 0.3425\n",
      "Epoch 143 train loss: 0.4031, eval loss 0.3424\n",
      "Epoch 144 train loss: 0.3794, eval loss 0.3422\n",
      "Epoch 145 train loss: 0.3997, eval loss 0.3420\n",
      "Epoch 146 train loss: 0.3924, eval loss 0.3419\n",
      "Epoch 147 train loss: 0.3665, eval loss 0.3417\n",
      "Epoch 148 train loss: 0.4001, eval loss 0.3415\n",
      "Epoch 149 train loss: 0.3935, eval loss 0.3414\n",
      "Epoch 150 train loss: 0.3867, eval loss 0.3412\n",
      "Epoch 151 train loss: 0.4006, eval loss 0.3411\n",
      "Epoch 152 train loss: 0.3853, eval loss 0.3409\n",
      "Epoch 153 train loss: 0.3706, eval loss 0.3407\n",
      "Epoch 154 train loss: 0.3951, eval loss 0.3406\n",
      "Epoch 155 train loss: 0.3961, eval loss 0.3404\n",
      "Epoch 156 train loss: 0.3904, eval loss 0.3402\n",
      "Epoch 157 train loss: 0.3822, eval loss 0.3401\n",
      "Epoch 158 train loss: 0.3654, eval loss 0.3400\n",
      "Epoch 159 train loss: 0.3583, eval loss 0.3398\n",
      "Epoch 160 train loss: 0.3619, eval loss 0.3396\n",
      "Epoch 161 train loss: 0.3701, eval loss 0.3395\n",
      "Epoch 162 train loss: 0.4075, eval loss 0.3394\n",
      "Epoch 163 train loss: 0.3791, eval loss 0.3392\n",
      "Epoch 164 train loss: 0.4188, eval loss 0.3391\n",
      "Epoch 165 train loss: 0.3460, eval loss 0.3389\n",
      "Epoch 166 train loss: 0.4362, eval loss 0.3388\n",
      "Epoch 167 train loss: 0.3587, eval loss 0.3386\n",
      "Epoch 168 train loss: 0.4066, eval loss 0.3385\n",
      "Epoch 169 train loss: 0.3699, eval loss 0.3384\n",
      "Epoch 170 train loss: 0.4205, eval loss 0.3382\n",
      "Epoch 171 train loss: 0.3670, eval loss 0.3381\n",
      "Epoch 172 train loss: 0.4011, eval loss 0.3380\n",
      "Epoch 173 train loss: 0.3443, eval loss 0.3379\n",
      "Epoch 174 train loss: 0.3813, eval loss 0.3377\n",
      "Epoch 175 train loss: 0.3503, eval loss 0.3376\n",
      "Epoch 176 train loss: 0.3767, eval loss 0.3375\n",
      "Epoch 177 train loss: 0.3625, eval loss 0.3373\n",
      "Epoch 178 train loss: 0.3757, eval loss 0.3372\n",
      "Epoch 179 train loss: 0.3769, eval loss 0.3370\n",
      "Epoch 180 train loss: 0.3831, eval loss 0.3369\n",
      "Epoch 181 train loss: 0.3846, eval loss 0.3368\n",
      "Epoch 182 train loss: 0.3433, eval loss 0.3367\n",
      "Epoch 183 train loss: 0.3976, eval loss 0.3365\n",
      "Epoch 184 train loss: 0.3939, eval loss 0.3364\n",
      "Epoch 185 train loss: 0.3941, eval loss 0.3363\n",
      "Epoch 186 train loss: 0.3733, eval loss 0.3362\n",
      "Epoch 187 train loss: 0.4174, eval loss 0.3360\n",
      "Epoch 188 train loss: 0.3500, eval loss 0.3359\n",
      "Epoch 189 train loss: 0.3747, eval loss 0.3358\n",
      "Epoch 190 train loss: 0.3839, eval loss 0.3357\n",
      "Epoch 191 train loss: 0.3931, eval loss 0.3355\n",
      "Epoch 192 train loss: 0.3952, eval loss 0.3354\n",
      "Epoch 193 train loss: 0.3895, eval loss 0.3353\n",
      "Epoch 194 train loss: 0.3916, eval loss 0.3352\n",
      "Epoch 195 train loss: 0.3633, eval loss 0.3351\n",
      "Epoch 196 train loss: 0.3410, eval loss 0.3350\n",
      "Epoch 197 train loss: 0.3662, eval loss 0.3348\n",
      "Epoch 198 train loss: 0.4050, eval loss 0.3347\n",
      "Epoch 199 train loss: 0.3885, eval loss 0.3346\n",
      "Epoch 200 train loss: 0.3540, eval loss 0.3345\n",
      "Epoch 201 train loss: 0.3623, eval loss 0.3344\n",
      "Epoch 202 train loss: 0.3703, eval loss 0.3343\n",
      "Epoch 203 train loss: 0.3747, eval loss 0.3342\n",
      "Epoch 204 train loss: 0.4012, eval loss 0.3341\n",
      "Epoch 205 train loss: 0.3698, eval loss 0.3340\n",
      "Epoch 206 train loss: 0.4109, eval loss 0.3339\n",
      "Epoch 207 train loss: 0.3745, eval loss 0.3337\n",
      "Epoch 208 train loss: 0.3947, eval loss 0.3336\n",
      "Epoch 209 train loss: 0.3563, eval loss 0.3335\n",
      "Epoch 210 train loss: 0.3623, eval loss 0.3334\n",
      "Epoch 211 train loss: 0.3977, eval loss 0.3333\n",
      "Epoch 212 train loss: 0.3723, eval loss 0.3332\n",
      "Epoch 213 train loss: 0.4001, eval loss 0.3331\n",
      "Epoch 214 train loss: 0.4051, eval loss 0.3330\n",
      "Epoch 215 train loss: 0.3773, eval loss 0.3329\n",
      "Epoch 216 train loss: 0.3855, eval loss 0.3328\n",
      "Epoch 217 train loss: 0.3517, eval loss 0.3327\n",
      "Epoch 218 train loss: 0.3803, eval loss 0.3326\n",
      "Epoch 219 train loss: 0.3942, eval loss 0.3325\n",
      "Epoch 220 train loss: 0.3920, eval loss 0.3324\n",
      "Epoch 221 train loss: 0.3804, eval loss 0.3323\n",
      "Epoch 222 train loss: 0.3868, eval loss 0.3322\n",
      "Epoch 223 train loss: 0.3685, eval loss 0.3321\n",
      "Epoch 224 train loss: 0.3929, eval loss 0.3320\n",
      "Epoch 225 train loss: 0.3818, eval loss 0.3319\n",
      "Epoch 226 train loss: 0.3873, eval loss 0.3318\n",
      "Epoch 227 train loss: 0.3909, eval loss 0.3317\n",
      "Epoch 228 train loss: 0.3851, eval loss 0.3316\n",
      "Epoch 229 train loss: 0.3759, eval loss 0.3315\n",
      "Epoch 230 train loss: 0.3821, eval loss 0.3314\n",
      "Epoch 231 train loss: 0.3676, eval loss 0.3314\n",
      "Epoch 232 train loss: 0.4004, eval loss 0.3313\n",
      "Epoch 233 train loss: 0.3712, eval loss 0.3312\n",
      "Epoch 234 train loss: 0.3549, eval loss 0.3311\n",
      "Epoch 235 train loss: 0.3764, eval loss 0.3310\n",
      "Epoch 236 train loss: 0.3692, eval loss 0.3309\n",
      "Epoch 237 train loss: 0.3511, eval loss 0.3308\n",
      "Epoch 238 train loss: 0.4113, eval loss 0.3308\n",
      "Epoch 239 train loss: 0.3534, eval loss 0.3307\n",
      "Epoch 240 train loss: 0.3666, eval loss 0.3306\n",
      "Epoch 241 train loss: 0.3674, eval loss 0.3305\n",
      "Epoch 242 train loss: 0.3708, eval loss 0.3304\n",
      "Epoch 243 train loss: 0.3592, eval loss 0.3303\n",
      "Epoch 244 train loss: 0.3717, eval loss 0.3302\n",
      "Epoch 245 train loss: 0.3661, eval loss 0.3302\n",
      "Epoch 246 train loss: 0.3726, eval loss 0.3301\n",
      "Epoch 247 train loss: 0.3571, eval loss 0.3300\n",
      "Epoch 248 train loss: 0.3832, eval loss 0.3299\n",
      "Epoch 249 train loss: 0.3926, eval loss 0.3299\n",
      "Epoch 250 train loss: 0.4003, eval loss 0.3298\n",
      "Epoch 251 train loss: 0.3460, eval loss 0.3297\n",
      "Epoch 252 train loss: 0.3859, eval loss 0.3296\n",
      "Epoch 253 train loss: 0.3683, eval loss 0.3295\n",
      "Epoch 254 train loss: 0.3513, eval loss 0.3295\n",
      "Epoch 255 train loss: 0.3524, eval loss 0.3294\n",
      "Epoch 256 train loss: 0.3856, eval loss 0.3293\n",
      "Epoch 257 train loss: 0.3801, eval loss 0.3292\n",
      "Epoch 258 train loss: 0.3745, eval loss 0.3291\n",
      "Epoch 259 train loss: 0.3649, eval loss 0.3291\n",
      "Epoch 260 train loss: 0.3635, eval loss 0.3290\n",
      "Epoch 261 train loss: 0.3872, eval loss 0.3289\n",
      "Epoch 262 train loss: 0.4046, eval loss 0.3289\n",
      "Epoch 263 train loss: 0.3767, eval loss 0.3288\n",
      "Epoch 264 train loss: 0.3663, eval loss 0.3287\n",
      "Epoch 265 train loss: 0.3758, eval loss 0.3286\n",
      "Epoch 266 train loss: 0.3871, eval loss 0.3286\n",
      "Epoch 267 train loss: 0.3479, eval loss 0.3285\n",
      "Epoch 268 train loss: 0.3555, eval loss 0.3284\n",
      "Epoch 269 train loss: 0.3559, eval loss 0.3284\n",
      "Epoch 270 train loss: 0.3949, eval loss 0.3283\n",
      "Epoch 271 train loss: 0.3517, eval loss 0.3282\n",
      "Epoch 272 train loss: 0.3574, eval loss 0.3281\n",
      "Epoch 273 train loss: 0.3673, eval loss 0.3281\n",
      "Epoch 274 train loss: 0.3793, eval loss 0.3280\n",
      "Epoch 275 train loss: 0.3879, eval loss 0.3279\n",
      "Epoch 276 train loss: 0.3648, eval loss 0.3279\n",
      "Epoch 277 train loss: 0.3221, eval loss 0.3278\n",
      "Epoch 278 train loss: 0.3747, eval loss 0.3277\n",
      "Epoch 279 train loss: 0.3649, eval loss 0.3276\n",
      "Epoch 280 train loss: 0.3810, eval loss 0.3276\n",
      "Epoch 281 train loss: 0.3790, eval loss 0.3275\n",
      "Epoch 282 train loss: 0.3623, eval loss 0.3275\n",
      "Epoch 283 train loss: 0.3205, eval loss 0.3274\n",
      "Epoch 284 train loss: 0.3481, eval loss 0.3273\n",
      "Epoch 285 train loss: 0.3818, eval loss 0.3273\n",
      "Epoch 286 train loss: 0.3281, eval loss 0.3272\n",
      "Epoch 287 train loss: 0.3582, eval loss 0.3271\n",
      "Epoch 288 train loss: 0.3601, eval loss 0.3271\n",
      "Epoch 289 train loss: 0.3765, eval loss 0.3270\n",
      "Epoch 290 train loss: 0.3804, eval loss 0.3270\n",
      "Epoch 291 train loss: 0.3844, eval loss 0.3269\n",
      "Epoch 292 train loss: 0.4015, eval loss 0.3268\n",
      "Epoch 293 train loss: 0.3842, eval loss 0.3268\n",
      "Epoch 294 train loss: 0.3471, eval loss 0.3267\n",
      "Epoch 295 train loss: 0.3385, eval loss 0.3267\n",
      "Epoch 296 train loss: 0.4035, eval loss 0.3266\n",
      "Epoch 297 train loss: 0.3726, eval loss 0.3265\n",
      "Epoch 298 train loss: 0.3809, eval loss 0.3265\n",
      "Epoch 299 train loss: 0.3796, eval loss 0.3264\n"
     ]
    }
   ],
   "execution_count": 45
  },
  {
   "cell_type": "code",
   "metadata": {
    "tags": [
     "ex"
    ],
    "ExecuteTime": {
     "end_time": "2024-11-19T12:50:48.540596Z",
     "start_time": "2024-11-19T12:50:48.504817Z"
    }
   },
   "source": [
    "test_metrics = evaluate_model(best_mlp_model, X_test, y_test, loss_fn, best_threshold)\n",
    "\n",
    "print(f\"AUROC: {test_metrics['AUROC']:.2%}\")\n",
    "print(f\"F1: {test_metrics['F1-score']:.2%}\")\n",
    "print(f\"Precision: {test_metrics['precision']:.2%}\")\n",
    "print(f\"Recall: {test_metrics['recall']:.2%}\")"
   ],
   "outputs": [
    {
     "name": "stdout",
     "output_type": "stream",
     "text": [
      "AUROC: 90.32%\n",
      "F1: 69.08%\n",
      "Precision: 62.49%\n",
      "Recall: 77.23%\n"
     ]
    }
   ],
   "execution_count": 46
  },
  {
   "cell_type": "code",
   "metadata": {
    "tags": [
     "ex"
    ],
    "ExecuteTime": {
     "end_time": "2024-11-19T12:50:51.036159Z",
     "start_time": "2024-11-19T12:50:51.028162Z"
    }
   },
   "source": [
    "assert test_metrics[\"AUROC\"] > 0.8\n",
    "assert test_metrics[\"F1-score\"] > 0.6\n",
    "assert test_metrics[\"precision\"] > 0.5\n",
    "assert test_metrics[\"recall\"] > 0.6\n",
    "\n",
    "print(\"Solution is correct!\")"
   ],
   "outputs": [
    {
     "name": "stdout",
     "output_type": "stream",
     "text": [
      "Solution is correct!\n"
     ]
    }
   ],
   "execution_count": 47
  },
  {
   "cell_type": "markdown",
   "metadata": {},
   "source": [
    "Wyniki wyglądają już dużo lepiej.\n",
    "\n",
    "Na koniec laboratorium dołożymy do naszego modelu jeszcze 3 powrzechnie używane techniki, które są bardzo proste, a pozwalają często ulepszyć wynik modelu.\n",
    "\n",
    "Pierwszą z nich są **warstwy normalizacji (normalization layers)**. Powstały one początkowo z założeniem, że przez przekształcenia przestrzeni dokonywane przez sieć zmienia się rozkład prawdopodobieństw pomiędzy warstwami, czyli tzw. *internal covariate shift*. Później okazało się, że zastosowanie takiej normalizacji wygładza powierzchnię funkcji kosztu, co ułatwia i przyspiesza optymalizację. Najpowszechniej używaną normalizacją jest **batch normalization (batch norm)**.\n",
    "\n",
    "Drugim ulepszeniem jest dodanie **wag klas (class weights)**. Mamy do czynienia z problemem klasyfikacji niezbalansowanej, więc klasa mniejszościowa, ważniejsza dla nas, powinna dostać większą wagę. Implementuje się to trywialnie prosto - po prostu mnożymy wartość funkcji kosztu dla danego przykładu przez wagę dla prawdziwej klasy tego przykładu. Praktycznie każdy klasyfikator operujący na jakiejś ważonej funkcji może działać w ten sposób, nie tylko sieci neuronowe.\n",
    "\n",
    "Ostatnim ulepszeniem jest zamiana SGD na optymalizator Adam, a konkretnie na optymalizator `AdamW`. Jest to przykład **optymalizatora adaptacyjnego (adaptive optimizer)**, który potrafi zaadaptować stałą uczącą dla każdego parametru z osobna w trakcie treningu. Wykorzystuje do tego gradienty - w uproszczeniu, im większa wariancja gradientu, tym mniejsze kroki w tym kierunku robimy."
   ]
  },
  {
   "cell_type": "markdown",
   "metadata": {
    "tags": [
     "ex"
    ]
   },
   "source": [
    "### Zadanie 8 (0.5 punktu)\n",
    "\n",
    "Zaimplementuj model `NormalizingMLP`, o takiej samej strukturze jak `RegularizedMLP`, ale dodatkowo z warstwami `BatchNorm1d` pomiędzy warstwami `Linear` oraz `ReLU`.\n",
    "\n",
    "Za pomocą funkcji `compute_class_weight()` oblicz wagi dla poszczególnych klas. Użyj opcji `\"balanced\"`. Przekaż do funkcji kosztu wagę klasy pozytywnej (pamiętaj, aby zamienić ją na tensor).\n",
    "\n",
    "Zamień używany optymalizator na `AdamW`.\n",
    "\n",
    "Na koniec skopiuj resztę kodu do treningu z poprzedniego zadania, wytrenuj sieć i oblicz wyniki na zbiorze testowym."
   ]
  },
  {
   "cell_type": "code",
   "metadata": {
    "tags": [
     "ex"
    ],
    "ExecuteTime": {
     "end_time": "2024-11-19T12:50:56.133743Z",
     "start_time": "2024-11-19T12:50:56.118177Z"
    }
   },
   "source": [
    "class NormalizingMLP(nn.Module):\n",
    "    def __init__(self, input_size: int, dropout_p: float = 0.5):\n",
    "        super().__init__()\n",
    "\n",
    "        # implement me!\n",
    "        # your_code\n",
    "\n",
    "        self.mlp = nn.Sequential(\n",
    "            nn.Linear(input_size, 256),\n",
    "            nn.BatchNorm1d(256),\n",
    "            nn.ReLU(),\n",
    "            nn.Dropout(p=dropout_p),\n",
    "            nn.Linear(256, 128),\n",
    "            nn.BatchNorm1d(128),\n",
    "            nn.ReLU(),\n",
    "            nn.Dropout(p=dropout_p),\n",
    "            nn.Linear(128, 1),\n",
    "        )\n",
    "\n",
    "    def forward(self, x):\n",
    "        return self.mlp(x)\n",
    "\n",
    "    def predict_proba(self, x):\n",
    "        return sigmoid(self(x))\n",
    "\n",
    "    def predict(self, x, threshold: float = 0.5):\n",
    "        y_pred_score = self.predict_proba(x)\n",
    "        return (y_pred_score > threshold).to(torch.int32)"
   ],
   "outputs": [],
   "execution_count": 48
  },
  {
   "cell_type": "code",
   "metadata": {
    "tags": [
     "ex"
    ],
    "ExecuteTime": {
     "end_time": "2024-11-19T12:50:59.298160Z",
     "start_time": "2024-11-19T12:50:59.281270Z"
    }
   },
   "source": [
    "from sklearn.utils import compute_class_weight\n",
    "\n",
    "# define all the hyperparameters\n",
    "# your_code\n",
    "\n",
    "weights = compute_class_weight(class_weight=\"balanced\", classes=np.unique(y), y=y)\n",
    "optimizer = torch.optim.AdamW(\n",
    "    params=model.parameters(), lr=learning_rate, weight_decay=l2_reg\n",
    ")\n",
    "\n",
    "positive_class_weight = torch.tensor(weights[1], dtype=torch.float32)\n",
    "\n",
    "loss_fn = torch.nn.BCEWithLogitsLoss(pos_weight=positive_class_weight)"
   ],
   "outputs": [],
   "execution_count": 49
  },
  {
   "cell_type": "code",
   "metadata": {
    "editable": true,
    "lines_to_next_cell": 2,
    "slideshow": {
     "slide_type": ""
    },
    "tags": [
     "ex"
    ],
    "ExecuteTime": {
     "end_time": "2024-11-19T12:51:10.530074Z",
     "start_time": "2024-11-19T12:51:01.922092Z"
    }
   },
   "source": [
    "# training loop\n",
    "# your_code\n",
    "\n",
    "train_dataset = MyDataset(X_train, y_train)\n",
    "train_dataloader = DataLoader(train_dataset, batch_size=batch_size)\n",
    "\n",
    "steps_without_improvement = 0\n",
    "\n",
    "best_val_loss = np.inf\n",
    "best_mlp_model = None\n",
    "best_threshold = None\n",
    "\n",
    "for epoch_num in range(max_epochs):\n",
    "    model.train()\n",
    "\n",
    "    # note that we are using DataLoader to get batches\n",
    "    for X_batch, y_batch in train_dataloader:\n",
    "        # model training\n",
    "        # implement me!\n",
    "        # your_code\n",
    "        X_batch = X_batch.to(device)\n",
    "        y_batch = y_batch.to(device)\n",
    "\n",
    "        y_pred = model(X_batch)\n",
    "        loss = loss_fn(y_pred, y_batch)\n",
    "        loss.backward()\n",
    "\n",
    "        optimizer.step()\n",
    "        optimizer.zero_grad()\n",
    "    # model evaluation, early stopping\n",
    "    # implement me!\n",
    "    # your_code\n",
    "\n",
    "    valid_metrics = evaluate_model(model, X_valid, y_valid, loss_fn)\n",
    "    valid_loss = valid_metrics[\"loss\"]\n",
    "\n",
    "    if valid_loss < best_val_loss:\n",
    "        best_val_loss = valid_loss\n",
    "        best_mlp_model = deepcopy(model)\n",
    "        best_threshold = valid_metrics[\"threshold\"]\n",
    "        steps_without_improvement = 0\n",
    "\n",
    "    else:\n",
    "        steps_without_improvement += 1\n",
    "\n",
    "    if steps_without_improvement >= early_stopping_patience:\n",
    "        print(\"Early stopping triggered.\")\n",
    "        break\n",
    "\n",
    "    print(\n",
    "        f\"Epoch {epoch_num} train loss: {loss.item():.4f}, eval loss {valid_metrics['loss']:.4f}\"\n",
    "    )"
   ],
   "outputs": [
    {
     "name": "stdout",
     "output_type": "stream",
     "text": [
      "Epoch 0 train loss: 0.5600, eval loss 0.4733\n",
      "Epoch 1 train loss: 0.5449, eval loss 0.4712\n",
      "Epoch 2 train loss: 0.5880, eval loss 0.4712\n",
      "Epoch 3 train loss: 0.5213, eval loss 0.4709\n",
      "Epoch 4 train loss: 0.5221, eval loss 0.4712\n",
      "Epoch 5 train loss: 0.5490, eval loss 0.4703\n",
      "Epoch 6 train loss: 0.5059, eval loss 0.4728\n",
      "Epoch 7 train loss: 0.5224, eval loss 0.4722\n",
      "Epoch 8 train loss: 0.5551, eval loss 0.4717\n",
      "Early stopping triggered.\n"
     ]
    }
   ],
   "execution_count": 50
  },
  {
   "cell_type": "code",
   "metadata": {
    "editable": true,
    "slideshow": {
     "slide_type": ""
    },
    "tags": [
     "ex"
    ],
    "ExecuteTime": {
     "end_time": "2024-11-19T12:52:06.146558Z",
     "start_time": "2024-11-19T12:52:06.102748Z"
    }
   },
   "source": [
    "test_metrics = evaluate_model(best_mlp_model, X_test, y_test, loss_fn, best_threshold)\n",
    "\n",
    "print(f\"AUROC: {test_metrics['AUROC']:.2%}\")\n",
    "print(f\"F1: {test_metrics['F1-score']:.2%}\")\n",
    "print(f\"Precision: {test_metrics['precision']:.2%}\")\n",
    "print(f\"Recall: {test_metrics['recall']:.2%}\")"
   ],
   "outputs": [
    {
     "name": "stdout",
     "output_type": "stream",
     "text": [
      "AUROC: 90.85%\n",
      "F1: 69.62%\n",
      "Precision: 65.31%\n",
      "Recall: 74.55%\n"
     ]
    }
   ],
   "execution_count": 51
  },
  {
   "cell_type": "code",
   "metadata": {
    "tags": [
     "ex"
    ],
    "ExecuteTime": {
     "end_time": "2024-11-19T12:52:08.059028Z",
     "start_time": "2024-11-19T12:52:08.041886Z"
    }
   },
   "source": [
    "verification_input_size = 143\n",
    "verification_dropout_p = 0.125\n",
    "verification_model = NormalizingMLP(\n",
    "    input_size=verification_input_size,\n",
    "    dropout_p=verification_dropout_p,\n",
    ").to(device)\n",
    "\n",
    "assert any(\n",
    "    isinstance(module, nn.Linear)\n",
    "    and module.in_features == verification_input_size\n",
    "    and module.out_features == 256\n",
    "    for module in verification_model.modules()\n",
    ")\n",
    "\n",
    "assert any(\n",
    "    isinstance(module, nn.Linear)\n",
    "    and module.in_features == 256\n",
    "    and module.out_features == 128\n",
    "    for module in verification_model.modules()\n",
    ")\n",
    "\n",
    "assert any(\n",
    "    isinstance(module, nn.Linear)\n",
    "    and module.in_features == 128\n",
    "    and module.out_features == 1\n",
    "    for module in verification_model.modules()\n",
    ")\n",
    "\n",
    "assert any(\n",
    "    isinstance(module, nn.Dropout) and module.p == verification_dropout_p\n",
    "    for module in verification_model.modules()\n",
    ")\n",
    "assert any(isinstance(module, nn.ReLU) for module in verification_model.modules())\n",
    "\n",
    "assert any(\n",
    "    isinstance(module, nn.BatchNorm1d) for module in verification_model.modules()\n",
    ")\n",
    "\n",
    "assert test_metrics[\"AUROC\"] > 0.8\n",
    "assert test_metrics[\"F1-score\"] > 0.6\n",
    "assert test_metrics[\"precision\"] > 0.5\n",
    "assert test_metrics[\"recall\"] > 0.6\n",
    "\n",
    "print(\"Solution is correct!\")"
   ],
   "outputs": [
    {
     "name": "stdout",
     "output_type": "stream",
     "text": [
      "Solution is correct!\n"
     ]
    }
   ],
   "execution_count": 52
  },
  {
   "cell_type": "markdown",
   "metadata": {
    "editable": true,
    "id": "XyoRnHT4GFR9",
    "slideshow": {
     "slide_type": ""
    },
    "tags": []
   },
   "source": [
    "## Akceleracja sprzętowa (dla zainteresowanych)"
   ]
  },
  {
   "cell_type": "markdown",
   "metadata": {},
   "source": [
    "Jak wcześniej wspominaliśmy, użycie akceleracji sprzętowej, czyli po prostu GPU do obliczeń, jest bardzo efektywne w przypadku sieci neuronowych. Karty graficzne bardzo efektywnie mnożą macierze, a sieci neuronowe to, jak można było się przekonać, dużo mnożenia macierzy.\n",
    "\n",
    "W PyTorchu jest to dosyć łatwe, ale trzeba robić to explicite. Służy do tego metoda `.to()`, która przenosi tensory między CPU i GPU. Poniżej przykład, jak to się robi (oczywiście trzeba mieć skonfigurowane GPU, żeby działało):"
   ]
  },
  {
   "cell_type": "code",
   "metadata": {
    "ExecuteTime": {
     "end_time": "2024-11-19T12:52:54.027288Z",
     "start_time": "2024-11-19T12:52:21.946340Z"
    }
   },
   "source": [
    "import time\n",
    "\n",
    "\n",
    "class CudaMLP(nn.Module):\n",
    "    def __init__(self, input_size: int, dropout_p: float = 0.5):\n",
    "        super().__init__()\n",
    "\n",
    "        self.mlp = nn.Sequential(\n",
    "            nn.Linear(input_size, 512),\n",
    "            nn.BatchNorm1d(512),\n",
    "            nn.ReLU(),\n",
    "            nn.Dropout(dropout_p),\n",
    "            nn.Linear(512, 256),\n",
    "            nn.BatchNorm1d(256),\n",
    "            nn.ReLU(),\n",
    "            nn.Dropout(dropout_p),\n",
    "            nn.Linear(256, 256),\n",
    "            nn.BatchNorm1d(256),\n",
    "            nn.ReLU(),\n",
    "            nn.Dropout(dropout_p),\n",
    "            nn.Linear(256, 128),\n",
    "            nn.BatchNorm1d(128),\n",
    "            nn.ReLU(),\n",
    "            nn.Dropout(dropout_p),\n",
    "            nn.Linear(128, 1),\n",
    "        )\n",
    "\n",
    "    def forward(self, x):\n",
    "        return self.mlp(x)\n",
    "\n",
    "    def predict_proba(self, x):\n",
    "        return sigmoid(self(x))\n",
    "\n",
    "    def predict(self, x, threshold: float = 0.5):\n",
    "        y_pred_score = self.predict_proba(x)\n",
    "        return (y_pred_score > threshold).to(torch.int32)\n",
    "\n",
    "\n",
    "model = CudaMLP(X_train.shape[1]).to(\"cuda\")\n",
    "\n",
    "optimizer = torch.optim.AdamW(model.parameters(), lr=learning_rate, weight_decay=1e-4)\n",
    "\n",
    "# note that we are using loss function with sigmoid built in\n",
    "loss_fn = torch.nn.BCEWithLogitsLoss(pos_weight=torch.from_numpy(weights)[1].to(\"cuda\"))\n",
    "\n",
    "step_counter = 0\n",
    "time_from_eval = time.time()\n",
    "for epoch_id in range(30):\n",
    "    for batch_x, batch_y in train_dataloader:\n",
    "        batch_x = batch_x.to(\"cuda\")\n",
    "        batch_y = batch_y.to(\"cuda\")\n",
    "\n",
    "        loss = loss_fn(model(batch_x), batch_y)\n",
    "        loss.backward()\n",
    "\n",
    "        optimizer.step()\n",
    "        optimizer.zero_grad()\n",
    "\n",
    "        if step_counter % evaluation_steps == 0:\n",
    "            print(\n",
    "                f\"Epoch {epoch_id} train loss: {loss.item():.4f}, time: {time.time() - time_from_eval}\"\n",
    "            )\n",
    "            time_from_eval = time.time()\n",
    "\n",
    "        step_counter += 1\n",
    "\n",
    "test_res = evaluate_model(model, X_test, y_test, loss_fn, threshold=0.5)\n",
    "\n",
    "print(f\"AUROC: {test_res['AUROC']:.2%}\")\n",
    "print(f\"F1: {test_res['F1-score']:.2%}\")\n",
    "print(test_res)"
   ],
   "outputs": [
    {
     "name": "stdout",
     "output_type": "stream",
     "text": [
      "Epoch 0 train loss: 1.0024, time: 0.03468632698059082\n",
      "Epoch 1 train loss: 0.4394, time: 1.6380248069763184\n",
      "Epoch 2 train loss: 0.4973, time: 1.8006525039672852\n",
      "Epoch 3 train loss: 0.4318, time: 1.0003466606140137\n",
      "Epoch 4 train loss: 0.6652, time: 1.2404701709747314\n",
      "Epoch 6 train loss: 0.3549, time: 1.1037709712982178\n",
      "Epoch 7 train loss: 0.4030, time: 2.5047895908355713\n",
      "Epoch 8 train loss: 0.4606, time: 1.6098053455352783\n",
      "Epoch 9 train loss: 0.4239, time: 1.1068406105041504\n",
      "Epoch 11 train loss: 0.4719, time: 1.07710599899292\n",
      "Epoch 12 train loss: 0.3861, time: 1.1479542255401611\n",
      "Epoch 13 train loss: 0.4616, time: 1.1449971199035645\n",
      "Epoch 14 train loss: 0.3584, time: 1.3956797122955322\n",
      "Epoch 15 train loss: 0.4190, time: 1.3307147026062012\n",
      "Epoch 17 train loss: 0.3735, time: 1.5472626686096191\n",
      "Epoch 18 train loss: 0.4740, time: 1.1465022563934326\n",
      "Epoch 19 train loss: 0.4359, time: 1.171731948852539\n",
      "Epoch 20 train loss: 0.3710, time: 1.1892869472503662\n",
      "Epoch 22 train loss: 0.4636, time: 1.188201665878296\n",
      "Epoch 23 train loss: 0.4328, time: 1.210705041885376\n",
      "Epoch 24 train loss: 0.3712, time: 1.2447402477264404\n",
      "Epoch 25 train loss: 0.4872, time: 1.2845396995544434\n",
      "Epoch 26 train loss: 0.4671, time: 1.113481044769287\n",
      "Epoch 28 train loss: 0.5319, time: 1.161299228668213\n",
      "Epoch 29 train loss: 0.5401, time: 1.1289277076721191\n",
      "AUROC: 90.30%\n",
      "F1: 69.87%\n",
      "{'loss': 0.51777184009552, 'AUROC': 0.903009378675636, 'precision': 0.6370798319327731, 'recall': 0.7735969387755102, 'F1-score': 0.6987327188940092, 'threshold': 0.5}\n"
     ]
    }
   ],
   "execution_count": 53
  },
  {
   "cell_type": "markdown",
   "metadata": {},
   "source": [
    "Co prawda ten model nie będzie tak dobry jak ten z laboratorium, ale zwróć uwagę, o ile jest większy, a przy tym szybszy.\n",
    "\n",
    "Dla zainteresowanych polecamy [tę serie artykułów](https://medium.com/@adi.fu7/ai-accelerators-part-i-intro-822c2cdb4ca4)"
   ]
  },
  {
   "cell_type": "markdown",
   "metadata": {
    "tags": [
     "ex"
    ]
   },
   "source": [
    "## Zadanie dla chętnych"
   ]
  },
  {
   "cell_type": "markdown",
   "metadata": {
    "tags": [
     "ex"
    ]
   },
   "source": [
    "Jak widzieliśmy, sieci neuronowe mają bardzo dużo hiperparametrów. Przeszukiwanie ich grid search'em jest więc niewykonalne, a chociaż random search by działał, to potrzebowałby wielu iteracji, co też jest kosztowne obliczeniowo.\n",
    "\n",
    "Zaimplementuj inteligentne przeszukiwanie przestrzeni hiperparametrów za pomocą biblioteki [Optuna](https://optuna.org/). Implementuje ona między innymi algorytm Tree Parzen Estimator (TPE), należący do grupy algorytmów typu Bayesian search. Typowo osiągają one bardzo dobre wyniki, a właściwie zawsze lepsze od przeszukiwania losowego. Do tego wystarcza im często niewielka liczba kroków.\n",
    "\n",
    "Zaimplementuj 3-warstwową sieć MLP, gdzie pierwsza warstwa ma rozmiar ukryty N, a druga N // 2. Ucz ją optymalizatorem Adam przez maksymalnie 300 epok z cierpliwością 10.\n",
    "\n",
    "Przeszukaj wybrane zakresy dla hiperparametrów:\n",
    "- rozmiar warstw ukrytych (N)\n",
    "- stała ucząca\n",
    "- batch size\n",
    "- siła regularyzacji L2\n",
    "- prawdopodobieństwo dropoutu\n",
    "\n",
    "Wykorzystaj przynajmniej 30 iteracji. Następnie przełącz algorytm na losowy (Optuna także jego implementuje), wykonaj 30 iteracji i porównaj jakość wyników.\n",
    "\n",
    "Przydatne materiały:\n",
    "- [Optuna code examples - PyTorch](https://optuna.org/#code_examples)\n",
    "- [Auto-Tuning Hyperparameters with Optuna and PyTorch](https://www.youtube.com/watch?v=P6NwZVl8ttc)\n",
    "- [Hyperparameter Tuning of Neural Networks with Optuna and PyTorch](https://towardsdatascience.com/hyperparameter-tuning-of-neural-networks-with-optuna-and-pytorch-22e179efc837)\n",
    "- [Using Optuna to Optimize PyTorch Hyperparameters](https://medium.com/pytorch/using-optuna-to-optimize-pytorch-hyperparameters-990607385e36)"
   ]
  },
  {
   "cell_type": "code",
   "metadata": {
    "tags": [
     "ex"
    ],
    "ExecuteTime": {
     "end_time": "2024-11-19T13:57:55.638469Z",
     "start_time": "2024-11-19T13:49:13.780118Z"
    }
   },
   "source": [
    "import optuna\n",
    "\n",
    "\n",
    "class MLP(nn.Module):\n",
    "    def __init__(self, input_size: int, feature_size: int, dropout_p: float = 0.5):\n",
    "        super().__init__()\n",
    "\n",
    "        self.mlp = nn.Sequential(\n",
    "            nn.Linear(input_size, feature_size),\n",
    "            nn.ReLU(),\n",
    "            nn.Dropout(dropout_p),\n",
    "            nn.Linear(feature_size, feature_size // 2),\n",
    "            nn.ReLU(),\n",
    "            nn.Dropout(dropout_p),\n",
    "            nn.Linear(feature_size // 2, 1),\n",
    "        )\n",
    "\n",
    "    def forward(self, x):\n",
    "        return self.mlp(x)\n",
    "\n",
    "    def predict_proba(self, x):\n",
    "        return sigmoid(self(x))\n",
    "\n",
    "    def predict(self, x, threshold: float = 0.5):\n",
    "        y_pred_score = self.predict_proba(x)\n",
    "        return (y_pred_score > threshold).to(torch.int32)\n",
    "\n",
    "    def train_(\n",
    "        self,\n",
    "        train_data: DataLoader,\n",
    "        X_valid: Any,\n",
    "        y_valid: Any,\n",
    "        epoch_number: int,\n",
    "        patience: int,\n",
    "        loss_fun: torch.nn,\n",
    "        model_optimizer: torch.optim,\n",
    "    ) -> None:\n",
    "\n",
    "        best_val_loss = float(\"inf\")\n",
    "        steps_without_improvement = 0\n",
    "\n",
    "        for epoch in range(epoch_number):\n",
    "\n",
    "            self.train()\n",
    "\n",
    "            for X_batch, y_batch in train_data:\n",
    "\n",
    "                X_batch = X_batch.to(device)\n",
    "                y_batch = y_batch.to(device)\n",
    "\n",
    "                y_pred = self(X_batch)\n",
    "                loss = loss_fun(y_pred, y_batch)\n",
    "                loss.backward()\n",
    "\n",
    "                model_optimizer.step()\n",
    "                model_optimizer.zero_grad()\n",
    "\n",
    "            valid_metrics = evaluate_model(self, X_valid, y_valid, loss_fun)\n",
    "            valid_loss = valid_metrics[\"loss\"]\n",
    "\n",
    "            if valid_loss < best_val_loss:\n",
    "                best_val_loss = valid_loss\n",
    "                steps_without_improvement = 0\n",
    "\n",
    "            else:\n",
    "                steps_without_improvement += 1\n",
    "\n",
    "            if steps_without_improvement >= patience:\n",
    "                print(\"Early stopping\")\n",
    "                break\n",
    "\n",
    "            print(\n",
    "                f\"Epoch {epoch} train loss: {loss.item():.4f}, eval loss {valid_metrics['loss']:.4f}\"\n",
    "            )\n",
    "\n",
    "\n",
    "def define_mlp(trial):\n",
    "\n",
    "    feature_size = trial.suggest_int(\"layer_size\", 256, 512)\n",
    "    p = trial.suggest_float(\"drop_out\", 0.15, 0.65)\n",
    "\n",
    "    return MLP(input_size=X_train.shape[1], feature_size=feature_size, dropout_p=p)\n",
    "\n",
    "\n",
    "best_model_features = [None] * 3\n",
    "\n",
    "\n",
    "def objective(trial):\n",
    "    epochs = 300\n",
    "    patience = 10\n",
    "\n",
    "    mlp_model = define_mlp(trial).to(device)\n",
    "\n",
    "    lr = trial.suggest_float(\"lr\", 1e-7, 1e-1, log=True)\n",
    "\n",
    "    l2_reg = trial.suggest_float(\"l2_regularisation\", 1e-7, 1e-3)\n",
    "    batch_size = trial.suggest_int(\"batch_size\", 64, 256)\n",
    "\n",
    "    optimizer = torch.optim.AdamW(\n",
    "        params=mlp_model.parameters(),\n",
    "        lr=lr,\n",
    "        weight_decay=l2_reg,\n",
    "    )\n",
    "\n",
    "    positive_class_weight = torch.tensor(weights[1], dtype=torch.float32)\n",
    "\n",
    "    loss_fn = torch.nn.BCEWithLogitsLoss(pos_weight=positive_class_weight)\n",
    "\n",
    "    train_dataset = MyDataset(X_train, y_train)\n",
    "    train_dataloader = DataLoader(train_dataset, batch_size=batch_size)\n",
    "\n",
    "    steps_without_improvement = 0\n",
    "\n",
    "    best_val_loss = np.inf\n",
    "\n",
    "    for epoch_number in range(epochs):\n",
    "        mlp_model.train()\n",
    "\n",
    "        for X_batch, y_batch in train_dataloader:\n",
    "\n",
    "            X_batch = X_batch.to(device)\n",
    "            y_batch = y_batch.to(device)\n",
    "\n",
    "            y_pred = mlp_model(X_batch)\n",
    "            loss = loss_fn(y_pred, y_batch)\n",
    "            loss.backward()\n",
    "\n",
    "            optimizer.step()\n",
    "            optimizer.zero_grad()\n",
    "\n",
    "        valid_metrics = evaluate_model(mlp_model, X_valid, y_valid, loss_fn)\n",
    "        valid_loss = valid_metrics[\"loss\"]\n",
    "\n",
    "        if valid_loss < best_val_loss:\n",
    "            best_val_loss = valid_loss\n",
    "            steps_without_improvement = 0\n",
    "\n",
    "        else:\n",
    "            steps_without_improvement += 1\n",
    "\n",
    "        if steps_without_improvement >= patience:\n",
    "            print(\"Early stopping triggered.\")\n",
    "            break\n",
    "\n",
    "        print(\n",
    "            f\"Epoch {epoch_number} train loss: {loss.item():.4f}, eval loss {valid_metrics['loss']:.4f}\"\n",
    "        )\n",
    "\n",
    "        trial.report(valid_metrics[\"F1-score\"], epoch_number)\n",
    "\n",
    "        if trial.should_prune():\n",
    "            raise optuna.exceptions.TrialPruned()\n",
    "\n",
    "    return valid_metrics[\"F1-score\"]\n",
    "\n",
    "\n",
    "study = optuna.create_study(direction=\"maximize\")\n",
    "study.optimize(objective, n_trials=30)\n",
    "\n",
    "best_params = study.best_params\n",
    "\n",
    "best_mlp_model = MLP(\n",
    "    input_size=X_train.shape[1],\n",
    "    feature_size=best_params[\"layer_size\"],\n",
    "    dropout_p=best_params[\"drop_out\"],\n",
    ").to(device)\n",
    "\n",
    "\n",
    "optimizer = torch.optim.AdamW(\n",
    "    params=best_mlp_model.parameters(),\n",
    "    lr=best_params[\"lr\"],\n",
    "    weight_decay=best_params[\"l2_regularisation\"],\n",
    ")\n",
    "\n",
    "\n",
    "study_random = optuna.create_study(\n",
    "    direction=\"maximize\", sampler=optuna.samplers.RandomSampler()\n",
    ")\n",
    "\n",
    "study_random.optimize(objective, n_trials=30)\n",
    "\n",
    "best_params_random = study_random.best_params\n",
    "\n",
    "best_mlp_model_random = MLP(\n",
    "    input_size=X_train.shape[1],\n",
    "    feature_size=best_params_random[\"layer_size\"],\n",
    "    dropout_p=best_params_random[\"drop_out\"],\n",
    ").to(device)\n",
    "\n",
    "random_optimizer = torch.optim.AdamW(\n",
    "    params=best_mlp_model_random.parameters(),\n",
    "    lr=best_params_random[\"lr\"],\n",
    "    weight_decay=best_params_random[\"l2_regularisation\"],\n",
    ")\n",
    "\n",
    "positive_class_weight = torch.tensor(weights[1], dtype=torch.float32)\n",
    "\n",
    "loss_fn = torch.nn.BCEWithLogitsLoss(pos_weight=positive_class_weight)\n",
    "\n",
    "\n",
    "train_dataset = MyDataset(X_train, y_train)\n",
    "train_dataloader = DataLoader(train_dataset, batch_size=best_params[\"batch_size\"])\n",
    "random_train_dataloader = DataLoader(\n",
    "    train_dataset, batch_size=best_params_random[\"batch_size\"]\n",
    ")\n",
    "\n",
    "X_test_tensor = torch.tensor(X_test, dtype=torch.float32).to(device)\n",
    "y_test_tensor = torch.tensor(y_test, dtype=torch.float32).to(device)\n",
    "\n",
    "\n",
    "best_mlp_model.train_(\n",
    "    train_data=train_dataloader,\n",
    "    X_valid=X_valid,\n",
    "    y_valid=y_valid,\n",
    "    epoch_number=300,\n",
    "    patience=10,\n",
    "    loss_fun=loss_fn,\n",
    "    model_optimizer=optimizer,\n",
    ")\n",
    "\n",
    "best_mlp_model_random.train_(\n",
    "    train_data=random_train_dataloader,\n",
    "    X_valid=X_valid,\n",
    "    y_valid=y_valid,\n",
    "    epoch_number=300,\n",
    "    patience=10,\n",
    "    loss_fun=loss_fn,\n",
    "    model_optimizer=random_optimizer,\n",
    ")\n",
    "\n",
    "\n",
    "test_metrics = evaluate_model(\n",
    "    model=best_mlp_model,\n",
    "    X=X_test_tensor,\n",
    "    y=y_test_tensor,\n",
    "    loss_fn=loss_fn,\n",
    "    threshold=None,\n",
    ")\n",
    "\n",
    "\n",
    "test_metrics_random = evaluate_model(\n",
    "    model=best_mlp_model_random,\n",
    "    X=X_test_tensor,\n",
    "    y=y_test_tensor,\n",
    "    loss_fn=loss_fn,\n",
    "    threshold=None,\n",
    ")\n",
    "\n",
    "\n",
    "print(\"Best trial:\")\n",
    "trial = study.best_trial\n",
    "\n",
    "print(\"  Value: \", trial.value)\n",
    "\n",
    "print(\"Best parameters:\", study.best_params)\n",
    "print(f\"AUROC: {test_metrics['AUROC']:.2%}\")\n",
    "print(f\"F1: {test_metrics['F1-score']:.2%}\")\n",
    "print(f\"Precision: {test_metrics['precision']:.2%}\")\n",
    "print(f\"Recall: {test_metrics['recall']:.2%}\")\n",
    "\n",
    "print(\"-------------------------------------------\")\n",
    "\n",
    "print(\"Best random trial:\")\n",
    "random_trail = study_random.best_trial\n",
    "print(f\"Value: {random_trail.value}\")\n",
    "\n",
    "print(\"Best parameters (Random Search):\", study_random.best_params)\n",
    "print(f\"AUROC: {test_metrics_random['AUROC']:.2%}\")\n",
    "print(f\"F1: {test_metrics_random['F1-score']:.2%}\")\n",
    "print(f\"Precision: {test_metrics_random['precision']:.2%}\")\n",
    "print(f\"Recall: {test_metrics_random['recall']:.2%}\")"
   ],
   "outputs": [
    {
     "name": "stderr",
     "output_type": "stream",
     "text": [
      "[I 2024-11-19 14:49:13,800] A new study created in memory with name: no-name-6a22ec9e-8ac9-408f-a440-181172c93b6e\n"
     ]
    },
    {
     "name": "stdout",
     "output_type": "stream",
     "text": [
      "Epoch 0 train loss: 0.8255, eval loss 0.8177\n",
      "Epoch 1 train loss: 0.7500, eval loss 0.7425\n",
      "Epoch 2 train loss: 0.6666, eval loss 0.6545\n",
      "Epoch 3 train loss: 0.5883, eval loss 0.5839\n",
      "Epoch 4 train loss: 0.5673, eval loss 0.5440\n",
      "Epoch 5 train loss: 0.5371, eval loss 0.5245\n",
      "Epoch 6 train loss: 0.5448, eval loss 0.5144\n",
      "Epoch 7 train loss: 0.5133, eval loss 0.5081\n",
      "Epoch 8 train loss: 0.5236, eval loss 0.5035\n",
      "Epoch 9 train loss: 0.5104, eval loss 0.4998\n",
      "Epoch 10 train loss: 0.4916, eval loss 0.4966\n",
      "Epoch 11 train loss: 0.5061, eval loss 0.4938\n",
      "Epoch 12 train loss: 0.5118, eval loss 0.4913\n",
      "Epoch 13 train loss: 0.4921, eval loss 0.4892\n",
      "Epoch 14 train loss: 0.5078, eval loss 0.4873\n",
      "Epoch 15 train loss: 0.4834, eval loss 0.4857\n",
      "Epoch 16 train loss: 0.4724, eval loss 0.4842\n",
      "Epoch 17 train loss: 0.4779, eval loss 0.4829\n",
      "Epoch 18 train loss: 0.4760, eval loss 0.4817\n",
      "Epoch 19 train loss: 0.4755, eval loss 0.4806\n",
      "Epoch 20 train loss: 0.4852, eval loss 0.4797\n",
      "Epoch 21 train loss: 0.4919, eval loss 0.4788\n",
      "Epoch 22 train loss: 0.4447, eval loss 0.4781\n",
      "Epoch 23 train loss: 0.4940, eval loss 0.4774\n",
      "Epoch 24 train loss: 0.4670, eval loss 0.4768\n",
      "Epoch 25 train loss: 0.4846, eval loss 0.4763\n",
      "Epoch 26 train loss: 0.4541, eval loss 0.4758\n",
      "Epoch 27 train loss: 0.4597, eval loss 0.4753\n",
      "Epoch 28 train loss: 0.4756, eval loss 0.4748\n",
      "Epoch 29 train loss: 0.4503, eval loss 0.4743\n",
      "Epoch 30 train loss: 0.4700, eval loss 0.4739\n",
      "Epoch 31 train loss: 0.4487, eval loss 0.4736\n",
      "Epoch 32 train loss: 0.4477, eval loss 0.4734\n",
      "Epoch 33 train loss: 0.4449, eval loss 0.4730\n",
      "Epoch 34 train loss: 0.4497, eval loss 0.4727\n",
      "Epoch 35 train loss: 0.4493, eval loss 0.4724\n",
      "Epoch 36 train loss: 0.4707, eval loss 0.4722\n",
      "Epoch 37 train loss: 0.4550, eval loss 0.4720\n",
      "Epoch 38 train loss: 0.4641, eval loss 0.4717\n",
      "Epoch 39 train loss: 0.4595, eval loss 0.4714\n",
      "Epoch 40 train loss: 0.4436, eval loss 0.4713\n",
      "Epoch 41 train loss: 0.4649, eval loss 0.4712\n",
      "Epoch 42 train loss: 0.4664, eval loss 0.4711\n",
      "Epoch 43 train loss: 0.4611, eval loss 0.4708\n",
      "Epoch 44 train loss: 0.4652, eval loss 0.4707\n",
      "Epoch 45 train loss: 0.4517, eval loss 0.4705\n",
      "Epoch 46 train loss: 0.4716, eval loss 0.4704\n",
      "Epoch 47 train loss: 0.4464, eval loss 0.4703\n",
      "Epoch 48 train loss: 0.4375, eval loss 0.4701\n",
      "Epoch 49 train loss: 0.4691, eval loss 0.4701\n",
      "Epoch 50 train loss: 0.4701, eval loss 0.4700\n",
      "Epoch 51 train loss: 0.4991, eval loss 0.4698\n",
      "Epoch 52 train loss: 0.4401, eval loss 0.4697\n",
      "Epoch 53 train loss: 0.4575, eval loss 0.4698\n",
      "Epoch 54 train loss: 0.4642, eval loss 0.4699\n",
      "Epoch 55 train loss: 0.4581, eval loss 0.4696\n",
      "Epoch 56 train loss: 0.4817, eval loss 0.4695\n",
      "Epoch 57 train loss: 0.4530, eval loss 0.4694\n",
      "Epoch 58 train loss: 0.4729, eval loss 0.4695\n",
      "Epoch 59 train loss: 0.4582, eval loss 0.4693\n",
      "Epoch 60 train loss: 0.4499, eval loss 0.4692\n",
      "Epoch 61 train loss: 0.4539, eval loss 0.4691\n",
      "Epoch 62 train loss: 0.4686, eval loss 0.4691\n",
      "Epoch 63 train loss: 0.4774, eval loss 0.4690\n",
      "Epoch 64 train loss: 0.4335, eval loss 0.4691\n",
      "Epoch 65 train loss: 0.4762, eval loss 0.4690\n",
      "Epoch 66 train loss: 0.4489, eval loss 0.4690\n",
      "Epoch 67 train loss: 0.4574, eval loss 0.4691\n",
      "Epoch 68 train loss: 0.4628, eval loss 0.4690\n",
      "Epoch 69 train loss: 0.4817, eval loss 0.4690\n",
      "Epoch 70 train loss: 0.4665, eval loss 0.4687\n",
      "Epoch 71 train loss: 0.4433, eval loss 0.4688\n",
      "Epoch 72 train loss: 0.4975, eval loss 0.4687\n",
      "Epoch 73 train loss: 0.4601, eval loss 0.4686\n",
      "Epoch 74 train loss: 0.4383, eval loss 0.4685\n",
      "Epoch 75 train loss: 0.4589, eval loss 0.4685\n",
      "Epoch 76 train loss: 0.4851, eval loss 0.4686\n",
      "Epoch 77 train loss: 0.4443, eval loss 0.4687\n",
      "Epoch 78 train loss: 0.4649, eval loss 0.4686\n",
      "Epoch 79 train loss: 0.4409, eval loss 0.4685\n",
      "Epoch 80 train loss: 0.4523, eval loss 0.4683\n",
      "Epoch 81 train loss: 0.4831, eval loss 0.4685\n",
      "Epoch 82 train loss: 0.4454, eval loss 0.4686\n",
      "Epoch 83 train loss: 0.4514, eval loss 0.4685\n",
      "Epoch 84 train loss: 0.4760, eval loss 0.4685\n",
      "Epoch 85 train loss: 0.4833, eval loss 0.4684\n",
      "Epoch 86 train loss: 0.4485, eval loss 0.4685\n",
      "Epoch 87 train loss: 0.4707, eval loss 0.4685\n",
      "Epoch 88 train loss: 0.4562, eval loss 0.4684\n",
      "Epoch 89 train loss: 0.4677, eval loss 0.4685\n"
     ]
    },
    {
     "name": "stderr",
     "output_type": "stream",
     "text": [
      "[I 2024-11-19 14:50:04,476] Trial 0 finished with value: 0.7067494181536075 and parameters: {'layer_size': 485, 'drop_out': 0.4809847290611814, 'lr': 2.661283502280526e-05, 'l2_regularisation': 3.207463780524475e-05, 'batch_size': 227}. Best is trial 0 with value: 0.7067494181536075.\n"
     ]
    },
    {
     "name": "stdout",
     "output_type": "stream",
     "text": [
      "Early stopping triggered.\n",
      "Epoch 0 train loss: 0.4768, eval loss 0.4972\n",
      "Epoch 1 train loss: 0.4965, eval loss 0.5043\n",
      "Epoch 2 train loss: 0.6194, eval loss 0.4878\n",
      "Epoch 3 train loss: 0.4744, eval loss 0.5018\n",
      "Epoch 4 train loss: 0.5103, eval loss 0.4998\n",
      "Epoch 5 train loss: 0.4708, eval loss 0.5065\n",
      "Epoch 6 train loss: 0.6678, eval loss 0.5296\n",
      "Epoch 7 train loss: 0.6388, eval loss 0.5135\n",
      "Epoch 8 train loss: 0.4297, eval loss 0.5293\n",
      "Epoch 9 train loss: 0.3979, eval loss 0.5369\n",
      "Epoch 10 train loss: 0.5954, eval loss 0.5239\n",
      "Epoch 11 train loss: 0.3996, eval loss 0.5140\n"
     ]
    },
    {
     "name": "stderr",
     "output_type": "stream",
     "text": [
      "[I 2024-11-19 14:50:11,151] Trial 1 finished with value: 0.7053910402429765 and parameters: {'layer_size': 465, 'drop_out': 0.5518993000618458, 'lr': 0.01881516704685578, 'l2_regularisation': 0.0005478674989855061, 'batch_size': 226}. Best is trial 0 with value: 0.7067494181536075.\n"
     ]
    },
    {
     "name": "stdout",
     "output_type": "stream",
     "text": [
      "Early stopping triggered.\n",
      "Epoch 0 train loss: 0.4853, eval loss 0.4762\n",
      "Epoch 1 train loss: 0.5124, eval loss 0.4734\n",
      "Epoch 2 train loss: 0.4330, eval loss 0.4762\n",
      "Epoch 3 train loss: 0.4762, eval loss 0.4751\n",
      "Epoch 4 train loss: 0.4862, eval loss 0.4747\n",
      "Epoch 5 train loss: 0.4832, eval loss 0.4751\n",
      "Epoch 6 train loss: 0.4400, eval loss 0.4802\n",
      "Epoch 7 train loss: 0.4561, eval loss 0.4786\n",
      "Epoch 8 train loss: 0.4450, eval loss 0.4782\n",
      "Epoch 9 train loss: 0.4319, eval loss 0.4747\n",
      "Epoch 10 train loss: 0.4217, eval loss 0.4801\n"
     ]
    },
    {
     "name": "stderr",
     "output_type": "stream",
     "text": [
      "[I 2024-11-19 14:50:16,987] Trial 2 finished with value: 0.7068903962870403 and parameters: {'layer_size': 280, 'drop_out': 0.6129928835377777, 'lr': 0.0057701715317449885, 'l2_regularisation': 0.0005561690714969169, 'batch_size': 246}. Best is trial 2 with value: 0.7068903962870403.\n"
     ]
    },
    {
     "name": "stdout",
     "output_type": "stream",
     "text": [
      "Early stopping triggered.\n",
      "Epoch 0 train loss: 0.8840, eval loss 0.8881\n",
      "Epoch 1 train loss: 0.8897, eval loss 0.8876\n",
      "Epoch 2 train loss: 0.8832, eval loss 0.8871\n",
      "Epoch 3 train loss: 0.8786, eval loss 0.8867\n",
      "Epoch 4 train loss: 0.8784, eval loss 0.8862\n",
      "Epoch 5 train loss: 0.8897, eval loss 0.8858\n",
      "Epoch 6 train loss: 0.8862, eval loss 0.8853\n",
      "Epoch 7 train loss: 0.8848, eval loss 0.8849\n",
      "Epoch 8 train loss: 0.8754, eval loss 0.8844\n",
      "Epoch 9 train loss: 0.8768, eval loss 0.8840\n",
      "Epoch 10 train loss: 0.8677, eval loss 0.8835\n",
      "Epoch 11 train loss: 0.8823, eval loss 0.8830\n",
      "Epoch 12 train loss: 0.8739, eval loss 0.8826\n",
      "Epoch 13 train loss: 0.8838, eval loss 0.8821\n",
      "Epoch 14 train loss: 0.8623, eval loss 0.8817\n",
      "Epoch 15 train loss: 0.8791, eval loss 0.8812\n",
      "Epoch 16 train loss: 0.8932, eval loss 0.8808\n",
      "Epoch 17 train loss: 0.8752, eval loss 0.8804\n",
      "Epoch 18 train loss: 0.8807, eval loss 0.8799\n",
      "Epoch 19 train loss: 0.8734, eval loss 0.8795\n",
      "Epoch 20 train loss: 0.8729, eval loss 0.8790\n",
      "Epoch 21 train loss: 0.8708, eval loss 0.8786\n",
      "Epoch 22 train loss: 0.8653, eval loss 0.8781\n",
      "Epoch 23 train loss: 0.8731, eval loss 0.8777\n",
      "Epoch 24 train loss: 0.8611, eval loss 0.8773\n",
      "Epoch 25 train loss: 0.8677, eval loss 0.8768\n",
      "Epoch 26 train loss: 0.8737, eval loss 0.8764\n",
      "Epoch 27 train loss: 0.8698, eval loss 0.8760\n",
      "Epoch 28 train loss: 0.8685, eval loss 0.8755\n",
      "Epoch 29 train loss: 0.8650, eval loss 0.8751\n",
      "Epoch 30 train loss: 0.8627, eval loss 0.8746\n",
      "Epoch 31 train loss: 0.8749, eval loss 0.8742\n",
      "Epoch 32 train loss: 0.8642, eval loss 0.8738\n",
      "Epoch 33 train loss: 0.8739, eval loss 0.8733\n",
      "Epoch 34 train loss: 0.8672, eval loss 0.8729\n",
      "Epoch 35 train loss: 0.8565, eval loss 0.8725\n",
      "Epoch 36 train loss: 0.8680, eval loss 0.8720\n",
      "Epoch 37 train loss: 0.8511, eval loss 0.8716\n",
      "Epoch 38 train loss: 0.8609, eval loss 0.8712\n",
      "Epoch 39 train loss: 0.8694, eval loss 0.8708\n",
      "Epoch 40 train loss: 0.8685, eval loss 0.8703\n",
      "Epoch 41 train loss: 0.8653, eval loss 0.8699\n",
      "Epoch 42 train loss: 0.8620, eval loss 0.8695\n",
      "Epoch 43 train loss: 0.8622, eval loss 0.8690\n",
      "Epoch 44 train loss: 0.8622, eval loss 0.8686\n",
      "Epoch 45 train loss: 0.8682, eval loss 0.8682\n",
      "Epoch 46 train loss: 0.8583, eval loss 0.8678\n",
      "Epoch 47 train loss: 0.8656, eval loss 0.8673\n",
      "Epoch 48 train loss: 0.8654, eval loss 0.8669\n",
      "Epoch 49 train loss: 0.8627, eval loss 0.8665\n",
      "Epoch 50 train loss: 0.8536, eval loss 0.8661\n",
      "Epoch 51 train loss: 0.8599, eval loss 0.8657\n",
      "Epoch 52 train loss: 0.8484, eval loss 0.8652\n",
      "Epoch 53 train loss: 0.8634, eval loss 0.8648\n",
      "Epoch 54 train loss: 0.8560, eval loss 0.8644\n",
      "Epoch 55 train loss: 0.8688, eval loss 0.8640\n",
      "Epoch 56 train loss: 0.8549, eval loss 0.8635\n",
      "Epoch 57 train loss: 0.8620, eval loss 0.8631\n",
      "Epoch 58 train loss: 0.8530, eval loss 0.8627\n",
      "Epoch 59 train loss: 0.8585, eval loss 0.8623\n",
      "Epoch 60 train loss: 0.8613, eval loss 0.8619\n",
      "Epoch 61 train loss: 0.8583, eval loss 0.8614\n",
      "Epoch 62 train loss: 0.8572, eval loss 0.8610\n",
      "Epoch 63 train loss: 0.8566, eval loss 0.8606\n",
      "Epoch 64 train loss: 0.8523, eval loss 0.8602\n",
      "Epoch 65 train loss: 0.8702, eval loss 0.8598\n",
      "Epoch 66 train loss: 0.8457, eval loss 0.8593\n",
      "Epoch 67 train loss: 0.8525, eval loss 0.8589\n",
      "Epoch 68 train loss: 0.8558, eval loss 0.8585\n",
      "Epoch 69 train loss: 0.8626, eval loss 0.8581\n",
      "Epoch 70 train loss: 0.8626, eval loss 0.8577\n",
      "Epoch 71 train loss: 0.8487, eval loss 0.8573\n",
      "Epoch 72 train loss: 0.8533, eval loss 0.8568\n",
      "Epoch 73 train loss: 0.8535, eval loss 0.8564\n",
      "Epoch 74 train loss: 0.8578, eval loss 0.8560\n",
      "Epoch 75 train loss: 0.8372, eval loss 0.8556\n",
      "Epoch 76 train loss: 0.8497, eval loss 0.8552\n",
      "Epoch 77 train loss: 0.8401, eval loss 0.8547\n",
      "Epoch 78 train loss: 0.8424, eval loss 0.8543\n",
      "Epoch 79 train loss: 0.8651, eval loss 0.8539\n",
      "Epoch 80 train loss: 0.8508, eval loss 0.8535\n",
      "Epoch 81 train loss: 0.8547, eval loss 0.8531\n",
      "Epoch 82 train loss: 0.8539, eval loss 0.8527\n",
      "Epoch 83 train loss: 0.8580, eval loss 0.8522\n",
      "Epoch 84 train loss: 0.8465, eval loss 0.8518\n",
      "Epoch 85 train loss: 0.8398, eval loss 0.8514\n",
      "Epoch 86 train loss: 0.8473, eval loss 0.8510\n",
      "Epoch 87 train loss: 0.8377, eval loss 0.8506\n",
      "Epoch 88 train loss: 0.8525, eval loss 0.8502\n",
      "Epoch 89 train loss: 0.8521, eval loss 0.8497\n",
      "Epoch 90 train loss: 0.8493, eval loss 0.8493\n",
      "Epoch 91 train loss: 0.8412, eval loss 0.8489\n",
      "Epoch 92 train loss: 0.8481, eval loss 0.8485\n",
      "Epoch 93 train loss: 0.8362, eval loss 0.8481\n",
      "Epoch 94 train loss: 0.8376, eval loss 0.8477\n",
      "Epoch 95 train loss: 0.8433, eval loss 0.8472\n",
      "Epoch 96 train loss: 0.8545, eval loss 0.8468\n",
      "Epoch 97 train loss: 0.8389, eval loss 0.8464\n",
      "Epoch 98 train loss: 0.8410, eval loss 0.8460\n",
      "Epoch 99 train loss: 0.8394, eval loss 0.8456\n",
      "Epoch 100 train loss: 0.8448, eval loss 0.8452\n",
      "Epoch 101 train loss: 0.8470, eval loss 0.8447\n",
      "Epoch 102 train loss: 0.8402, eval loss 0.8443\n",
      "Epoch 103 train loss: 0.8350, eval loss 0.8439\n",
      "Epoch 104 train loss: 0.8404, eval loss 0.8435\n",
      "Epoch 105 train loss: 0.8261, eval loss 0.8431\n",
      "Epoch 106 train loss: 0.8355, eval loss 0.8426\n",
      "Epoch 107 train loss: 0.8283, eval loss 0.8422\n",
      "Epoch 108 train loss: 0.8464, eval loss 0.8418\n",
      "Epoch 109 train loss: 0.8372, eval loss 0.8414\n",
      "Epoch 110 train loss: 0.8376, eval loss 0.8410\n",
      "Epoch 111 train loss: 0.8440, eval loss 0.8405\n",
      "Epoch 112 train loss: 0.8365, eval loss 0.8401\n",
      "Epoch 113 train loss: 0.8437, eval loss 0.8397\n",
      "Epoch 114 train loss: 0.8373, eval loss 0.8393\n",
      "Epoch 115 train loss: 0.8391, eval loss 0.8389\n",
      "Epoch 116 train loss: 0.8217, eval loss 0.8384\n",
      "Epoch 117 train loss: 0.8404, eval loss 0.8380\n",
      "Epoch 118 train loss: 0.8340, eval loss 0.8376\n",
      "Epoch 119 train loss: 0.8346, eval loss 0.8372\n",
      "Epoch 120 train loss: 0.8332, eval loss 0.8367\n",
      "Epoch 121 train loss: 0.8302, eval loss 0.8363\n",
      "Epoch 122 train loss: 0.8304, eval loss 0.8359\n",
      "Epoch 123 train loss: 0.8357, eval loss 0.8355\n",
      "Epoch 124 train loss: 0.8279, eval loss 0.8350\n",
      "Epoch 125 train loss: 0.8122, eval loss 0.8346\n",
      "Epoch 126 train loss: 0.8269, eval loss 0.8342\n",
      "Epoch 127 train loss: 0.8244, eval loss 0.8338\n",
      "Epoch 128 train loss: 0.8292, eval loss 0.8333\n",
      "Epoch 129 train loss: 0.8145, eval loss 0.8329\n",
      "Epoch 130 train loss: 0.8133, eval loss 0.8325\n",
      "Epoch 131 train loss: 0.8176, eval loss 0.8321\n",
      "Epoch 132 train loss: 0.8374, eval loss 0.8316\n",
      "Epoch 133 train loss: 0.8180, eval loss 0.8312\n",
      "Epoch 134 train loss: 0.8392, eval loss 0.8308\n",
      "Epoch 135 train loss: 0.8141, eval loss 0.8303\n",
      "Epoch 136 train loss: 0.8336, eval loss 0.8299\n",
      "Epoch 137 train loss: 0.8261, eval loss 0.8295\n",
      "Epoch 138 train loss: 0.8202, eval loss 0.8291\n",
      "Epoch 139 train loss: 0.8312, eval loss 0.8286\n",
      "Epoch 140 train loss: 0.8215, eval loss 0.8282\n",
      "Epoch 141 train loss: 0.8397, eval loss 0.8278\n",
      "Epoch 142 train loss: 0.8165, eval loss 0.8273\n",
      "Epoch 143 train loss: 0.8190, eval loss 0.8269\n",
      "Epoch 144 train loss: 0.8268, eval loss 0.8265\n",
      "Epoch 145 train loss: 0.8134, eval loss 0.8260\n",
      "Epoch 146 train loss: 0.8175, eval loss 0.8256\n",
      "Epoch 147 train loss: 0.8016, eval loss 0.8252\n",
      "Epoch 148 train loss: 0.8248, eval loss 0.8247\n",
      "Epoch 149 train loss: 0.8207, eval loss 0.8243\n",
      "Epoch 150 train loss: 0.8192, eval loss 0.8238\n",
      "Epoch 151 train loss: 0.8312, eval loss 0.8234\n",
      "Epoch 152 train loss: 0.8168, eval loss 0.8230\n",
      "Epoch 153 train loss: 0.8192, eval loss 0.8225\n",
      "Epoch 154 train loss: 0.8123, eval loss 0.8221\n",
      "Epoch 155 train loss: 0.8050, eval loss 0.8217\n",
      "Epoch 156 train loss: 0.8217, eval loss 0.8212\n",
      "Epoch 157 train loss: 0.8213, eval loss 0.8208\n",
      "Epoch 158 train loss: 0.8111, eval loss 0.8203\n",
      "Epoch 159 train loss: 0.8023, eval loss 0.8199\n",
      "Epoch 160 train loss: 0.8056, eval loss 0.8194\n",
      "Epoch 161 train loss: 0.8143, eval loss 0.8190\n",
      "Epoch 162 train loss: 0.8201, eval loss 0.8186\n",
      "Epoch 163 train loss: 0.8187, eval loss 0.8181\n",
      "Epoch 164 train loss: 0.8022, eval loss 0.8177\n",
      "Epoch 165 train loss: 0.8140, eval loss 0.8172\n",
      "Epoch 166 train loss: 0.7943, eval loss 0.8168\n",
      "Epoch 167 train loss: 0.8157, eval loss 0.8163\n",
      "Epoch 168 train loss: 0.8021, eval loss 0.8159\n",
      "Epoch 169 train loss: 0.8112, eval loss 0.8154\n",
      "Epoch 170 train loss: 0.8003, eval loss 0.8150\n",
      "Epoch 171 train loss: 0.8215, eval loss 0.8145\n",
      "Epoch 172 train loss: 0.8139, eval loss 0.8141\n",
      "Epoch 173 train loss: 0.7970, eval loss 0.8136\n",
      "Epoch 174 train loss: 0.8006, eval loss 0.8132\n",
      "Epoch 175 train loss: 0.8045, eval loss 0.8127\n",
      "Epoch 176 train loss: 0.8057, eval loss 0.8123\n",
      "Epoch 177 train loss: 0.8159, eval loss 0.8118\n",
      "Epoch 178 train loss: 0.8076, eval loss 0.8114\n",
      "Epoch 179 train loss: 0.8050, eval loss 0.8109\n",
      "Epoch 180 train loss: 0.8019, eval loss 0.8105\n",
      "Epoch 181 train loss: 0.7888, eval loss 0.8100\n",
      "Epoch 182 train loss: 0.7992, eval loss 0.8095\n",
      "Epoch 183 train loss: 0.7946, eval loss 0.8091\n",
      "Epoch 184 train loss: 0.8021, eval loss 0.8086\n",
      "Epoch 185 train loss: 0.7981, eval loss 0.8082\n",
      "Epoch 186 train loss: 0.7966, eval loss 0.8077\n",
      "Epoch 187 train loss: 0.8046, eval loss 0.8072\n",
      "Epoch 188 train loss: 0.7774, eval loss 0.8068\n",
      "Epoch 189 train loss: 0.7999, eval loss 0.8063\n",
      "Epoch 190 train loss: 0.7899, eval loss 0.8059\n",
      "Epoch 191 train loss: 0.7830, eval loss 0.8054\n",
      "Epoch 192 train loss: 0.7906, eval loss 0.8049\n",
      "Epoch 193 train loss: 0.7912, eval loss 0.8045\n",
      "Epoch 194 train loss: 0.7907, eval loss 0.8040\n",
      "Epoch 195 train loss: 0.7983, eval loss 0.8035\n",
      "Epoch 196 train loss: 0.7979, eval loss 0.8031\n",
      "Epoch 197 train loss: 0.8020, eval loss 0.8026\n",
      "Epoch 198 train loss: 0.7894, eval loss 0.8021\n",
      "Epoch 199 train loss: 0.7930, eval loss 0.8016\n",
      "Epoch 200 train loss: 0.7914, eval loss 0.8012\n",
      "Epoch 201 train loss: 0.7911, eval loss 0.8007\n",
      "Epoch 202 train loss: 0.8015, eval loss 0.8002\n",
      "Epoch 203 train loss: 0.7910, eval loss 0.7998\n",
      "Epoch 204 train loss: 0.7897, eval loss 0.7993\n",
      "Epoch 205 train loss: 0.7930, eval loss 0.7988\n",
      "Epoch 206 train loss: 0.7881, eval loss 0.7983\n",
      "Epoch 207 train loss: 0.7816, eval loss 0.7979\n",
      "Epoch 208 train loss: 0.7860, eval loss 0.7974\n",
      "Epoch 209 train loss: 0.7933, eval loss 0.7969\n",
      "Epoch 210 train loss: 0.7916, eval loss 0.7964\n",
      "Epoch 211 train loss: 0.7723, eval loss 0.7959\n",
      "Epoch 212 train loss: 0.7996, eval loss 0.7955\n",
      "Epoch 213 train loss: 0.7957, eval loss 0.7950\n",
      "Epoch 214 train loss: 0.7799, eval loss 0.7945\n",
      "Epoch 215 train loss: 0.7924, eval loss 0.7940\n",
      "Epoch 216 train loss: 0.7927, eval loss 0.7935\n",
      "Epoch 217 train loss: 0.7827, eval loss 0.7930\n",
      "Epoch 218 train loss: 0.7825, eval loss 0.7926\n",
      "Epoch 219 train loss: 0.7853, eval loss 0.7921\n",
      "Epoch 220 train loss: 0.7994, eval loss 0.7916\n",
      "Epoch 221 train loss: 0.7861, eval loss 0.7911\n",
      "Epoch 222 train loss: 0.7790, eval loss 0.7906\n",
      "Epoch 223 train loss: 0.7892, eval loss 0.7901\n",
      "Epoch 224 train loss: 0.7911, eval loss 0.7896\n",
      "Epoch 225 train loss: 0.7851, eval loss 0.7891\n",
      "Epoch 226 train loss: 0.7788, eval loss 0.7886\n",
      "Epoch 227 train loss: 0.7720, eval loss 0.7881\n",
      "Epoch 228 train loss: 0.7772, eval loss 0.7876\n",
      "Epoch 229 train loss: 0.7790, eval loss 0.7872\n",
      "Epoch 230 train loss: 0.7669, eval loss 0.7867\n",
      "Epoch 231 train loss: 0.7730, eval loss 0.7862\n",
      "Epoch 232 train loss: 0.7714, eval loss 0.7857\n",
      "Epoch 233 train loss: 0.7698, eval loss 0.7852\n",
      "Epoch 234 train loss: 0.7875, eval loss 0.7847\n",
      "Epoch 235 train loss: 0.7955, eval loss 0.7842\n",
      "Epoch 236 train loss: 0.7743, eval loss 0.7837\n",
      "Epoch 237 train loss: 0.7763, eval loss 0.7832\n",
      "Epoch 238 train loss: 0.7502, eval loss 0.7827\n",
      "Epoch 239 train loss: 0.7639, eval loss 0.7822\n",
      "Epoch 240 train loss: 0.7742, eval loss 0.7816\n",
      "Epoch 241 train loss: 0.7782, eval loss 0.7811\n",
      "Epoch 242 train loss: 0.7771, eval loss 0.7806\n",
      "Epoch 243 train loss: 0.7811, eval loss 0.7801\n",
      "Epoch 244 train loss: 0.7720, eval loss 0.7796\n",
      "Epoch 245 train loss: 0.7677, eval loss 0.7791\n",
      "Epoch 246 train loss: 0.7795, eval loss 0.7786\n",
      "Epoch 247 train loss: 0.7645, eval loss 0.7781\n",
      "Epoch 248 train loss: 0.7666, eval loss 0.7776\n",
      "Epoch 249 train loss: 0.7704, eval loss 0.7771\n",
      "Epoch 250 train loss: 0.7729, eval loss 0.7766\n",
      "Epoch 251 train loss: 0.7707, eval loss 0.7760\n",
      "Epoch 252 train loss: 0.7647, eval loss 0.7755\n",
      "Epoch 253 train loss: 0.7436, eval loss 0.7750\n",
      "Epoch 254 train loss: 0.7486, eval loss 0.7745\n",
      "Epoch 255 train loss: 0.7491, eval loss 0.7740\n",
      "Epoch 256 train loss: 0.7735, eval loss 0.7735\n",
      "Epoch 257 train loss: 0.7764, eval loss 0.7729\n",
      "Epoch 258 train loss: 0.7666, eval loss 0.7724\n",
      "Epoch 259 train loss: 0.7603, eval loss 0.7719\n",
      "Epoch 260 train loss: 0.7618, eval loss 0.7714\n",
      "Epoch 261 train loss: 0.7656, eval loss 0.7709\n",
      "Epoch 262 train loss: 0.7638, eval loss 0.7703\n",
      "Epoch 263 train loss: 0.7594, eval loss 0.7698\n",
      "Epoch 264 train loss: 0.7653, eval loss 0.7693\n",
      "Epoch 265 train loss: 0.7577, eval loss 0.7688\n",
      "Epoch 266 train loss: 0.7653, eval loss 0.7682\n",
      "Epoch 267 train loss: 0.7461, eval loss 0.7677\n",
      "Epoch 268 train loss: 0.7661, eval loss 0.7672\n",
      "Epoch 269 train loss: 0.7596, eval loss 0.7666\n",
      "Epoch 270 train loss: 0.7583, eval loss 0.7661\n",
      "Epoch 271 train loss: 0.7476, eval loss 0.7656\n",
      "Epoch 272 train loss: 0.7587, eval loss 0.7651\n",
      "Epoch 273 train loss: 0.7516, eval loss 0.7645\n",
      "Epoch 274 train loss: 0.7681, eval loss 0.7640\n",
      "Epoch 275 train loss: 0.7572, eval loss 0.7635\n",
      "Epoch 276 train loss: 0.7596, eval loss 0.7629\n",
      "Epoch 277 train loss: 0.7474, eval loss 0.7624\n",
      "Epoch 278 train loss: 0.7541, eval loss 0.7619\n",
      "Epoch 279 train loss: 0.7525, eval loss 0.7613\n",
      "Epoch 280 train loss: 0.7550, eval loss 0.7608\n",
      "Epoch 281 train loss: 0.7519, eval loss 0.7602\n",
      "Epoch 282 train loss: 0.7401, eval loss 0.7597\n",
      "Epoch 283 train loss: 0.7658, eval loss 0.7592\n",
      "Epoch 284 train loss: 0.7457, eval loss 0.7586\n",
      "Epoch 285 train loss: 0.7396, eval loss 0.7581\n",
      "Epoch 286 train loss: 0.7400, eval loss 0.7575\n",
      "Epoch 287 train loss: 0.7469, eval loss 0.7570\n",
      "Epoch 288 train loss: 0.7453, eval loss 0.7565\n",
      "Epoch 289 train loss: 0.7457, eval loss 0.7559\n",
      "Epoch 290 train loss: 0.7501, eval loss 0.7554\n",
      "Epoch 291 train loss: 0.7318, eval loss 0.7548\n",
      "Epoch 292 train loss: 0.7553, eval loss 0.7543\n",
      "Epoch 293 train loss: 0.7216, eval loss 0.7537\n",
      "Epoch 294 train loss: 0.7483, eval loss 0.7532\n",
      "Epoch 295 train loss: 0.7348, eval loss 0.7526\n",
      "Epoch 296 train loss: 0.7291, eval loss 0.7521\n",
      "Epoch 297 train loss: 0.7397, eval loss 0.7515\n",
      "Epoch 298 train loss: 0.7411, eval loss 0.7510\n"
     ]
    },
    {
     "name": "stderr",
     "output_type": "stream",
     "text": [
      "[I 2024-11-19 14:55:08,087] Trial 3 finished with value: 0.6609294320137694 and parameters: {'layer_size': 283, 'drop_out': 0.3910042373402104, 'lr': 1.1909335181068995e-07, 'l2_regularisation': 0.00048179956110299847, 'batch_size': 71}. Best is trial 2 with value: 0.7068903962870403.\n"
     ]
    },
    {
     "name": "stdout",
     "output_type": "stream",
     "text": [
      "Epoch 299 train loss: 0.7404, eval loss 0.7504\n",
      "Epoch 0 train loss: 0.5223, eval loss 0.4808\n",
      "Epoch 1 train loss: 0.6319, eval loss 0.4720\n",
      "Epoch 2 train loss: 0.5427, eval loss 0.4713\n",
      "Epoch 3 train loss: 0.4679, eval loss 0.4715\n",
      "Epoch 4 train loss: 0.3814, eval loss 0.4709\n",
      "Epoch 5 train loss: 0.4188, eval loss 0.4723\n",
      "Epoch 6 train loss: 0.4211, eval loss 0.4714\n",
      "Epoch 7 train loss: 0.4330, eval loss 0.4730\n",
      "Epoch 8 train loss: 0.5282, eval loss 0.4724\n",
      "Epoch 9 train loss: 0.4201, eval loss 0.4714\n",
      "Epoch 10 train loss: 0.4033, eval loss 0.4748\n",
      "Epoch 11 train loss: 0.2955, eval loss 0.4756\n",
      "Epoch 12 train loss: 0.3592, eval loss 0.4766\n",
      "Epoch 13 train loss: 0.3173, eval loss 0.4807\n"
     ]
    },
    {
     "name": "stderr",
     "output_type": "stream",
     "text": [
      "[I 2024-11-19 14:55:14,237] Trial 4 finished with value: 0.7079783113865221 and parameters: {'layer_size': 315, 'drop_out': 0.5476415460185733, 'lr': 0.0013219891942947643, 'l2_regularisation': 0.0005936480233074026, 'batch_size': 242}. Best is trial 4 with value: 0.7079783113865221.\n"
     ]
    },
    {
     "name": "stdout",
     "output_type": "stream",
     "text": [
      "Early stopping triggered.\n"
     ]
    },
    {
     "name": "stderr",
     "output_type": "stream",
     "text": [
      "[I 2024-11-19 14:55:14,672] Trial 5 pruned. \n"
     ]
    },
    {
     "name": "stdout",
     "output_type": "stream",
     "text": [
      "Epoch 0 train loss: 0.8403, eval loss 0.8534\n"
     ]
    },
    {
     "name": "stderr",
     "output_type": "stream",
     "text": [
      "[I 2024-11-19 14:55:15,180] Trial 6 pruned. \n"
     ]
    },
    {
     "name": "stdout",
     "output_type": "stream",
     "text": [
      "Epoch 0 train loss: 0.6537, eval loss 0.5457\n",
      "Epoch 0 train loss: 0.5153, eval loss 0.4833\n",
      "Epoch 1 train loss: 0.4843, eval loss 0.4795\n",
      "Epoch 2 train loss: 0.4942, eval loss 0.4845\n",
      "Epoch 3 train loss: 0.4665, eval loss 0.4871\n",
      "Epoch 4 train loss: 0.4216, eval loss 0.5069\n",
      "Epoch 5 train loss: 0.4921, eval loss 0.5039\n",
      "Epoch 6 train loss: 0.3746, eval loss 0.5194\n",
      "Epoch 7 train loss: 0.4155, eval loss 0.5172\n",
      "Epoch 8 train loss: 0.4104, eval loss 0.5158\n",
      "Epoch 9 train loss: 0.3607, eval loss 0.5219\n",
      "Epoch 10 train loss: 0.4038, eval loss 0.5146\n"
     ]
    },
    {
     "name": "stderr",
     "output_type": "stream",
     "text": [
      "[I 2024-11-19 14:55:21,404] Trial 7 finished with value: 0.6878267363704257 and parameters: {'layer_size': 410, 'drop_out': 0.181078856013319, 'lr': 0.021124092005271423, 'l2_regularisation': 0.00037316559952128045, 'batch_size': 169}. Best is trial 4 with value: 0.7079783113865221.\n"
     ]
    },
    {
     "name": "stdout",
     "output_type": "stream",
     "text": [
      "Early stopping triggered.\n",
      "Epoch 0 train loss: 0.5269, eval loss 0.4733\n",
      "Epoch 1 train loss: 0.5292, eval loss 0.4705\n",
      "Epoch 2 train loss: 0.5036, eval loss 0.4697\n",
      "Epoch 3 train loss: 0.4867, eval loss 0.4705\n",
      "Epoch 4 train loss: 0.4878, eval loss 0.4719\n",
      "Epoch 5 train loss: 0.4861, eval loss 0.4754\n",
      "Epoch 6 train loss: 0.4775, eval loss 0.4807\n",
      "Epoch 7 train loss: 0.4546, eval loss 0.4825\n",
      "Epoch 8 train loss: 0.4652, eval loss 0.4877\n",
      "Epoch 9 train loss: 0.4186, eval loss 0.4961\n",
      "Epoch 10 train loss: 0.4243, eval loss 0.5056\n",
      "Epoch 11 train loss: 0.4337, eval loss 0.5095\n"
     ]
    },
    {
     "name": "stderr",
     "output_type": "stream",
     "text": [
      "[I 2024-11-19 14:55:27,241] Trial 8 finished with value: 0.699228791773779 and parameters: {'layer_size': 417, 'drop_out': 0.1588193000744916, 'lr': 0.0011320001419476255, 'l2_regularisation': 0.00026307227834442356, 'batch_size': 230}. Best is trial 4 with value: 0.7079783113865221.\n"
     ]
    },
    {
     "name": "stdout",
     "output_type": "stream",
     "text": [
      "Early stopping triggered.\n"
     ]
    },
    {
     "name": "stderr",
     "output_type": "stream",
     "text": [
      "[I 2024-11-19 14:55:27,984] Trial 9 pruned. \n"
     ]
    },
    {
     "name": "stdout",
     "output_type": "stream",
     "text": [
      "Epoch 0 train loss: 0.8708, eval loss 0.8815\n"
     ]
    },
    {
     "name": "stderr",
     "output_type": "stream",
     "text": [
      "[I 2024-11-19 14:55:28,809] Trial 10 pruned. \n"
     ]
    },
    {
     "name": "stdout",
     "output_type": "stream",
     "text": [
      "Epoch 0 train loss: 0.5528, eval loss 0.4826\n"
     ]
    },
    {
     "name": "stderr",
     "output_type": "stream",
     "text": [
      "[I 2024-11-19 14:55:29,276] Trial 11 pruned. \n"
     ]
    },
    {
     "name": "stdout",
     "output_type": "stream",
     "text": [
      "Epoch 0 train loss: 0.6182, eval loss 0.4798\n",
      "Epoch 0 train loss: 0.6122, eval loss 0.4734\n",
      "Epoch 1 train loss: 0.5025, eval loss 0.4741\n",
      "Epoch 2 train loss: 0.5205, eval loss 0.4712\n",
      "Epoch 3 train loss: 0.5378, eval loss 0.4738\n",
      "Epoch 4 train loss: 0.4895, eval loss 0.4737\n",
      "Epoch 5 train loss: 0.5316, eval loss 0.4745\n",
      "Epoch 6 train loss: 0.5344, eval loss 0.4763\n",
      "Epoch 7 train loss: 0.4671, eval loss 0.4745\n",
      "Epoch 8 train loss: 0.4551, eval loss 0.4741\n",
      "Epoch 9 train loss: 0.4816, eval loss 0.4765\n",
      "Epoch 10 train loss: 0.5176, eval loss 0.4807\n",
      "Epoch 11 train loss: 0.4643, eval loss 0.4813\n"
     ]
    },
    {
     "name": "stderr",
     "output_type": "stream",
     "text": [
      "[I 2024-11-19 14:55:34,916] Trial 12 finished with value: 0.7087378640776699 and parameters: {'layer_size': 317, 'drop_out': 0.49071264983006274, 'lr': 0.0033865066384162995, 'l2_regularisation': 0.0006792655639397977, 'batch_size': 256}. Best is trial 12 with value: 0.7087378640776699.\n"
     ]
    },
    {
     "name": "stdout",
     "output_type": "stream",
     "text": [
      "Early stopping triggered.\n"
     ]
    },
    {
     "name": "stderr",
     "output_type": "stream",
     "text": [
      "[I 2024-11-19 14:55:35,391] Trial 13 pruned. \n"
     ]
    },
    {
     "name": "stdout",
     "output_type": "stream",
     "text": [
      "Epoch 0 train loss: 0.5581, eval loss 0.5393\n"
     ]
    },
    {
     "name": "stderr",
     "output_type": "stream",
     "text": [
      "[I 2024-11-19 14:55:35,840] Trial 14 pruned. \n"
     ]
    },
    {
     "name": "stdout",
     "output_type": "stream",
     "text": [
      "Epoch 0 train loss: 0.7922, eval loss 0.8273\n",
      "Epoch 0 train loss: 0.5805, eval loss 0.4749\n",
      "Epoch 1 train loss: 0.5034, eval loss 0.4731\n",
      "Epoch 2 train loss: 0.4927, eval loss 0.4726\n",
      "Epoch 3 train loss: 0.4885, eval loss 0.4730\n",
      "Epoch 4 train loss: 0.5581, eval loss 0.4738\n",
      "Epoch 5 train loss: 0.4961, eval loss 0.4740\n",
      "Epoch 6 train loss: 0.5686, eval loss 0.4769\n",
      "Epoch 7 train loss: 0.5112, eval loss 0.4775\n",
      "Epoch 8 train loss: 0.4886, eval loss 0.4737\n",
      "Epoch 9 train loss: 0.4518, eval loss 0.4746\n",
      "Epoch 10 train loss: 0.4720, eval loss 0.4779\n",
      "Epoch 11 train loss: 0.4513, eval loss 0.4812\n"
     ]
    },
    {
     "name": "stderr",
     "output_type": "stream",
     "text": [
      "[I 2024-11-19 14:55:41,004] Trial 15 finished with value: 0.7123287671232876 and parameters: {'layer_size': 318, 'drop_out': 0.5339844120460959, 'lr': 0.003102799023240585, 'l2_regularisation': 0.0007765108034950796, 'batch_size': 253}. Best is trial 15 with value: 0.7123287671232876.\n"
     ]
    },
    {
     "name": "stdout",
     "output_type": "stream",
     "text": [
      "Early stopping triggered.\n"
     ]
    },
    {
     "name": "stderr",
     "output_type": "stream",
     "text": [
      "[I 2024-11-19 14:55:41,448] Trial 16 pruned. \n"
     ]
    },
    {
     "name": "stdout",
     "output_type": "stream",
     "text": [
      "Epoch 0 train loss: 0.5608, eval loss 0.4976\n",
      "Epoch 0 train loss: 0.5259, eval loss 0.4759\n",
      "Epoch 1 train loss: 0.5083, eval loss 0.4747\n",
      "Epoch 2 train loss: 0.4979, eval loss 0.4727\n"
     ]
    },
    {
     "name": "stderr",
     "output_type": "stream",
     "text": [
      "[I 2024-11-19 14:55:43,497] Trial 17 pruned. \n"
     ]
    },
    {
     "name": "stdout",
     "output_type": "stream",
     "text": [
      "Epoch 3 train loss: 0.4782, eval loss 0.4756\n"
     ]
    },
    {
     "name": "stderr",
     "output_type": "stream",
     "text": [
      "[I 2024-11-19 14:55:44,217] Trial 18 pruned. \n"
     ]
    },
    {
     "name": "stdout",
     "output_type": "stream",
     "text": [
      "Epoch 0 train loss: 0.6838, eval loss 0.6960\n",
      "Epoch 0 train loss: 0.5434, eval loss 0.4727\n",
      "Epoch 1 train loss: 0.5318, eval loss 0.4706\n",
      "Epoch 2 train loss: 0.5582, eval loss 0.4697\n",
      "Epoch 3 train loss: 0.5088, eval loss 0.4706\n",
      "Epoch 4 train loss: 0.4998, eval loss 0.4758\n",
      "Epoch 5 train loss: 0.5118, eval loss 0.4758\n",
      "Epoch 6 train loss: 0.4702, eval loss 0.4833\n",
      "Epoch 7 train loss: 0.4612, eval loss 0.4833\n",
      "Epoch 8 train loss: 0.4623, eval loss 0.4993\n",
      "Epoch 9 train loss: 0.4596, eval loss 0.5050\n",
      "Epoch 10 train loss: 0.4184, eval loss 0.5118\n",
      "Epoch 11 train loss: 0.4083, eval loss 0.5126\n"
     ]
    },
    {
     "name": "stderr",
     "output_type": "stream",
     "text": [
      "[I 2024-11-19 14:55:49,388] Trial 19 finished with value: 0.6985052861830113 and parameters: {'layer_size': 258, 'drop_out': 0.30778555479059705, 'lr': 0.00605966749713607, 'l2_regularisation': 0.0008163558592807061, 'batch_size': 256}. Best is trial 15 with value: 0.7123287671232876.\n"
     ]
    },
    {
     "name": "stdout",
     "output_type": "stream",
     "text": [
      "Early stopping triggered.\n"
     ]
    },
    {
     "name": "stderr",
     "output_type": "stream",
     "text": [
      "[I 2024-11-19 14:55:49,897] Trial 20 pruned. \n"
     ]
    },
    {
     "name": "stdout",
     "output_type": "stream",
     "text": [
      "Epoch 0 train loss: 0.8513, eval loss 0.8619\n"
     ]
    },
    {
     "name": "stderr",
     "output_type": "stream",
     "text": [
      "[I 2024-11-19 14:55:50,307] Trial 21 pruned. \n"
     ]
    },
    {
     "name": "stdout",
     "output_type": "stream",
     "text": [
      "Epoch 0 train loss: 0.5018, eval loss 0.4915\n"
     ]
    },
    {
     "name": "stderr",
     "output_type": "stream",
     "text": [
      "[I 2024-11-19 14:55:50,816] Trial 22 pruned. \n"
     ]
    },
    {
     "name": "stdout",
     "output_type": "stream",
     "text": [
      "Epoch 0 train loss: 0.6083, eval loss 0.5503\n",
      "Epoch 0 train loss: 0.5078, eval loss 0.4736\n",
      "Epoch 1 train loss: 0.4804, eval loss 0.4717\n",
      "Epoch 2 train loss: 0.4915, eval loss 0.4707\n",
      "Epoch 3 train loss: 0.4830, eval loss 0.4687\n",
      "Epoch 4 train loss: 0.4790, eval loss 0.4722\n",
      "Epoch 5 train loss: 0.4943, eval loss 0.4712\n",
      "Epoch 6 train loss: 0.4102, eval loss 0.4718\n",
      "Epoch 7 train loss: 0.4448, eval loss 0.4738\n",
      "Epoch 8 train loss: 0.4311, eval loss 0.4770\n",
      "Epoch 9 train loss: 0.4022, eval loss 0.4814\n",
      "Epoch 10 train loss: 0.4164, eval loss 0.4820\n",
      "Epoch 11 train loss: 0.3296, eval loss 0.4900\n",
      "Epoch 12 train loss: 0.3873, eval loss 0.4877\n"
     ]
    },
    {
     "name": "stderr",
     "output_type": "stream",
     "text": [
      "[I 2024-11-19 14:55:56,626] Trial 23 finished with value: 0.7067833698030634 and parameters: {'layer_size': 334, 'drop_out': 0.4321531392303569, 'lr': 0.002003428818756337, 'l2_regularisation': 0.0007286269733316828, 'batch_size': 239}. Best is trial 15 with value: 0.7123287671232876.\n"
     ]
    },
    {
     "name": "stdout",
     "output_type": "stream",
     "text": [
      "Early stopping triggered.\n"
     ]
    },
    {
     "name": "stderr",
     "output_type": "stream",
     "text": [
      "[I 2024-11-19 14:55:57,040] Trial 24 pruned. \n"
     ]
    },
    {
     "name": "stdout",
     "output_type": "stream",
     "text": [
      "Epoch 0 train loss: 0.1118, eval loss 0.4776\n",
      "Epoch 0 train loss: 0.5143, eval loss 0.4806\n",
      "Epoch 1 train loss: 0.6381, eval loss 0.4985\n"
     ]
    },
    {
     "name": "stderr",
     "output_type": "stream",
     "text": [
      "[I 2024-11-19 14:55:58,329] Trial 25 pruned. \n"
     ]
    },
    {
     "name": "stdout",
     "output_type": "stream",
     "text": [
      "Epoch 2 train loss: 0.6159, eval loss 0.4871\n"
     ]
    },
    {
     "name": "stderr",
     "output_type": "stream",
     "text": [
      "[I 2024-11-19 14:55:58,959] Trial 26 pruned. \n"
     ]
    },
    {
     "name": "stdout",
     "output_type": "stream",
     "text": [
      "Epoch 0 train loss: 0.5301, eval loss 0.4862\n"
     ]
    },
    {
     "name": "stderr",
     "output_type": "stream",
     "text": [
      "[I 2024-11-19 14:55:59,714] Trial 27 pruned. \n"
     ]
    },
    {
     "name": "stdout",
     "output_type": "stream",
     "text": [
      "Epoch 0 train loss: 0.5821, eval loss 0.5684\n"
     ]
    },
    {
     "name": "stderr",
     "output_type": "stream",
     "text": [
      "[I 2024-11-19 14:56:00,333] Trial 28 pruned. \n"
     ]
    },
    {
     "name": "stdout",
     "output_type": "stream",
     "text": [
      "Epoch 0 train loss: 0.6971, eval loss 0.6940\n"
     ]
    },
    {
     "name": "stderr",
     "output_type": "stream",
     "text": [
      "[I 2024-11-19 14:56:00,869] Trial 29 pruned. \n",
      "[I 2024-11-19 14:56:00,874] A new study created in memory with name: no-name-f36aaf6a-dda7-47a3-b3c0-ed36b8ebbe52\n"
     ]
    },
    {
     "name": "stdout",
     "output_type": "stream",
     "text": [
      "Epoch 0 train loss: 0.7777, eval loss 0.7825\n",
      "Epoch 0 train loss: 0.5299, eval loss 0.4888\n",
      "Epoch 1 train loss: 0.5278, eval loss 0.4749\n",
      "Epoch 2 train loss: 0.4854, eval loss 0.4714\n",
      "Epoch 3 train loss: 0.5159, eval loss 0.4697\n",
      "Epoch 4 train loss: 0.4934, eval loss 0.4689\n",
      "Epoch 5 train loss: 0.5233, eval loss 0.4683\n",
      "Epoch 6 train loss: 0.4946, eval loss 0.4695\n",
      "Epoch 7 train loss: 0.4841, eval loss 0.4692\n",
      "Epoch 8 train loss: 0.5012, eval loss 0.4697\n",
      "Epoch 9 train loss: 0.4904, eval loss 0.4703\n",
      "Epoch 10 train loss: 0.5218, eval loss 0.4709\n",
      "Epoch 11 train loss: 0.4643, eval loss 0.4708\n",
      "Epoch 12 train loss: 0.4903, eval loss 0.4723\n",
      "Epoch 13 train loss: 0.5022, eval loss 0.4729\n",
      "Epoch 14 train loss: 0.4730, eval loss 0.4729\n"
     ]
    },
    {
     "name": "stderr",
     "output_type": "stream",
     "text": [
      "[I 2024-11-19 14:56:09,173] Trial 0 finished with value: 0.708529945553539 and parameters: {'layer_size': 307, 'drop_out': 0.2606255892961755, 'lr': 0.00039055300367497257, 'l2_regularisation': 1.9545452543465568e-05, 'batch_size': 166}. Best is trial 0 with value: 0.708529945553539.\n"
     ]
    },
    {
     "name": "stdout",
     "output_type": "stream",
     "text": [
      "Early stopping triggered.\n",
      "Epoch 0 train loss: 0.6594, eval loss 0.4781\n",
      "Epoch 1 train loss: 0.5587, eval loss 0.4758\n",
      "Epoch 2 train loss: 0.5369, eval loss 0.4768\n",
      "Epoch 3 train loss: 0.5361, eval loss 0.4736\n",
      "Epoch 4 train loss: 0.5087, eval loss 0.4734\n",
      "Epoch 5 train loss: 0.5006, eval loss 0.4725\n",
      "Epoch 6 train loss: 0.5421, eval loss 0.4722\n",
      "Epoch 7 train loss: 0.5449, eval loss 0.4719\n",
      "Epoch 8 train loss: 0.5256, eval loss 0.4767\n",
      "Epoch 9 train loss: 0.4930, eval loss 0.4755\n",
      "Epoch 10 train loss: 0.4960, eval loss 0.4809\n",
      "Epoch 11 train loss: 0.4730, eval loss 0.4805\n",
      "Epoch 12 train loss: 0.5062, eval loss 0.4763\n",
      "Epoch 13 train loss: 0.4471, eval loss 0.4794\n",
      "Epoch 14 train loss: 0.5341, eval loss 0.4808\n",
      "Epoch 15 train loss: 0.5152, eval loss 0.4791\n",
      "Epoch 16 train loss: 0.4959, eval loss 0.4827\n"
     ]
    },
    {
     "name": "stderr",
     "output_type": "stream",
     "text": [
      "[I 2024-11-19 14:56:16,524] Trial 1 finished with value: 0.7104677060133631 and parameters: {'layer_size': 276, 'drop_out': 0.6461627456994353, 'lr': 0.0028635750097139503, 'l2_regularisation': 0.00028863825861208555, 'batch_size': 233}. Best is trial 1 with value: 0.7104677060133631.\n"
     ]
    },
    {
     "name": "stdout",
     "output_type": "stream",
     "text": [
      "Early stopping triggered.\n",
      "Epoch 0 train loss: 0.5597, eval loss 0.5008\n",
      "Epoch 1 train loss: 0.5148, eval loss 0.4825\n",
      "Epoch 2 train loss: 0.5195, eval loss 0.4764\n",
      "Epoch 3 train loss: 0.4936, eval loss 0.4741\n",
      "Epoch 4 train loss: 0.5161, eval loss 0.4741\n",
      "Epoch 5 train loss: 0.5273, eval loss 0.4731\n",
      "Epoch 6 train loss: 0.5203, eval loss 0.4720\n",
      "Epoch 7 train loss: 0.4939, eval loss 0.4712\n",
      "Epoch 8 train loss: 0.5127, eval loss 0.4742\n",
      "Epoch 9 train loss: 0.5035, eval loss 0.4708\n",
      "Epoch 10 train loss: 0.4780, eval loss 0.4709\n",
      "Epoch 11 train loss: 0.4664, eval loss 0.4711\n",
      "Epoch 12 train loss: 0.5251, eval loss 0.4707\n",
      "Epoch 13 train loss: 0.4881, eval loss 0.4708\n",
      "Epoch 14 train loss: 0.4907, eval loss 0.4721\n",
      "Epoch 15 train loss: 0.4677, eval loss 0.4724\n",
      "Epoch 16 train loss: 0.4786, eval loss 0.4739\n",
      "Epoch 17 train loss: 0.4806, eval loss 0.4719\n",
      "Epoch 18 train loss: 0.4674, eval loss 0.4740\n",
      "Epoch 19 train loss: 0.5005, eval loss 0.4738\n",
      "Epoch 20 train loss: 0.5032, eval loss 0.4749\n",
      "Epoch 21 train loss: 0.4568, eval loss 0.4741\n"
     ]
    },
    {
     "name": "stderr",
     "output_type": "stream",
     "text": [
      "[I 2024-11-19 14:56:25,691] Trial 2 finished with value: 0.7076222980659841 and parameters: {'layer_size': 270, 'drop_out': 0.523201840258712, 'lr': 0.0005370631455040952, 'l2_regularisation': 0.0002339385138835027, 'batch_size': 230}. Best is trial 1 with value: 0.7104677060133631.\n"
     ]
    },
    {
     "name": "stdout",
     "output_type": "stream",
     "text": [
      "Early stopping triggered.\n",
      "Epoch 0 train loss: 0.6146, eval loss 0.6178\n",
      "Epoch 1 train loss: 0.5423, eval loss 0.5108\n",
      "Epoch 2 train loss: 0.5316, eval loss 0.4940\n",
      "Epoch 3 train loss: 0.5117, eval loss 0.4855\n",
      "Epoch 4 train loss: 0.5099, eval loss 0.4806\n",
      "Epoch 5 train loss: 0.4730, eval loss 0.4768\n",
      "Epoch 6 train loss: 0.4981, eval loss 0.4741\n",
      "Epoch 7 train loss: 0.4766, eval loss 0.4726\n",
      "Epoch 8 train loss: 0.5031, eval loss 0.4716\n",
      "Epoch 9 train loss: 0.5018, eval loss 0.4706\n",
      "Epoch 10 train loss: 0.4674, eval loss 0.4700\n",
      "Epoch 11 train loss: 0.5269, eval loss 0.4688\n",
      "Epoch 12 train loss: 0.4752, eval loss 0.4684\n",
      "Epoch 13 train loss: 0.4906, eval loss 0.4681\n",
      "Epoch 14 train loss: 0.4734, eval loss 0.4678\n",
      "Epoch 15 train loss: 0.4730, eval loss 0.4672\n",
      "Epoch 16 train loss: 0.5026, eval loss 0.4670\n",
      "Epoch 17 train loss: 0.5283, eval loss 0.4671\n",
      "Epoch 18 train loss: 0.4850, eval loss 0.4671\n",
      "Epoch 19 train loss: 0.4724, eval loss 0.4672\n",
      "Epoch 20 train loss: 0.4832, eval loss 0.4666\n",
      "Epoch 21 train loss: 0.4854, eval loss 0.4662\n",
      "Epoch 22 train loss: 0.4936, eval loss 0.4668\n",
      "Epoch 23 train loss: 0.4765, eval loss 0.4663\n",
      "Epoch 24 train loss: 0.5197, eval loss 0.4663\n",
      "Epoch 25 train loss: 0.4946, eval loss 0.4663\n",
      "Epoch 26 train loss: 0.4908, eval loss 0.4662\n",
      "Epoch 27 train loss: 0.5036, eval loss 0.4661\n",
      "Epoch 28 train loss: 0.4841, eval loss 0.4660\n",
      "Epoch 29 train loss: 0.5061, eval loss 0.4660\n",
      "Epoch 30 train loss: 0.4604, eval loss 0.4660\n",
      "Epoch 31 train loss: 0.5000, eval loss 0.4662\n",
      "Epoch 32 train loss: 0.4525, eval loss 0.4668\n",
      "Epoch 33 train loss: 0.4642, eval loss 0.4664\n",
      "Epoch 34 train loss: 0.4509, eval loss 0.4662\n",
      "Epoch 35 train loss: 0.4811, eval loss 0.4664\n",
      "Epoch 36 train loss: 0.4713, eval loss 0.4665\n",
      "Epoch 37 train loss: 0.4806, eval loss 0.4669\n",
      "Epoch 38 train loss: 0.4644, eval loss 0.4666\n"
     ]
    },
    {
     "name": "stderr",
     "output_type": "stream",
     "text": [
      "[I 2024-11-19 14:56:43,765] Trial 3 finished with value: 0.7114446529080676 and parameters: {'layer_size': 422, 'drop_out': 0.4282007663434707, 'lr': 8.53962537607292e-05, 'l2_regularisation': 0.000655719002498743, 'batch_size': 174}. Best is trial 3 with value: 0.7114446529080676.\n"
     ]
    },
    {
     "name": "stdout",
     "output_type": "stream",
     "text": [
      "Early stopping triggered.\n",
      "Epoch 0 train loss: 0.5592, eval loss 0.4901\n",
      "Epoch 1 train loss: 0.5143, eval loss 0.4979\n",
      "Epoch 2 train loss: 0.6316, eval loss 0.4966\n",
      "Epoch 3 train loss: 0.6509, eval loss 0.4934\n",
      "Epoch 4 train loss: 0.5314, eval loss 0.5165\n",
      "Epoch 5 train loss: 0.6305, eval loss 0.4938\n",
      "Epoch 6 train loss: 0.8112, eval loss 0.5018\n",
      "Epoch 7 train loss: 0.5070, eval loss 0.5159\n",
      "Epoch 8 train loss: 0.4158, eval loss 0.5224\n",
      "Epoch 9 train loss: 0.4270, eval loss 0.5263\n"
     ]
    },
    {
     "name": "stderr",
     "output_type": "stream",
     "text": [
      "[I 2024-11-19 14:56:52,642] Trial 4 finished with value: 0.7008862629246676 and parameters: {'layer_size': 313, 'drop_out': 0.44419591239322354, 'lr': 0.012721287844050931, 'l2_regularisation': 5.669009472661746e-05, 'batch_size': 80}. Best is trial 3 with value: 0.7114446529080676.\n"
     ]
    },
    {
     "name": "stdout",
     "output_type": "stream",
     "text": [
      "Early stopping triggered.\n"
     ]
    },
    {
     "name": "stderr",
     "output_type": "stream",
     "text": [
      "[I 2024-11-19 14:56:53,156] Trial 5 pruned. \n"
     ]
    },
    {
     "name": "stdout",
     "output_type": "stream",
     "text": [
      "Epoch 0 train loss: 0.7979, eval loss 0.8105\n"
     ]
    },
    {
     "name": "stderr",
     "output_type": "stream",
     "text": [
      "[I 2024-11-19 14:56:53,892] Trial 6 pruned. \n"
     ]
    },
    {
     "name": "stdout",
     "output_type": "stream",
     "text": [
      "Epoch 0 train loss: 0.8225, eval loss 0.8389\n"
     ]
    },
    {
     "name": "stderr",
     "output_type": "stream",
     "text": [
      "[I 2024-11-19 14:56:54,567] Trial 7 pruned. \n"
     ]
    },
    {
     "name": "stdout",
     "output_type": "stream",
     "text": [
      "Epoch 0 train loss: 0.8243, eval loss 0.8588\n"
     ]
    },
    {
     "name": "stderr",
     "output_type": "stream",
     "text": [
      "[I 2024-11-19 14:56:55,334] Trial 8 pruned. \n"
     ]
    },
    {
     "name": "stdout",
     "output_type": "stream",
     "text": [
      "Epoch 0 train loss: 0.8520, eval loss 0.8618\n"
     ]
    },
    {
     "name": "stderr",
     "output_type": "stream",
     "text": [
      "[I 2024-11-19 14:56:56,058] Trial 9 pruned. \n"
     ]
    },
    {
     "name": "stdout",
     "output_type": "stream",
     "text": [
      "Epoch 0 train loss: 0.7894, eval loss 0.8146\n",
      "Epoch 0 train loss: 0.5555, eval loss 0.4777\n",
      "Epoch 1 train loss: 0.5020, eval loss 0.4701\n",
      "Epoch 2 train loss: 0.4810, eval loss 0.4689\n",
      "Epoch 3 train loss: 0.5206, eval loss 0.4683\n",
      "Epoch 4 train loss: 0.4851, eval loss 0.4675\n",
      "Epoch 5 train loss: 0.5066, eval loss 0.4683\n",
      "Epoch 6 train loss: 0.4998, eval loss 0.4683\n",
      "Epoch 7 train loss: 0.4969, eval loss 0.4694\n",
      "Epoch 8 train loss: 0.4773, eval loss 0.4706\n",
      "Epoch 9 train loss: 0.4780, eval loss 0.4690\n",
      "Epoch 10 train loss: 0.4750, eval loss 0.4722\n",
      "Epoch 11 train loss: 0.4948, eval loss 0.4722\n",
      "Epoch 12 train loss: 0.4263, eval loss 0.4738\n",
      "Epoch 13 train loss: 0.4139, eval loss 0.4743\n"
     ]
    },
    {
     "name": "stderr",
     "output_type": "stream",
     "text": [
      "[I 2024-11-19 14:57:06,001] Trial 10 finished with value: 0.7111442415206858 and parameters: {'layer_size': 296, 'drop_out': 0.3211775992276825, 'lr': 0.0005311493631120954, 'l2_regularisation': 0.0005860973460324944, 'batch_size': 110}. Best is trial 3 with value: 0.7114446529080676.\n"
     ]
    },
    {
     "name": "stdout",
     "output_type": "stream",
     "text": [
      "Early stopping triggered.\n"
     ]
    },
    {
     "name": "stderr",
     "output_type": "stream",
     "text": [
      "[I 2024-11-19 14:57:06,430] Trial 11 pruned. \n"
     ]
    },
    {
     "name": "stdout",
     "output_type": "stream",
     "text": [
      "Epoch 0 train loss: 0.8350, eval loss 0.8588\n"
     ]
    },
    {
     "name": "stderr",
     "output_type": "stream",
     "text": [
      "[I 2024-11-19 14:57:06,836] Trial 12 pruned. \n"
     ]
    },
    {
     "name": "stdout",
     "output_type": "stream",
     "text": [
      "Epoch 0 train loss: 0.9909, eval loss 0.7725\n"
     ]
    },
    {
     "name": "stderr",
     "output_type": "stream",
     "text": [
      "[I 2024-11-19 14:57:07,393] Trial 13 pruned. \n"
     ]
    },
    {
     "name": "stdout",
     "output_type": "stream",
     "text": [
      "Epoch 0 train loss: 0.6639, eval loss 0.6640\n",
      "Epoch 0 train loss: 0.5428, eval loss 0.4733\n",
      "Epoch 1 train loss: 0.5435, eval loss 0.4703\n",
      "Epoch 2 train loss: 0.5202, eval loss 0.4691\n",
      "Epoch 3 train loss: 0.4751, eval loss 0.4683\n",
      "Epoch 4 train loss: 0.4366, eval loss 0.4697\n",
      "Epoch 5 train loss: 0.4858, eval loss 0.4690\n",
      "Epoch 6 train loss: 0.5069, eval loss 0.4715\n",
      "Epoch 7 train loss: 0.4674, eval loss 0.4727\n",
      "Epoch 8 train loss: 0.4354, eval loss 0.4790\n"
     ]
    },
    {
     "name": "stderr",
     "output_type": "stream",
     "text": [
      "[I 2024-11-19 14:57:12,017] Trial 14 pruned. \n"
     ]
    },
    {
     "name": "stdout",
     "output_type": "stream",
     "text": [
      "Epoch 9 train loss: 0.3933, eval loss 0.4794\n"
     ]
    },
    {
     "name": "stderr",
     "output_type": "stream",
     "text": [
      "[I 2024-11-19 14:57:12,404] Trial 15 pruned. \n"
     ]
    },
    {
     "name": "stdout",
     "output_type": "stream",
     "text": [
      "Epoch 0 train loss: 0.8621, eval loss 0.8621\n"
     ]
    },
    {
     "name": "stderr",
     "output_type": "stream",
     "text": [
      "[I 2024-11-19 14:57:13,223] Trial 16 pruned. \n"
     ]
    },
    {
     "name": "stdout",
     "output_type": "stream",
     "text": [
      "Epoch 0 train loss: 0.9595, eval loss 0.8678\n"
     ]
    },
    {
     "name": "stderr",
     "output_type": "stream",
     "text": [
      "[I 2024-11-19 14:57:13,856] Trial 17 pruned. \n"
     ]
    },
    {
     "name": "stdout",
     "output_type": "stream",
     "text": [
      "Epoch 0 train loss: 0.7945, eval loss 0.7828\n"
     ]
    },
    {
     "name": "stderr",
     "output_type": "stream",
     "text": [
      "[I 2024-11-19 14:57:14,487] Trial 18 pruned. \n"
     ]
    },
    {
     "name": "stdout",
     "output_type": "stream",
     "text": [
      "Epoch 0 train loss: 0.8784, eval loss 0.8822\n"
     ]
    },
    {
     "name": "stderr",
     "output_type": "stream",
     "text": [
      "[I 2024-11-19 14:57:15,067] Trial 19 pruned. \n"
     ]
    },
    {
     "name": "stdout",
     "output_type": "stream",
     "text": [
      "Epoch 0 train loss: 0.7888, eval loss 0.8075\n"
     ]
    },
    {
     "name": "stderr",
     "output_type": "stream",
     "text": [
      "[I 2024-11-19 14:57:15,780] Trial 20 pruned. \n"
     ]
    },
    {
     "name": "stdout",
     "output_type": "stream",
     "text": [
      "Epoch 0 train loss: 0.8405, eval loss 0.8685\n"
     ]
    },
    {
     "name": "stderr",
     "output_type": "stream",
     "text": [
      "[I 2024-11-19 14:57:16,177] Trial 21 pruned. \n"
     ]
    },
    {
     "name": "stdout",
     "output_type": "stream",
     "text": [
      "Epoch 0 train loss: 0.8573, eval loss 0.8699\n",
      "Epoch 0 train loss: 0.5581, eval loss 0.4881\n",
      "Epoch 1 train loss: 0.5087, eval loss 0.4960\n"
     ]
    },
    {
     "name": "stderr",
     "output_type": "stream",
     "text": [
      "[I 2024-11-19 14:57:17,588] Trial 22 pruned. \n"
     ]
    },
    {
     "name": "stdout",
     "output_type": "stream",
     "text": [
      "Epoch 2 train loss: 0.5246, eval loss 0.5073\n"
     ]
    },
    {
     "name": "stderr",
     "output_type": "stream",
     "text": [
      "[I 2024-11-19 14:57:18,039] Trial 23 pruned. \n"
     ]
    },
    {
     "name": "stdout",
     "output_type": "stream",
     "text": [
      "Epoch 0 train loss: 0.8325, eval loss 0.7874\n"
     ]
    },
    {
     "name": "stderr",
     "output_type": "stream",
     "text": [
      "[I 2024-11-19 14:57:18,760] Trial 24 pruned. \n"
     ]
    },
    {
     "name": "stdout",
     "output_type": "stream",
     "text": [
      "Epoch 0 train loss: 0.7274, eval loss 0.7310\n",
      "Epoch 0 train loss: 0.1864, eval loss 0.4770\n",
      "Epoch 1 train loss: 0.1565, eval loss 0.4713\n",
      "Epoch 2 train loss: 0.1130, eval loss 0.4693\n",
      "Epoch 3 train loss: 0.1883, eval loss 0.4694\n",
      "Epoch 4 train loss: 0.1175, eval loss 0.4707\n",
      "Epoch 5 train loss: 0.0901, eval loss 0.4680\n",
      "Epoch 6 train loss: 0.1505, eval loss 0.4693\n",
      "Epoch 7 train loss: 0.1267, eval loss 0.4689\n",
      "Epoch 8 train loss: 0.1253, eval loss 0.4706\n",
      "Epoch 9 train loss: 0.1129, eval loss 0.4721\n",
      "Epoch 10 train loss: 0.0973, eval loss 0.4734\n",
      "Epoch 11 train loss: 0.0979, eval loss 0.4731\n",
      "Epoch 12 train loss: 0.1405, eval loss 0.4739\n",
      "Epoch 13 train loss: 0.0903, eval loss 0.4740\n",
      "Epoch 14 train loss: 0.0999, eval loss 0.4754\n"
     ]
    },
    {
     "name": "stderr",
     "output_type": "stream",
     "text": [
      "[I 2024-11-19 14:57:31,317] Trial 25 finished with value: 0.7092400998929718 and parameters: {'layer_size': 452, 'drop_out': 0.5527451934970222, 'lr': 0.0006822851894135758, 'l2_regularisation': 0.0003696903855200446, 'batch_size': 84}. Best is trial 3 with value: 0.7114446529080676.\n"
     ]
    },
    {
     "name": "stdout",
     "output_type": "stream",
     "text": [
      "Early stopping triggered.\n"
     ]
    },
    {
     "name": "stderr",
     "output_type": "stream",
     "text": [
      "[I 2024-11-19 14:57:32,167] Trial 26 pruned. \n"
     ]
    },
    {
     "name": "stdout",
     "output_type": "stream",
     "text": [
      "Epoch 0 train loss: 0.8753, eval loss 0.8665\n"
     ]
    },
    {
     "name": "stderr",
     "output_type": "stream",
     "text": [
      "[I 2024-11-19 14:57:32,665] Trial 27 pruned. \n"
     ]
    },
    {
     "name": "stdout",
     "output_type": "stream",
     "text": [
      "Epoch 0 train loss: 0.8675, eval loss 0.8801\n"
     ]
    },
    {
     "name": "stderr",
     "output_type": "stream",
     "text": [
      "[I 2024-11-19 14:57:33,452] Trial 28 pruned. \n"
     ]
    },
    {
     "name": "stdout",
     "output_type": "stream",
     "text": [
      "Epoch 0 train loss: 0.2938, eval loss 0.4923\n"
     ]
    },
    {
     "name": "stderr",
     "output_type": "stream",
     "text": [
      "[I 2024-11-19 14:57:34,257] Trial 29 pruned. \n"
     ]
    },
    {
     "name": "stdout",
     "output_type": "stream",
     "text": [
      "Epoch 0 train loss: 0.9286, eval loss 0.8872\n"
     ]
    },
    {
     "name": "stderr",
     "output_type": "stream",
     "text": [
      "C:\\Users\\Dominik\\AppData\\Local\\Temp\\ipykernel_1260\\1378906181.py:215: UserWarning: To copy construct from a tensor, it is recommended to use sourceTensor.clone().detach() or sourceTensor.clone().detach().requires_grad_(True), rather than torch.tensor(sourceTensor).\n",
      "  X_test_tensor = torch.tensor(X_test, dtype=torch.float32).to(device)\n",
      "C:\\Users\\Dominik\\AppData\\Local\\Temp\\ipykernel_1260\\1378906181.py:216: UserWarning: To copy construct from a tensor, it is recommended to use sourceTensor.clone().detach() or sourceTensor.clone().detach().requires_grad_(True), rather than torch.tensor(sourceTensor).\n",
      "  y_test_tensor = torch.tensor(y_test, dtype=torch.float32).to(device)\n"
     ]
    },
    {
     "name": "stdout",
     "output_type": "stream",
     "text": [
      "Epoch 0 train loss: 0.5522, eval loss 0.4763\n",
      "Epoch 1 train loss: 0.5400, eval loss 0.4747\n",
      "Epoch 2 train loss: 0.4873, eval loss 0.4739\n",
      "Epoch 3 train loss: 0.5391, eval loss 0.4713\n",
      "Epoch 4 train loss: 0.5120, eval loss 0.4718\n",
      "Epoch 5 train loss: 0.4883, eval loss 0.4714\n",
      "Epoch 6 train loss: 0.4866, eval loss 0.4741\n",
      "Epoch 7 train loss: 0.5369, eval loss 0.4747\n",
      "Epoch 8 train loss: 0.4603, eval loss 0.4772\n",
      "Epoch 9 train loss: 0.4653, eval loss 0.4779\n",
      "Epoch 10 train loss: 0.4953, eval loss 0.4815\n",
      "Epoch 11 train loss: 0.4546, eval loss 0.4810\n",
      "Epoch 12 train loss: 0.4115, eval loss 0.4871\n",
      "Early stopping\n",
      "Epoch 0 train loss: 0.6115, eval loss 0.6190\n",
      "Epoch 1 train loss: 0.5517, eval loss 0.5149\n",
      "Epoch 2 train loss: 0.5388, eval loss 0.4979\n",
      "Epoch 3 train loss: 0.5271, eval loss 0.4890\n",
      "Epoch 4 train loss: 0.5225, eval loss 0.4833\n",
      "Epoch 5 train loss: 0.5100, eval loss 0.4796\n",
      "Epoch 6 train loss: 0.4951, eval loss 0.4770\n",
      "Epoch 7 train loss: 0.4917, eval loss 0.4750\n",
      "Epoch 8 train loss: 0.5316, eval loss 0.4737\n",
      "Epoch 9 train loss: 0.4996, eval loss 0.4729\n",
      "Epoch 10 train loss: 0.4760, eval loss 0.4720\n",
      "Epoch 11 train loss: 0.4879, eval loss 0.4716\n",
      "Epoch 12 train loss: 0.5030, eval loss 0.4707\n",
      "Epoch 13 train loss: 0.4990, eval loss 0.4700\n",
      "Epoch 14 train loss: 0.4924, eval loss 0.4697\n",
      "Epoch 15 train loss: 0.5120, eval loss 0.4696\n",
      "Epoch 16 train loss: 0.4920, eval loss 0.4693\n",
      "Epoch 17 train loss: 0.5001, eval loss 0.4692\n",
      "Epoch 18 train loss: 0.4841, eval loss 0.4689\n",
      "Epoch 19 train loss: 0.5024, eval loss 0.4689\n",
      "Epoch 20 train loss: 0.4834, eval loss 0.4688\n",
      "Epoch 21 train loss: 0.5094, eval loss 0.4684\n",
      "Epoch 22 train loss: 0.4965, eval loss 0.4684\n",
      "Epoch 23 train loss: 0.4576, eval loss 0.4686\n",
      "Epoch 24 train loss: 0.5214, eval loss 0.4682\n",
      "Epoch 25 train loss: 0.5003, eval loss 0.4685\n",
      "Epoch 26 train loss: 0.4941, eval loss 0.4687\n",
      "Epoch 27 train loss: 0.4777, eval loss 0.4685\n",
      "Epoch 28 train loss: 0.4861, eval loss 0.4686\n",
      "Epoch 29 train loss: 0.4990, eval loss 0.4686\n",
      "Epoch 30 train loss: 0.4726, eval loss 0.4688\n",
      "Epoch 31 train loss: 0.4769, eval loss 0.4688\n",
      "Epoch 32 train loss: 0.4973, eval loss 0.4691\n",
      "Epoch 33 train loss: 0.5326, eval loss 0.4690\n",
      "Early stopping\n",
      "Best trial:\n",
      "  Value:  0.7123287671232876\n",
      "Best parameters: {'layer_size': 318, 'drop_out': 0.5339844120460959, 'lr': 0.003102799023240585, 'l2_regularisation': 0.0007765108034950796, 'batch_size': 253}\n",
      "AUROC: 90.64%\n",
      "F1: 69.28%\n",
      "Precision: 66.16%\n",
      "Recall: 72.70%\n",
      "-------------------------------------------\n",
      "Best random trial:\n",
      "Value: 0.7114446529080676\n",
      "Best parameters (Random Search): {'layer_size': 422, 'drop_out': 0.4282007663434707, 'lr': 8.53962537607292e-05, 'l2_regularisation': 0.000655719002498743, 'batch_size': 174}\n",
      "AUROC: 90.92%\n",
      "F1: 70.34%\n",
      "Precision: 64.75%\n",
      "Recall: 76.98%\n"
     ]
    }
   ],
   "execution_count": 59
  },
  {
   "metadata": {},
   "cell_type": "markdown",
   "source": "Analizująć powyższe wyniki można zauważyć, iż wybór hiperparamterów za pomocą modelu optuna z autorskim zakresem parametrów wpłynał na minimalne pogorszenie wyników modelu(jedynie precision wzrosło o około 1%), natomiast model z losowym zakresem parametrów pozytywnie wpłynął na wyniki deliktanie je poprawiając względem modelu bez treningu hiperparametrów.Jednak wzrost osiągów modelu(losowego) z trenowanymi hiperparamterami do czasu i zasobów potrzebnych na znalezienie ich zakresów jest moim zdaniem nie opłacalna."
  }
 ],
 "metadata": {
  "colab": {
   "collapsed_sections": [],
   "provenance": []
  },
  "jupytext": {
   "formats": "ipynb,py:percent"
  },
  "kernelspec": {
   "display_name": "Python 3 (ipykernel)",
   "language": "python",
   "name": "python3"
  },
  "language_info": {
   "codemirror_mode": {
    "name": "ipython",
    "version": 3
   },
   "file_extension": ".py",
   "mimetype": "text/x-python",
   "name": "python",
   "nbconvert_exporter": "python",
   "pygments_lexer": "ipython3",
   "version": "3.11.5"
  },
  "vscode": {
   "interpreter": {
    "hash": "a5d7af91182035c53be6efb3f9b18ffc3e259c9c524705249407647c970de949"
   }
  }
 },
 "nbformat": 4,
 "nbformat_minor": 4
}
